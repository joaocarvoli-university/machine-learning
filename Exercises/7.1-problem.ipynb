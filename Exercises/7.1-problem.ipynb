{
 "cells": [
  {
   "cell_type": "markdown",
   "id": "91141f77",
   "metadata": {},
   "source": [
    "# **In this notebook We'll explore the Lasso and Rigde regularization.**\n",
    "\n",
    "\n",
    "- The `Boston House Prices` dataset from `sklearn` will be used\n",
    "\n",
    "- [`Ridge and Lasso Regression: L1 and L2 Regularization - Towards Data Science`](https://towardsdatascience.com/ridge-and-lasso-regression-a-complete-guide-with-python-scikit-learn-e20e34bcbf0b)"
   ]
  },
  {
   "cell_type": "markdown",
   "id": "9bc184f5",
   "metadata": {},
   "source": [
    "### 1. Lasso: "
   ]
  },
  {
   "cell_type": "code",
   "execution_count": 1,
   "id": "4b01a0f0",
   "metadata": {},
   "outputs": [],
   "source": [
    "import numpy as np\n",
    "import matplotlib.pyplot as plt\n",
    "from sklearn.linear_model import Lasso\n",
    "from sklearn.linear_model import Ridge\n",
    "from sklearn.model_selection import train_test_split"
   ]
  },
  {
   "cell_type": "code",
   "execution_count": 2,
   "id": "b4d05d99",
   "metadata": {},
   "outputs": [],
   "source": [
    "X, y = load_boston(return_X_y=True)"
   ]
  },
  {
   "cell_type": "code",
   "execution_count": 3,
   "id": "382cd883",
   "metadata": {},
   "outputs": [
    {
     "name": "stdout",
     "output_type": "stream",
     "text": [
      "The shape of X, our features is: (506, 13)\n",
      "The shape of y, our label is: (506,)\n"
     ]
    }
   ],
   "source": [
    "print(f'The shape of X, our features is: {X.shape}')\n",
    "print(f'The shape of y, our label is: {y.shape}')"
   ]
  },
  {
   "cell_type": "markdown",
   "id": "e472d8c2",
   "metadata": {},
   "source": [
    "### *The examples bellow will be alpha = 0.1*"
   ]
  },
  {
   "cell_type": "code",
   "execution_count": 4,
   "id": "30867330",
   "metadata": {},
   "outputs": [
    {
     "name": "stdout",
     "output_type": "stream",
     "text": [
      "The coeficients of Lasso Normalized are: \n",
      "[-0.          0.         -0.          0.         -0.          3.18852894\n",
      " -0.         -0.         -0.         -0.         -0.3066901   0.\n",
      " -0.48666476]\n",
      "\n",
      "The coeficients of Lasso Unnormalized are: \n",
      "[-1.22854422e-01  3.86385849e-02 -4.97188385e-04  1.48353759e+00\n",
      " -0.00000000e+00  3.89367421e+00 -1.96048179e-02 -1.10561397e+00\n",
      "  2.16673479e-01 -1.05844004e-02 -7.44014516e-01  1.23959059e-02\n",
      " -6.02281637e-01]\n",
      "\n",
      "The score of Lasso Normalized is: 0.5950229535328551\n",
      "The score of Lasso Unnormalized is: 0.6918147952283057\n"
     ]
    }
   ],
   "source": [
    "X_train, X_test, y_train, y_test = train_test_split(X, y, test_size = 0.3, random_state=42)\n",
    "\n",
    "lasso_nor = Lasso(alpha=0.1, normalize=True)\n",
    "lasso_unnor = Lasso(alpha=0.1, normalize=False)\n",
    "\n",
    "lasso_nor.fit(X_train, y_train)\n",
    "lasso_unnor.fit(X_train, y_train)\n",
    "print(f'The coeficients of Lasso Normalized are: \\n{lasso_nor.coef_}\\n')\n",
    "print(f'The coeficients of Lasso Unnormalized are: \\n{lasso_unnor.coef_}\\n')\n",
    "\n",
    "lasso_pred = lasso_nor.predict(X_test)\n",
    "print(f'The score of Lasso Normalized is: {lasso_nor.score(X_test, y_test)}')\n",
    "print(f'The score of Lasso Unnormalized is: {lasso_unnor.score(X_test, y_test)}')"
   ]
  },
  {
   "cell_type": "markdown",
   "id": "1bce1dd6",
   "metadata": {},
   "source": [
    "#### `Normalized:`\n",
    "#### *We can see that when the Lasso uses the normalization and the alpha is 0.1, it tends to generalize the model and it's can be bad but depends on the test set. This model discards very features and it's relatively BAD!*\n",
    "\n",
    "#### `Unnormalized:`\n",
    "#### *We can see that when the Lasso is unnormalized and the alpha is 0.1, it tends to NOT generalize the model and discard ANY FEATURE it's can be good but depends on the test set.*"
   ]
  },
  {
   "cell_type": "markdown",
   "id": "30bd56dc",
   "metadata": {},
   "source": [
    "### *The examples bellow will be alpha = 0.4*"
   ]
  },
  {
   "cell_type": "code",
   "execution_count": 5,
   "id": "4f89f77f",
   "metadata": {},
   "outputs": [
    {
     "name": "stdout",
     "output_type": "stream",
     "text": [
      "The coeficients of Lasso Normalized are: \n",
      "[-0.  0. -0.  0. -0.  0. -0.  0. -0. -0. -0.  0. -0.]\n",
      "\n",
      "The coeficients of Lasso Unnormalized are: \n",
      "[-0.11576163  0.0382639  -0.          0.         -0.          3.02904787\n",
      " -0.00594293 -0.94591883  0.21832368 -0.0105426  -0.73995647  0.01213879\n",
      " -0.66980952]\n",
      "\n",
      "The score of Lasso Normalized is: -0.03469753992352409\n",
      "The score of Lasso Unnormalized is: 0.6868261870937582\n"
     ]
    }
   ],
   "source": [
    "lasso_nor2 = Lasso(alpha=0.4, normalize=True)\n",
    "lasso_unnor2 = Lasso(alpha=0.4, normalize=False)\n",
    "\n",
    "lasso_nor2.fit(X_train, y_train)\n",
    "lasso_unnor2.fit(X_train, y_train)\n",
    "print(f'The coeficients of Lasso Normalized are: \\n{lasso_nor2.coef_}\\n')\n",
    "print(f'The coeficients of Lasso Unnormalized are: \\n{lasso_unnor2.coef_}\\n')\n",
    "\n",
    "lasso_pred2 = lasso_nor2.predict(X_test)\n",
    "print(f'The score of Lasso Normalized is: {lasso_nor2.score(X_test, y_test)}')\n",
    "print(f'The score of Lasso Unnormalized is: {lasso_unnor2.score(X_test, y_test)}')"
   ]
  },
  {
   "cell_type": "markdown",
   "id": "3148c9a5",
   "metadata": {},
   "source": [
    "#### `Normalized:`\n",
    "#### *We can see that when the Lasso uses the normalization and the alpha is 0.4, it tends to generalize the model and it's can be worse but depends on the test set. This model discards all features and it's VERY BAD!*\n",
    "\n",
    "#### `Unnormalized:`\n",
    "#### *We can see that when the Lasso is unnormalized and the alpha is 0.4, it tends to NOT generalize the model and it's can be good but depends on the test set. This model discards just some features.*"
   ]
  },
  {
   "cell_type": "markdown",
   "id": "994c199a",
   "metadata": {},
   "source": [
    "## 2. Rigde"
   ]
  },
  {
   "cell_type": "markdown",
   "id": "098b2735",
   "metadata": {},
   "source": [
    "### *Normalized*"
   ]
  },
  {
   "cell_type": "code",
   "execution_count": 6,
   "id": "0c4dcbd0",
   "metadata": {},
   "outputs": [],
   "source": [
    "alpha_range = np.logspace(-4, 0, 5)\n",
    "score_ridge_nor = []\n",
    "\n",
    "for alpha in alpha_range:\n",
    "    ridge = Ridge(alpha=alpha, normalize=True)\n",
    "    ridge.fit(X_train, y_train)\n",
    "    ridge_pred = ridge.predict(X_test)\n",
    "    score_ridge_nor.append(r2_score(y_test, ridge_pred))"
   ]
  },
  {
   "cell_type": "code",
   "execution_count": 7,
   "id": "22937982",
   "metadata": {},
   "outputs": [
    {
     "data": {
      "text/plain": [
       "array([1.e-04, 1.e-03, 1.e-02, 1.e-01, 1.e+00])"
      ]
     },
     "execution_count": 7,
     "metadata": {},
     "output_type": "execute_result"
    }
   ],
   "source": [
    "alpha_range"
   ]
  },
  {
   "cell_type": "code",
   "execution_count": 8,
   "id": "fd775b8a",
   "metadata": {},
   "outputs": [
    {
     "data": {
      "text/plain": [
       "[0.7112111590981027,\n",
       " 0.7110775704734216,\n",
       " 0.7097594050919813,\n",
       " 0.6996938275127313,\n",
       " 0.6241064474736235]"
      ]
     },
     "execution_count": 8,
     "metadata": {},
     "output_type": "execute_result"
    }
   ],
   "source": [
    "score_ridge_nor"
   ]
  },
  {
   "cell_type": "markdown",
   "id": "0d25c067",
   "metadata": {},
   "source": [
    "### Plotting alpha distribuition:"
   ]
  },
  {
   "cell_type": "code",
   "execution_count": 17,
   "id": "c664e0a2",
   "metadata": {},
   "outputs": [
    {
     "data": {
      "image/png": "[encoded data removed]",
      "text/plain": [
       "<Figure size 576x396 with 1 Axes>"
      ]
     },
     "metadata": {},
     "output_type": "display_data"
    }
   ],
   "source": [
    "plt.title('Alpha distribuition')\n",
    "plt.scatter(score_ridge_nor, alpha_range)\n",
    "plt.plot(score_ridge_nor, alpha_range)\n",
    "plt.xlabel('Score number')\n",
    "plt.ylabel('Aplha')\n",
    "plt.style.use('seaborn')\n",
    "plt.show()"
   ]
  },
  {
   "cell_type": "markdown",
   "id": "99ed8742",
   "metadata": {},
   "source": [
    "### *Unnormalized*"
   ]
  },
  {
   "cell_type": "code",
   "execution_count": 10,
   "id": "467e74da",
   "metadata": {},
   "outputs": [],
   "source": [
    "alpha_range = np.logspace(-4, 0, 5)\n",
    "score_ridge_unnor = []\n",
    "\n",
    "for alpha in alpha_range:\n",
    "    ridge = Ridge(alpha=alpha, normalize=False)\n",
    "    ridge.fit(X_train, y_train)\n",
    "    ridge_pred = ridge.predict(X_test)\n",
    "    score_ridge_unnor.append(r2_score(y_test, ridge_pred))"
   ]
  },
  {
   "cell_type": "code",
   "execution_count": 11,
   "id": "939f970b",
   "metadata": {},
   "outputs": [
    {
     "data": {
      "text/plain": [
       "array([1.e-04, 1.e-03, 1.e-02, 1.e-01, 1.e+00])"
      ]
     },
     "execution_count": 11,
     "metadata": {},
     "output_type": "execute_result"
    }
   ],
   "source": [
    "alpha_range"
   ]
  },
  {
   "cell_type": "code",
   "execution_count": 12,
   "id": "61f904eb",
   "metadata": {},
   "outputs": [
    {
     "data": {
      "text/plain": [
       "[0.7112250981524468,\n",
       " 0.7112169289517228,\n",
       " 0.7111351633163308,\n",
       " 0.7103178206391327,\n",
       " 0.7041586727559435]"
      ]
     },
     "execution_count": 12,
     "metadata": {},
     "output_type": "execute_result"
    }
   ],
   "source": [
    "score_ridge_unnor"
   ]
  },
  {
   "cell_type": "markdown",
   "id": "39126119",
   "metadata": {},
   "source": [
    "### Plotting alpha distribuition:"
   ]
  },
  {
   "cell_type": "code",
   "execution_count": 16,
   "id": "0ee18ecc",
   "metadata": {},
   "outputs": [
    {
     "data": {
      "image/png": "[encoded data removed]",
      "text/plain": [
       "<Figure size 576x396 with 1 Axes>"
      ]
     },
     "metadata": {},
     "output_type": "display_data"
    }
   ],
   "source": [
    "plt.title('Alpha distribuition')\n",
    "plt.scatter(score_ridge_unnor, alpha_range)\n",
    "plt.plot(score_ridge_unnor, alpha_range)\n",
    "plt.xlabel('Score number')\n",
    "plt.ylabel('Aplha')\n",
    "plt.style.use('seaborn')\n",
    "plt.show()"
   ]
  },
  {
   "cell_type": "markdown",
   "id": "13e37f24",
   "metadata": {},
   "source": [
    "### *Selecting the best hyperparameters to make a model and rate it to see the difference between the score of the previous hyperparameters.*\n",
    "- The best parameter is when alpha = `1` and normalize = `True`."
   ]
  },
  {
   "cell_type": "code",
   "execution_count": 14,
   "id": "5dde1b77",
   "metadata": {},
   "outputs": [
    {
     "name": "stdout",
     "output_type": "stream",
     "text": [
      "The R2 score is: 0.6241064474736235\n"
     ]
    }
   ],
   "source": [
    "ridge_final = Ridge(alpha=1, normalize=True, max_iter = 10)\n",
    "ridge_final.fit(X_train, y_train)\n",
    "ridge_pred_final = ridge_final.predict(X_test)\n",
    "print(f'The R2 score is: {r2_score(y_test, ridge_pred_final)}')"
   ]
  }
 ],
 "metadata": {
  "kernelspec": {
   "display_name": "Python 3 (ipykernel)",
   "language": "python",
   "name": "python3"
  },
  "language_info": {
   "codemirror_mode": {
    "name": "ipython",
    "version": 3
   },
   "file_extension": ".py",
   "mimetype": "text/x-python",
   "name": "python",
   "nbconvert_exporter": "python",
   "pygments_lexer": "ipython3",
   "version": "3.9.5"
  }
 },
 "nbformat": 4,
 "nbformat_minor": 5
}
