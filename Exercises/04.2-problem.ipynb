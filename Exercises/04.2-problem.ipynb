{
 "cells": [
  {
   "cell_type": "markdown",
   "id": "09dd30de",
   "metadata": {},
   "source": [
    "# Problem 04.1:\n",
    "### Previously in the ```Problem 03.2``` we resolved the problem about White Wine Classification and now we'll resolve the same problem but with Regression. \n",
    "### *Now, we'll use the KNN algorithm for regression*.   "
   ]
  },
  {
   "cell_type": "markdown",
   "id": "38e57470",
   "metadata": {},
   "source": [
    "* Dataset: [Wine Quality](https://archive.ics.uci.edu/ml/datasets/wine+quality)\n",
    "* The objective of this problem is to classify the wine quality.\n",
    "- This dataset belogs to:\n",
    "P. Cortez, A. Cerdeira, F. Almeida, T. Matos and J. Reis. \n",
    "  Modeling wine preferences by data mining from physicochemical properties.\n",
    "  In Decision Support Systems, Elsevier, 47(4):547-553. ISSN: 0167-9236.\n",
    "\n",
    "  Available at: \n",
    "  * [@Elsevier](http://dx.doi.org/10.1016/j.dss.2009.05.016)\n",
    "  * [Pre-press (pdf)](http://www3.dsi.uminho.pt/pcortez/winequality09.pdf)\n",
    "  * [bib](http://www3.dsi.uminho.pt/pcortez/dss09.bib)"
   ]
  },
  {
   "cell_type": "markdown",
   "id": "13b3f366",
   "metadata": {},
   "source": [
    "## 1. Imports: "
   ]
  },
  {
   "cell_type": "code",
   "execution_count": 1,
   "id": "a1ff6852",
   "metadata": {},
   "outputs": [],
   "source": [
    "from sklearn import neighbors\n",
    "from sklearn import linear_model\n",
    "from sklearn.model_selection import train_test_split\n",
    "from sklearn.metrics import mean_squared_error, mean_absolute_error\n",
    "import matplotlib.pyplot as plt\n",
    "import seaborn as sns\n",
    "import numpy as np\n",
    "import pandas as pd\n",
    "pd.set_option('mode.chained_assignment', None)\n",
    "\n",
    "filename = '/media/j/hd/data-sets/ml/winequality-white.csv'\n",
    "white_df = pd.read_csv(filename, sep = ';')"
   ]
  },
  {
   "cell_type": "code",
   "execution_count": 2,
   "id": "32702450",
   "metadata": {},
   "outputs": [
    {
     "data": {
      "text/html": [
       "<div>\n",
       "<style scoped>\n",
       "    .dataframe tbody tr th:only-of-type {\n",
       "        vertical-align: middle;\n",
       "    }\n",
       "\n",
       "    .dataframe tbody tr th {\n",
       "        vertical-align: top;\n",
       "    }\n",
       "\n",
       "    .dataframe thead th {\n",
       "        text-align: right;\n",
       "    }\n",
       "</style>\n",
       "<table border=\"1\" class=\"dataframe\">\n",
       "  <thead>\n",
       "    <tr style=\"text-align: right;\">\n",
       "      <th></th>\n",
       "      <th>fixed acidity</th>\n",
       "      <th>volatile acidity</th>\n",
       "      <th>citric acid</th>\n",
       "      <th>residual sugar</th>\n",
       "      <th>chlorides</th>\n",
       "      <th>free sulfur dioxide</th>\n",
       "      <th>total sulfur dioxide</th>\n",
       "      <th>density</th>\n",
       "      <th>pH</th>\n",
       "      <th>sulphates</th>\n",
       "      <th>alcohol</th>\n",
       "      <th>quality</th>\n",
       "    </tr>\n",
       "  </thead>\n",
       "  <tbody>\n",
       "    <tr>\n",
       "      <th>0</th>\n",
       "      <td>7.0</td>\n",
       "      <td>0.27</td>\n",
       "      <td>0.36</td>\n",
       "      <td>20.7</td>\n",
       "      <td>0.045</td>\n",
       "      <td>45.0</td>\n",
       "      <td>170.0</td>\n",
       "      <td>1.0010</td>\n",
       "      <td>3.00</td>\n",
       "      <td>0.45</td>\n",
       "      <td>8.8</td>\n",
       "      <td>6</td>\n",
       "    </tr>\n",
       "    <tr>\n",
       "      <th>1</th>\n",
       "      <td>6.3</td>\n",
       "      <td>0.30</td>\n",
       "      <td>0.34</td>\n",
       "      <td>1.6</td>\n",
       "      <td>0.049</td>\n",
       "      <td>14.0</td>\n",
       "      <td>132.0</td>\n",
       "      <td>0.9940</td>\n",
       "      <td>3.30</td>\n",
       "      <td>0.49</td>\n",
       "      <td>9.5</td>\n",
       "      <td>6</td>\n",
       "    </tr>\n",
       "    <tr>\n",
       "      <th>2</th>\n",
       "      <td>8.1</td>\n",
       "      <td>0.28</td>\n",
       "      <td>0.40</td>\n",
       "      <td>6.9</td>\n",
       "      <td>0.050</td>\n",
       "      <td>30.0</td>\n",
       "      <td>97.0</td>\n",
       "      <td>0.9951</td>\n",
       "      <td>3.26</td>\n",
       "      <td>0.44</td>\n",
       "      <td>10.1</td>\n",
       "      <td>6</td>\n",
       "    </tr>\n",
       "    <tr>\n",
       "      <th>3</th>\n",
       "      <td>7.2</td>\n",
       "      <td>0.23</td>\n",
       "      <td>0.32</td>\n",
       "      <td>8.5</td>\n",
       "      <td>0.058</td>\n",
       "      <td>47.0</td>\n",
       "      <td>186.0</td>\n",
       "      <td>0.9956</td>\n",
       "      <td>3.19</td>\n",
       "      <td>0.40</td>\n",
       "      <td>9.9</td>\n",
       "      <td>6</td>\n",
       "    </tr>\n",
       "    <tr>\n",
       "      <th>4</th>\n",
       "      <td>7.2</td>\n",
       "      <td>0.23</td>\n",
       "      <td>0.32</td>\n",
       "      <td>8.5</td>\n",
       "      <td>0.058</td>\n",
       "      <td>47.0</td>\n",
       "      <td>186.0</td>\n",
       "      <td>0.9956</td>\n",
       "      <td>3.19</td>\n",
       "      <td>0.40</td>\n",
       "      <td>9.9</td>\n",
       "      <td>6</td>\n",
       "    </tr>\n",
       "  </tbody>\n",
       "</table>\n",
       "</div>"
      ],
      "text/plain": [
       "   fixed acidity  volatile acidity  citric acid  residual sugar  chlorides  \\\n",
       "0            7.0              0.27         0.36            20.7      0.045   \n",
       "1            6.3              0.30         0.34             1.6      0.049   \n",
       "2            8.1              0.28         0.40             6.9      0.050   \n",
       "3            7.2              0.23         0.32             8.5      0.058   \n",
       "4            7.2              0.23         0.32             8.5      0.058   \n",
       "\n",
       "   free sulfur dioxide  total sulfur dioxide  density    pH  sulphates  \\\n",
       "0                 45.0                 170.0   1.0010  3.00       0.45   \n",
       "1                 14.0                 132.0   0.9940  3.30       0.49   \n",
       "2                 30.0                  97.0   0.9951  3.26       0.44   \n",
       "3                 47.0                 186.0   0.9956  3.19       0.40   \n",
       "4                 47.0                 186.0   0.9956  3.19       0.40   \n",
       "\n",
       "   alcohol  quality  \n",
       "0      8.8        6  \n",
       "1      9.5        6  \n",
       "2     10.1        6  \n",
       "3      9.9        6  \n",
       "4      9.9        6  "
      ]
     },
     "execution_count": 2,
     "metadata": {},
     "output_type": "execute_result"
    }
   ],
   "source": [
    "white_df.head()"
   ]
  },
  {
   "cell_type": "markdown",
   "id": "472d74df",
   "metadata": {},
   "source": [
    "## 2. Splitting and Stratifying data:"
   ]
  },
  {
   "cell_type": "code",
   "execution_count": 3,
   "id": "b466ba51",
   "metadata": {},
   "outputs": [
    {
     "data": {
      "text/plain": [
       "3      20\n",
       "4     163\n",
       "5    1457\n",
       "6    2198\n",
       "7     880\n",
       "8     175\n",
       "9       5\n",
       "Name: quality, dtype: int64"
      ]
     },
     "execution_count": 3,
     "metadata": {},
     "output_type": "execute_result"
    }
   ],
   "source": [
    "white_df['quality'].value_counts().sort_index()"
   ]
  },
  {
   "cell_type": "markdown",
   "id": "11322e9b",
   "metadata": {},
   "source": [
    "#### Showing the distribuition of classes:"
   ]
  },
  {
   "cell_type": "code",
   "execution_count": 4,
   "id": "bdee1be5",
   "metadata": {},
   "outputs": [],
   "source": [
    "y = white_df.pop('quality')\n",
    "X = white_df.copy()"
   ]
  },
  {
   "cell_type": "code",
   "execution_count": 5,
   "id": "49bc3323",
   "metadata": {},
   "outputs": [],
   "source": [
    "X_train, X_test, y_train, y_test = train_test_split(X, y, test_size=0.3, random_state=32, stratify=y) # Using Scikit to split data"
   ]
  },
  {
   "cell_type": "markdown",
   "id": "8a8f31e7",
   "metadata": {},
   "source": [
    "## 4. Data visualization and manipulation:"
   ]
  },
  {
   "cell_type": "code",
   "execution_count": 6,
   "id": "f16f90d9",
   "metadata": {},
   "outputs": [
    {
     "name": "stdout",
     "output_type": "stream",
     "text": [
      "<class 'pandas.core.frame.DataFrame'>\n",
      "Int64Index: 3428 entries, 902 to 89\n",
      "Data columns (total 11 columns):\n",
      " #   Column                Non-Null Count  Dtype  \n",
      "---  ------                --------------  -----  \n",
      " 0   fixed acidity         3428 non-null   float64\n",
      " 1   volatile acidity      3428 non-null   float64\n",
      " 2   citric acid           3428 non-null   float64\n",
      " 3   residual sugar        3428 non-null   float64\n",
      " 4   chlorides             3428 non-null   float64\n",
      " 5   free sulfur dioxide   3428 non-null   float64\n",
      " 6   total sulfur dioxide  3428 non-null   float64\n",
      " 7   density               3428 non-null   float64\n",
      " 8   pH                    3428 non-null   float64\n",
      " 9   sulphates             3428 non-null   float64\n",
      " 10  alcohol               3428 non-null   float64\n",
      "dtypes: float64(11)\n",
      "memory usage: 321.4 KB\n"
     ]
    }
   ],
   "source": [
    "X_train.info()"
   ]
  },
  {
   "cell_type": "code",
   "execution_count": 7,
   "id": "34e308bb",
   "metadata": {},
   "outputs": [
    {
     "data": {
      "text/plain": [
       "902     5\n",
       "1128    5\n",
       "1076    6\n",
       "2640    6\n",
       "2221    6\n",
       "       ..\n",
       "71      5\n",
       "1214    6\n",
       "751     6\n",
       "2192    6\n",
       "89      6\n",
       "Name: quality, Length: 3428, dtype: int64"
      ]
     },
     "execution_count": 7,
     "metadata": {},
     "output_type": "execute_result"
    }
   ],
   "source": [
    "y_train"
   ]
  },
  {
   "cell_type": "code",
   "execution_count": 8,
   "id": "c62e6063",
   "metadata": {},
   "outputs": [
    {
     "data": {
      "text/html": [
       "<div>\n",
       "<style scoped>\n",
       "    .dataframe tbody tr th:only-of-type {\n",
       "        vertical-align: middle;\n",
       "    }\n",
       "\n",
       "    .dataframe tbody tr th {\n",
       "        vertical-align: top;\n",
       "    }\n",
       "\n",
       "    .dataframe thead th {\n",
       "        text-align: right;\n",
       "    }\n",
       "</style>\n",
       "<table border=\"1\" class=\"dataframe\">\n",
       "  <thead>\n",
       "    <tr style=\"text-align: right;\">\n",
       "      <th></th>\n",
       "      <th>fixed acidity</th>\n",
       "      <th>volatile acidity</th>\n",
       "      <th>citric acid</th>\n",
       "      <th>residual sugar</th>\n",
       "      <th>chlorides</th>\n",
       "      <th>free sulfur dioxide</th>\n",
       "      <th>total sulfur dioxide</th>\n",
       "      <th>density</th>\n",
       "      <th>pH</th>\n",
       "      <th>sulphates</th>\n",
       "      <th>alcohol</th>\n",
       "    </tr>\n",
       "  </thead>\n",
       "  <tbody>\n",
       "    <tr>\n",
       "      <th>count</th>\n",
       "      <td>3428.000000</td>\n",
       "      <td>3428.000000</td>\n",
       "      <td>3428.000000</td>\n",
       "      <td>3428.000000</td>\n",
       "      <td>3428.000000</td>\n",
       "      <td>3428.000000</td>\n",
       "      <td>3428.000000</td>\n",
       "      <td>3428.000000</td>\n",
       "      <td>3428.000000</td>\n",
       "      <td>3428.000000</td>\n",
       "      <td>3428.000000</td>\n",
       "    </tr>\n",
       "    <tr>\n",
       "      <th>mean</th>\n",
       "      <td>6.853544</td>\n",
       "      <td>0.276971</td>\n",
       "      <td>0.333256</td>\n",
       "      <td>6.429653</td>\n",
       "      <td>0.045833</td>\n",
       "      <td>35.011231</td>\n",
       "      <td>137.985268</td>\n",
       "      <td>0.994062</td>\n",
       "      <td>3.186435</td>\n",
       "      <td>0.491368</td>\n",
       "      <td>10.495821</td>\n",
       "    </tr>\n",
       "    <tr>\n",
       "      <th>std</th>\n",
       "      <td>0.830070</td>\n",
       "      <td>0.099831</td>\n",
       "      <td>0.119521</td>\n",
       "      <td>5.129153</td>\n",
       "      <td>0.021377</td>\n",
       "      <td>16.977485</td>\n",
       "      <td>42.498090</td>\n",
       "      <td>0.003023</td>\n",
       "      <td>0.150442</td>\n",
       "      <td>0.113482</td>\n",
       "      <td>1.226156</td>\n",
       "    </tr>\n",
       "    <tr>\n",
       "      <th>min</th>\n",
       "      <td>3.800000</td>\n",
       "      <td>0.080000</td>\n",
       "      <td>0.000000</td>\n",
       "      <td>0.700000</td>\n",
       "      <td>0.013000</td>\n",
       "      <td>2.000000</td>\n",
       "      <td>9.000000</td>\n",
       "      <td>0.987110</td>\n",
       "      <td>2.720000</td>\n",
       "      <td>0.220000</td>\n",
       "      <td>8.000000</td>\n",
       "    </tr>\n",
       "    <tr>\n",
       "      <th>25%</th>\n",
       "      <td>6.300000</td>\n",
       "      <td>0.210000</td>\n",
       "      <td>0.270000</td>\n",
       "      <td>1.700000</td>\n",
       "      <td>0.036000</td>\n",
       "      <td>23.000000</td>\n",
       "      <td>108.000000</td>\n",
       "      <td>0.991777</td>\n",
       "      <td>3.080000</td>\n",
       "      <td>0.410000</td>\n",
       "      <td>9.400000</td>\n",
       "    </tr>\n",
       "    <tr>\n",
       "      <th>50%</th>\n",
       "      <td>6.800000</td>\n",
       "      <td>0.260000</td>\n",
       "      <td>0.320000</td>\n",
       "      <td>5.200000</td>\n",
       "      <td>0.043000</td>\n",
       "      <td>34.000000</td>\n",
       "      <td>134.000000</td>\n",
       "      <td>0.993800</td>\n",
       "      <td>3.180000</td>\n",
       "      <td>0.480000</td>\n",
       "      <td>10.400000</td>\n",
       "    </tr>\n",
       "    <tr>\n",
       "      <th>75%</th>\n",
       "      <td>7.300000</td>\n",
       "      <td>0.320000</td>\n",
       "      <td>0.380000</td>\n",
       "      <td>10.000000</td>\n",
       "      <td>0.050000</td>\n",
       "      <td>45.000000</td>\n",
       "      <td>167.000000</td>\n",
       "      <td>0.996200</td>\n",
       "      <td>3.280000</td>\n",
       "      <td>0.550000</td>\n",
       "      <td>11.400000</td>\n",
       "    </tr>\n",
       "    <tr>\n",
       "      <th>max</th>\n",
       "      <td>11.800000</td>\n",
       "      <td>1.100000</td>\n",
       "      <td>1.660000</td>\n",
       "      <td>65.800000</td>\n",
       "      <td>0.301000</td>\n",
       "      <td>289.000000</td>\n",
       "      <td>440.000000</td>\n",
       "      <td>1.038980</td>\n",
       "      <td>3.800000</td>\n",
       "      <td>1.080000</td>\n",
       "      <td>14.050000</td>\n",
       "    </tr>\n",
       "  </tbody>\n",
       "</table>\n",
       "</div>"
      ],
      "text/plain": [
       "       fixed acidity  volatile acidity  citric acid  residual sugar  \\\n",
       "count    3428.000000       3428.000000  3428.000000     3428.000000   \n",
       "mean        6.853544          0.276971     0.333256        6.429653   \n",
       "std         0.830070          0.099831     0.119521        5.129153   \n",
       "min         3.800000          0.080000     0.000000        0.700000   \n",
       "25%         6.300000          0.210000     0.270000        1.700000   \n",
       "50%         6.800000          0.260000     0.320000        5.200000   \n",
       "75%         7.300000          0.320000     0.380000       10.000000   \n",
       "max        11.800000          1.100000     1.660000       65.800000   \n",
       "\n",
       "         chlorides  free sulfur dioxide  total sulfur dioxide      density  \\\n",
       "count  3428.000000          3428.000000           3428.000000  3428.000000   \n",
       "mean      0.045833            35.011231            137.985268     0.994062   \n",
       "std       0.021377            16.977485             42.498090     0.003023   \n",
       "min       0.013000             2.000000              9.000000     0.987110   \n",
       "25%       0.036000            23.000000            108.000000     0.991777   \n",
       "50%       0.043000            34.000000            134.000000     0.993800   \n",
       "75%       0.050000            45.000000            167.000000     0.996200   \n",
       "max       0.301000           289.000000            440.000000     1.038980   \n",
       "\n",
       "                pH    sulphates      alcohol  \n",
       "count  3428.000000  3428.000000  3428.000000  \n",
       "mean      3.186435     0.491368    10.495821  \n",
       "std       0.150442     0.113482     1.226156  \n",
       "min       2.720000     0.220000     8.000000  \n",
       "25%       3.080000     0.410000     9.400000  \n",
       "50%       3.180000     0.480000    10.400000  \n",
       "75%       3.280000     0.550000    11.400000  \n",
       "max       3.800000     1.080000    14.050000  "
      ]
     },
     "execution_count": 8,
     "metadata": {},
     "output_type": "execute_result"
    }
   ],
   "source": [
    "X_train.describe()"
   ]
  },
  {
   "cell_type": "markdown",
   "id": "0e5ec2d3",
   "metadata": {},
   "source": [
    "### Insights:"
   ]
  },
  {
   "cell_type": "markdown",
   "id": "84f951b3",
   "metadata": {},
   "source": [
    "#### The data variation is different but there are some features data the variation is big, and they are:\t\n",
    "- ```volatile acidity```: The variation is (0.08,1.1]\n",
    "- ```residual sugar```: The vary is (0.6,65.8]\n",
    "- ```chlorides```: The vary is (0.012,0.34]\n",
    "- ```free sulfur dioxide```: The vary is (3,289]\n",
    "- ```total sulfur dioxide```: The vary is (18,440]\n",
    "- ```sulphates```: The vary is (0.23,1.08]"
   ]
  },
  {
   "cell_type": "code",
   "execution_count": 46,
   "id": "4aa61f77",
   "metadata": {},
   "outputs": [
    {
     "data": {
      "image/png": "[encoded data removed]",
      "text/plain": [
       "<Figure size 576x396 with 1 Axes>"
      ]
     },
     "metadata": {},
     "output_type": "display_data"
    }
   ],
   "source": [
    "X_train['volatile acidity'].sort_index().plot()\n",
    "plt.style.use(\"seaborn\")\n",
    "plt.show()"
   ]
  },
  {
   "cell_type": "code",
   "execution_count": 45,
   "id": "e9ff3a0e",
   "metadata": {},
   "outputs": [
    {
     "data": {
      "image/png": "[encoded data removed]",
      "text/plain": [
       "<Figure size 576x396 with 1 Axes>"
      ]
     },
     "metadata": {},
     "output_type": "display_data"
    }
   ],
   "source": [
    "X_train['residual sugar'].sort_index().plot()\n",
    "plt.style.use(\"seaborn\")\n",
    "plt.show()"
   ]
  },
  {
   "cell_type": "code",
   "execution_count": 44,
   "id": "c0a2adee",
   "metadata": {},
   "outputs": [
    {
     "data": {
      "image/png": "[encoded data removed]",
      "text/plain": [
       "<Figure size 576x396 with 1 Axes>"
      ]
     },
     "metadata": {},
     "output_type": "display_data"
    }
   ],
   "source": [
    "X_train['chlorides'].sort_index().plot()\n",
    "plt.style.use(\"seaborn\")\n",
    "plt.show()"
   ]
  },
  {
   "cell_type": "code",
   "execution_count": 43,
   "id": "8906bedb",
   "metadata": {},
   "outputs": [
    {
     "data": {
      "image/png": "[encoded data removed]",
      "text/plain": [
       "<Figure size 576x396 with 1 Axes>"
      ]
     },
     "metadata": {},
     "output_type": "display_data"
    }
   ],
   "source": [
    "X_train['free sulfur dioxide'].sort_index().plot()\n",
    "plt.style.use(\"seaborn\")\n",
    "plt.show()"
   ]
  },
  {
   "cell_type": "code",
   "execution_count": 42,
   "id": "365470ca",
   "metadata": {},
   "outputs": [
    {
     "data": {
      "image/png": "[encoded data removed]",
      "text/plain": [
       "<Figure size 576x396 with 1 Axes>"
      ]
     },
     "metadata": {},
     "output_type": "display_data"
    }
   ],
   "source": [
    "X_train['total sulfur dioxide'].sort_index().plot()\n",
    "plt.style.use(\"seaborn\")\n",
    "plt.show()"
   ]
  },
  {
   "cell_type": "code",
   "execution_count": 41,
   "id": "d3830c2f",
   "metadata": {},
   "outputs": [
    {
     "data": {
      "image/png": "[encoded data removed]",
      "text/plain": [
       "<Figure size 576x396 with 1 Axes>"
      ]
     },
     "metadata": {},
     "output_type": "display_data"
    }
   ],
   "source": [
    "X_train['sulphates'].sort_index().plot()\n",
    "plt.style.use(\"seaborn\")\n",
    "plt.show()"
   ]
  },
  {
   "cell_type": "markdown",
   "id": "2bf8cf31",
   "metadata": {},
   "source": [
    "#### Plotting correlation to descart some feature:"
   ]
  },
  {
   "cell_type": "code",
   "execution_count": 15,
   "id": "4fc2f614",
   "metadata": {},
   "outputs": [
    {
     "data": {
      "text/html": [
       "<div>\n",
       "<style scoped>\n",
       "    .dataframe tbody tr th:only-of-type {\n",
       "        vertical-align: middle;\n",
       "    }\n",
       "\n",
       "    .dataframe tbody tr th {\n",
       "        vertical-align: top;\n",
       "    }\n",
       "\n",
       "    .dataframe thead th {\n",
       "        text-align: right;\n",
       "    }\n",
       "</style>\n",
       "<table border=\"1\" class=\"dataframe\">\n",
       "  <thead>\n",
       "    <tr style=\"text-align: right;\">\n",
       "      <th></th>\n",
       "      <th>fixed acidity</th>\n",
       "      <th>volatile acidity</th>\n",
       "      <th>citric acid</th>\n",
       "      <th>residual sugar</th>\n",
       "      <th>chlorides</th>\n",
       "      <th>free sulfur dioxide</th>\n",
       "      <th>total sulfur dioxide</th>\n",
       "      <th>density</th>\n",
       "      <th>pH</th>\n",
       "      <th>sulphates</th>\n",
       "      <th>alcohol</th>\n",
       "    </tr>\n",
       "  </thead>\n",
       "  <tbody>\n",
       "    <tr>\n",
       "      <th>fixed acidity</th>\n",
       "      <td>1.000000</td>\n",
       "      <td>-0.039280</td>\n",
       "      <td>0.303650</td>\n",
       "      <td>0.093829</td>\n",
       "      <td>0.037947</td>\n",
       "      <td>-0.053779</td>\n",
       "      <td>0.098384</td>\n",
       "      <td>0.268688</td>\n",
       "      <td>-0.412604</td>\n",
       "      <td>-0.004339</td>\n",
       "      <td>-0.116975</td>\n",
       "    </tr>\n",
       "    <tr>\n",
       "      <th>volatile acidity</th>\n",
       "      <td>-0.039280</td>\n",
       "      <td>1.000000</td>\n",
       "      <td>-0.158565</td>\n",
       "      <td>0.062575</td>\n",
       "      <td>0.068990</td>\n",
       "      <td>-0.117509</td>\n",
       "      <td>0.076322</td>\n",
       "      <td>0.034669</td>\n",
       "      <td>-0.015692</td>\n",
       "      <td>-0.040423</td>\n",
       "      <td>0.063002</td>\n",
       "    </tr>\n",
       "    <tr>\n",
       "      <th>citric acid</th>\n",
       "      <td>0.303650</td>\n",
       "      <td>-0.158565</td>\n",
       "      <td>1.000000</td>\n",
       "      <td>0.086588</td>\n",
       "      <td>0.125448</td>\n",
       "      <td>0.098840</td>\n",
       "      <td>0.126652</td>\n",
       "      <td>0.148801</td>\n",
       "      <td>-0.173406</td>\n",
       "      <td>0.069042</td>\n",
       "      <td>-0.075537</td>\n",
       "    </tr>\n",
       "    <tr>\n",
       "      <th>residual sugar</th>\n",
       "      <td>0.093829</td>\n",
       "      <td>0.062575</td>\n",
       "      <td>0.086588</td>\n",
       "      <td>1.000000</td>\n",
       "      <td>0.079837</td>\n",
       "      <td>0.300148</td>\n",
       "      <td>0.405465</td>\n",
       "      <td>0.839803</td>\n",
       "      <td>-0.205355</td>\n",
       "      <td>-0.032825</td>\n",
       "      <td>-0.445614</td>\n",
       "    </tr>\n",
       "    <tr>\n",
       "      <th>chlorides</th>\n",
       "      <td>0.037947</td>\n",
       "      <td>0.068990</td>\n",
       "      <td>0.125448</td>\n",
       "      <td>0.079837</td>\n",
       "      <td>1.000000</td>\n",
       "      <td>0.092335</td>\n",
       "      <td>0.191480</td>\n",
       "      <td>0.253954</td>\n",
       "      <td>-0.100277</td>\n",
       "      <td>0.014563</td>\n",
       "      <td>-0.364198</td>\n",
       "    </tr>\n",
       "    <tr>\n",
       "      <th>free sulfur dioxide</th>\n",
       "      <td>-0.053779</td>\n",
       "      <td>-0.117509</td>\n",
       "      <td>0.098840</td>\n",
       "      <td>0.300148</td>\n",
       "      <td>0.092335</td>\n",
       "      <td>1.000000</td>\n",
       "      <td>0.606858</td>\n",
       "      <td>0.294956</td>\n",
       "      <td>-0.000152</td>\n",
       "      <td>0.051728</td>\n",
       "      <td>-0.255125</td>\n",
       "    </tr>\n",
       "    <tr>\n",
       "      <th>total sulfur dioxide</th>\n",
       "      <td>0.098384</td>\n",
       "      <td>0.076322</td>\n",
       "      <td>0.126652</td>\n",
       "      <td>0.405465</td>\n",
       "      <td>0.191480</td>\n",
       "      <td>0.606858</td>\n",
       "      <td>1.000000</td>\n",
       "      <td>0.530070</td>\n",
       "      <td>0.000796</td>\n",
       "      <td>0.132016</td>\n",
       "      <td>-0.451459</td>\n",
       "    </tr>\n",
       "    <tr>\n",
       "      <th>density</th>\n",
       "      <td>0.268688</td>\n",
       "      <td>0.034669</td>\n",
       "      <td>0.148801</td>\n",
       "      <td>0.839803</td>\n",
       "      <td>0.253954</td>\n",
       "      <td>0.294956</td>\n",
       "      <td>0.530070</td>\n",
       "      <td>1.000000</td>\n",
       "      <td>-0.091230</td>\n",
       "      <td>0.071803</td>\n",
       "      <td>-0.770991</td>\n",
       "    </tr>\n",
       "    <tr>\n",
       "      <th>pH</th>\n",
       "      <td>-0.412604</td>\n",
       "      <td>-0.015692</td>\n",
       "      <td>-0.173406</td>\n",
       "      <td>-0.205355</td>\n",
       "      <td>-0.100277</td>\n",
       "      <td>-0.000152</td>\n",
       "      <td>0.000796</td>\n",
       "      <td>-0.091230</td>\n",
       "      <td>1.000000</td>\n",
       "      <td>0.159390</td>\n",
       "      <td>0.111485</td>\n",
       "    </tr>\n",
       "    <tr>\n",
       "      <th>sulphates</th>\n",
       "      <td>-0.004339</td>\n",
       "      <td>-0.040423</td>\n",
       "      <td>0.069042</td>\n",
       "      <td>-0.032825</td>\n",
       "      <td>0.014563</td>\n",
       "      <td>0.051728</td>\n",
       "      <td>0.132016</td>\n",
       "      <td>0.071803</td>\n",
       "      <td>0.159390</td>\n",
       "      <td>1.000000</td>\n",
       "      <td>-0.013275</td>\n",
       "    </tr>\n",
       "    <tr>\n",
       "      <th>alcohol</th>\n",
       "      <td>-0.116975</td>\n",
       "      <td>0.063002</td>\n",
       "      <td>-0.075537</td>\n",
       "      <td>-0.445614</td>\n",
       "      <td>-0.364198</td>\n",
       "      <td>-0.255125</td>\n",
       "      <td>-0.451459</td>\n",
       "      <td>-0.770991</td>\n",
       "      <td>0.111485</td>\n",
       "      <td>-0.013275</td>\n",
       "      <td>1.000000</td>\n",
       "    </tr>\n",
       "  </tbody>\n",
       "</table>\n",
       "</div>"
      ],
      "text/plain": [
       "                      fixed acidity  volatile acidity  citric acid  \\\n",
       "fixed acidity              1.000000         -0.039280     0.303650   \n",
       "volatile acidity          -0.039280          1.000000    -0.158565   \n",
       "citric acid                0.303650         -0.158565     1.000000   \n",
       "residual sugar             0.093829          0.062575     0.086588   \n",
       "chlorides                  0.037947          0.068990     0.125448   \n",
       "free sulfur dioxide       -0.053779         -0.117509     0.098840   \n",
       "total sulfur dioxide       0.098384          0.076322     0.126652   \n",
       "density                    0.268688          0.034669     0.148801   \n",
       "pH                        -0.412604         -0.015692    -0.173406   \n",
       "sulphates                 -0.004339         -0.040423     0.069042   \n",
       "alcohol                   -0.116975          0.063002    -0.075537   \n",
       "\n",
       "                      residual sugar  chlorides  free sulfur dioxide  \\\n",
       "fixed acidity               0.093829   0.037947            -0.053779   \n",
       "volatile acidity            0.062575   0.068990            -0.117509   \n",
       "citric acid                 0.086588   0.125448             0.098840   \n",
       "residual sugar              1.000000   0.079837             0.300148   \n",
       "chlorides                   0.079837   1.000000             0.092335   \n",
       "free sulfur dioxide         0.300148   0.092335             1.000000   \n",
       "total sulfur dioxide        0.405465   0.191480             0.606858   \n",
       "density                     0.839803   0.253954             0.294956   \n",
       "pH                         -0.205355  -0.100277            -0.000152   \n",
       "sulphates                  -0.032825   0.014563             0.051728   \n",
       "alcohol                    -0.445614  -0.364198            -0.255125   \n",
       "\n",
       "                      total sulfur dioxide   density        pH  sulphates  \\\n",
       "fixed acidity                     0.098384  0.268688 -0.412604  -0.004339   \n",
       "volatile acidity                  0.076322  0.034669 -0.015692  -0.040423   \n",
       "citric acid                       0.126652  0.148801 -0.173406   0.069042   \n",
       "residual sugar                    0.405465  0.839803 -0.205355  -0.032825   \n",
       "chlorides                         0.191480  0.253954 -0.100277   0.014563   \n",
       "free sulfur dioxide               0.606858  0.294956 -0.000152   0.051728   \n",
       "total sulfur dioxide              1.000000  0.530070  0.000796   0.132016   \n",
       "density                           0.530070  1.000000 -0.091230   0.071803   \n",
       "pH                                0.000796 -0.091230  1.000000   0.159390   \n",
       "sulphates                         0.132016  0.071803  0.159390   1.000000   \n",
       "alcohol                          -0.451459 -0.770991  0.111485  -0.013275   \n",
       "\n",
       "                       alcohol  \n",
       "fixed acidity        -0.116975  \n",
       "volatile acidity      0.063002  \n",
       "citric acid          -0.075537  \n",
       "residual sugar       -0.445614  \n",
       "chlorides            -0.364198  \n",
       "free sulfur dioxide  -0.255125  \n",
       "total sulfur dioxide -0.451459  \n",
       "density              -0.770991  \n",
       "pH                    0.111485  \n",
       "sulphates            -0.013275  \n",
       "alcohol               1.000000  "
      ]
     },
     "execution_count": 15,
     "metadata": {},
     "output_type": "execute_result"
    }
   ],
   "source": [
    "X_train.iloc[:,:].corr()"
   ]
  },
  {
   "cell_type": "code",
   "execution_count": 16,
   "id": "4fa6e2f8",
   "metadata": {},
   "outputs": [
    {
     "data": {
      "image/png": "[encoded data removed]",
      "text/plain": [
       "<Figure size 792x648 with 2 Axes>"
      ]
     },
     "metadata": {
      "needs_background": "light"
     },
     "output_type": "display_data"
    }
   ],
   "source": [
    "corr_white_wine = X_train.iloc[:,:].corr()\n",
    "\n",
    "mask = np.triu(np.ones_like(corr_white_wine, dtype=bool)) # Generate a mask for the upper triangle\n",
    "f, ax = plt.subplots(figsize=(11, 9)) # Set up the matplotlib figure\n",
    "cmap = sns.diverging_palette(230, 20, as_cmap=True) # Generate a custom diverging colormap\n",
    "sns.heatmap(corr_white_wine, mask=mask, cmap=cmap, center=0,\n",
    "            square=True, linewidths=.5, cbar_kws={\"shrink\": .5}); # Draw the heatmap with the mask and correct aspect ratio"
   ]
  },
  {
   "cell_type": "markdown",
   "id": "e3e90565",
   "metadata": {},
   "source": [
    "#### Let's normalize the columns that we identify previously"
   ]
  },
  {
   "cell_type": "markdown",
   "id": "f1f53b0a",
   "metadata": {},
   "source": [
    "##### Not normalized:"
   ]
  },
  {
   "cell_type": "code",
   "execution_count": 17,
   "id": "92ffbdd1",
   "metadata": {},
   "outputs": [],
   "source": [
    "X_train_unnormalized = X_train.copy()\n",
    "X_test_unnormalized = X_test.copy()\n",
    "y_train_unnormalized = y_train.copy()\n",
    "y_test_unnormalized = y_test.copy()"
   ]
  },
  {
   "cell_type": "markdown",
   "id": "ef98606c",
   "metadata": {},
   "source": [
    "##### Normalized - all:"
   ]
  },
  {
   "cell_type": "code",
   "execution_count": 18,
   "id": "83631783",
   "metadata": {},
   "outputs": [],
   "source": [
    "X_train_normalized = X_train.copy()\n",
    "X_test_normalized = X_test.copy()\n",
    "y_train_normalized = y_train.copy()\n",
    "y_test_normalized = y_test.copy()\n",
    "\n",
    "red_2_min_max_scaled = X_train_normalized\n",
    "\n",
    "column_1 = 'total sulfur dioxide'\n",
    "column_2 = 'free sulfur dioxide'\n",
    "column_3 = 'volatile acidity'\n",
    "column_4 = 'residual sugar'\n",
    "column_5 = 'chlorides'\n",
    "column_6 = 'sulphates'\n",
    "column_7 = 'fixed acidity'\n",
    "column_8 = 'citric acid'\n",
    "column_9 = 'density'\n",
    "column_10 = 'pH'\n",
    "column_11 = 'alcohol'\n",
    "\n",
    "red_2_min_max_scaled[column_1] = (red_2_min_max_scaled[column_1] - red_2_min_max_scaled[column_1].min()) / (red_2_min_max_scaled[column_1].max() - red_2_min_max_scaled[column_1].min())    \n",
    "red_2_min_max_scaled[column_2] = (red_2_min_max_scaled[column_2] - red_2_min_max_scaled[column_2].min()) / (red_2_min_max_scaled[column_2].max() - red_2_min_max_scaled[column_2].min())    \n",
    "red_2_min_max_scaled[column_3] = (red_2_min_max_scaled[column_3] - red_2_min_max_scaled[column_3].min()) / (red_2_min_max_scaled[column_3].max() - red_2_min_max_scaled[column_3].min())    \n",
    "red_2_min_max_scaled[column_4] = (red_2_min_max_scaled[column_4] - red_2_min_max_scaled[column_4].min()) / (red_2_min_max_scaled[column_4].max() - red_2_min_max_scaled[column_4].min())    \n",
    "red_2_min_max_scaled[column_5] = (red_2_min_max_scaled[column_5] - red_2_min_max_scaled[column_5].min()) / (red_2_min_max_scaled[column_5].max() - red_2_min_max_scaled[column_5].min())    \n",
    "red_2_min_max_scaled[column_6] = (red_2_min_max_scaled[column_6] - red_2_min_max_scaled[column_6].min()) / (red_2_min_max_scaled[column_6].max() - red_2_min_max_scaled[column_6].min()) \n",
    "red_2_min_max_scaled[column_7] = (red_2_min_max_scaled[column_7] - red_2_min_max_scaled[column_7].min()) / (red_2_min_max_scaled[column_7].max() - red_2_min_max_scaled[column_7].min())    \n",
    "red_2_min_max_scaled[column_8] = (red_2_min_max_scaled[column_8] - red_2_min_max_scaled[column_8].min()) / (red_2_min_max_scaled[column_8].max() - red_2_min_max_scaled[column_8].min())    \n",
    "red_2_min_max_scaled[column_9] = (red_2_min_max_scaled[column_9] - red_2_min_max_scaled[column_9].min()) / (red_2_min_max_scaled[column_9].max() - red_2_min_max_scaled[column_9].min())    \n",
    "red_2_min_max_scaled[column_10] = (red_2_min_max_scaled[column_10] - red_2_min_max_scaled[column_10].min()) / (red_2_min_max_scaled[column_10].max() - red_2_min_max_scaled[column_10].min())    \n",
    "red_2_min_max_scaled[column_11] = (red_2_min_max_scaled[column_11] - red_2_min_max_scaled[column_11].min()) / (red_2_min_max_scaled[column_11].max() - red_2_min_max_scaled[column_11].min()) \n"
   ]
  },
  {
   "cell_type": "markdown",
   "id": "347f853a",
   "metadata": {},
   "source": [
    "##### Normalized - part:"
   ]
  },
  {
   "cell_type": "code",
   "execution_count": 19,
   "id": "788ced94",
   "metadata": {},
   "outputs": [
    {
     "data": {
      "text/html": [
       "<div>\n",
       "<style scoped>\n",
       "    .dataframe tbody tr th:only-of-type {\n",
       "        vertical-align: middle;\n",
       "    }\n",
       "\n",
       "    .dataframe tbody tr th {\n",
       "        vertical-align: top;\n",
       "    }\n",
       "\n",
       "    .dataframe thead th {\n",
       "        text-align: right;\n",
       "    }\n",
       "</style>\n",
       "<table border=\"1\" class=\"dataframe\">\n",
       "  <thead>\n",
       "    <tr style=\"text-align: right;\">\n",
       "      <th></th>\n",
       "      <th>fixed acidity</th>\n",
       "      <th>volatile acidity</th>\n",
       "      <th>citric acid</th>\n",
       "      <th>residual sugar</th>\n",
       "      <th>chlorides</th>\n",
       "      <th>free sulfur dioxide</th>\n",
       "      <th>total sulfur dioxide</th>\n",
       "      <th>density</th>\n",
       "      <th>pH</th>\n",
       "      <th>sulphates</th>\n",
       "      <th>alcohol</th>\n",
       "    </tr>\n",
       "  </thead>\n",
       "  <tbody>\n",
       "    <tr>\n",
       "      <th>902</th>\n",
       "      <td>6.1</td>\n",
       "      <td>0.196078</td>\n",
       "      <td>0.35</td>\n",
       "      <td>0.185868</td>\n",
       "      <td>0.121528</td>\n",
       "      <td>0.212544</td>\n",
       "      <td>0.510441</td>\n",
       "      <td>0.99750</td>\n",
       "      <td>3.08</td>\n",
       "      <td>0.209302</td>\n",
       "      <td>8.9</td>\n",
       "    </tr>\n",
       "    <tr>\n",
       "      <th>1128</th>\n",
       "      <td>5.7</td>\n",
       "      <td>0.019608</td>\n",
       "      <td>0.27</td>\n",
       "      <td>0.009217</td>\n",
       "      <td>0.118056</td>\n",
       "      <td>0.066202</td>\n",
       "      <td>0.211137</td>\n",
       "      <td>0.99280</td>\n",
       "      <td>3.27</td>\n",
       "      <td>0.279070</td>\n",
       "      <td>9.5</td>\n",
       "    </tr>\n",
       "    <tr>\n",
       "      <th>1076</th>\n",
       "      <td>7.5</td>\n",
       "      <td>0.196078</td>\n",
       "      <td>0.33</td>\n",
       "      <td>0.107527</td>\n",
       "      <td>0.121528</td>\n",
       "      <td>0.139373</td>\n",
       "      <td>0.396752</td>\n",
       "      <td>0.99740</td>\n",
       "      <td>3.37</td>\n",
       "      <td>0.430233</td>\n",
       "      <td>10.1</td>\n",
       "    </tr>\n",
       "    <tr>\n",
       "      <th>2640</th>\n",
       "      <td>7.4</td>\n",
       "      <td>0.117647</td>\n",
       "      <td>0.37</td>\n",
       "      <td>0.007680</td>\n",
       "      <td>0.052083</td>\n",
       "      <td>0.090592</td>\n",
       "      <td>0.185615</td>\n",
       "      <td>0.99132</td>\n",
       "      <td>3.14</td>\n",
       "      <td>0.453488</td>\n",
       "      <td>11.8</td>\n",
       "    </tr>\n",
       "    <tr>\n",
       "      <th>2221</th>\n",
       "      <td>8.5</td>\n",
       "      <td>0.196078</td>\n",
       "      <td>0.34</td>\n",
       "      <td>0.201229</td>\n",
       "      <td>0.097222</td>\n",
       "      <td>0.104530</td>\n",
       "      <td>0.352668</td>\n",
       "      <td>0.99810</td>\n",
       "      <td>3.13</td>\n",
       "      <td>0.209302</td>\n",
       "      <td>9.9</td>\n",
       "    </tr>\n",
       "    <tr>\n",
       "      <th>...</th>\n",
       "      <td>...</td>\n",
       "      <td>...</td>\n",
       "      <td>...</td>\n",
       "      <td>...</td>\n",
       "      <td>...</td>\n",
       "      <td>...</td>\n",
       "      <td>...</td>\n",
       "      <td>...</td>\n",
       "      <td>...</td>\n",
       "      <td>...</td>\n",
       "      <td>...</td>\n",
       "    </tr>\n",
       "    <tr>\n",
       "      <th>71</th>\n",
       "      <td>6.8</td>\n",
       "      <td>0.215686</td>\n",
       "      <td>0.23</td>\n",
       "      <td>0.059908</td>\n",
       "      <td>0.166667</td>\n",
       "      <td>0.168990</td>\n",
       "      <td>0.532483</td>\n",
       "      <td>0.99580</td>\n",
       "      <td>3.32</td>\n",
       "      <td>0.441860</td>\n",
       "      <td>9.5</td>\n",
       "    </tr>\n",
       "    <tr>\n",
       "      <th>1214</th>\n",
       "      <td>9.7</td>\n",
       "      <td>0.156863</td>\n",
       "      <td>0.45</td>\n",
       "      <td>0.007680</td>\n",
       "      <td>0.069444</td>\n",
       "      <td>0.031359</td>\n",
       "      <td>0.116009</td>\n",
       "      <td>0.99260</td>\n",
       "      <td>2.74</td>\n",
       "      <td>0.290698</td>\n",
       "      <td>10.8</td>\n",
       "    </tr>\n",
       "    <tr>\n",
       "      <th>751</th>\n",
       "      <td>6.9</td>\n",
       "      <td>0.117647</td>\n",
       "      <td>0.50</td>\n",
       "      <td>0.142857</td>\n",
       "      <td>0.079861</td>\n",
       "      <td>0.264808</td>\n",
       "      <td>0.366589</td>\n",
       "      <td>0.99640</td>\n",
       "      <td>3.15</td>\n",
       "      <td>0.383721</td>\n",
       "      <td>10.2</td>\n",
       "    </tr>\n",
       "    <tr>\n",
       "      <th>2192</th>\n",
       "      <td>7.9</td>\n",
       "      <td>0.196078</td>\n",
       "      <td>0.41</td>\n",
       "      <td>0.064516</td>\n",
       "      <td>0.156250</td>\n",
       "      <td>0.101045</td>\n",
       "      <td>0.334107</td>\n",
       "      <td>0.99660</td>\n",
       "      <td>3.27</td>\n",
       "      <td>0.337209</td>\n",
       "      <td>9.7</td>\n",
       "    </tr>\n",
       "    <tr>\n",
       "      <th>89</th>\n",
       "      <td>7.1</td>\n",
       "      <td>0.352941</td>\n",
       "      <td>0.62</td>\n",
       "      <td>0.170507</td>\n",
       "      <td>0.107639</td>\n",
       "      <td>0.174216</td>\n",
       "      <td>0.331787</td>\n",
       "      <td>0.99750</td>\n",
       "      <td>3.12</td>\n",
       "      <td>0.279070</td>\n",
       "      <td>8.7</td>\n",
       "    </tr>\n",
       "  </tbody>\n",
       "</table>\n",
       "<p>3428 rows × 11 columns</p>\n",
       "</div>"
      ],
      "text/plain": [
       "      fixed acidity  volatile acidity  citric acid  residual sugar  chlorides  \\\n",
       "902             6.1          0.196078         0.35        0.185868   0.121528   \n",
       "1128            5.7          0.019608         0.27        0.009217   0.118056   \n",
       "1076            7.5          0.196078         0.33        0.107527   0.121528   \n",
       "2640            7.4          0.117647         0.37        0.007680   0.052083   \n",
       "2221            8.5          0.196078         0.34        0.201229   0.097222   \n",
       "...             ...               ...          ...             ...        ...   \n",
       "71              6.8          0.215686         0.23        0.059908   0.166667   \n",
       "1214            9.7          0.156863         0.45        0.007680   0.069444   \n",
       "751             6.9          0.117647         0.50        0.142857   0.079861   \n",
       "2192            7.9          0.196078         0.41        0.064516   0.156250   \n",
       "89              7.1          0.352941         0.62        0.170507   0.107639   \n",
       "\n",
       "      free sulfur dioxide  total sulfur dioxide  density    pH  sulphates  \\\n",
       "902              0.212544              0.510441  0.99750  3.08   0.209302   \n",
       "1128             0.066202              0.211137  0.99280  3.27   0.279070   \n",
       "1076             0.139373              0.396752  0.99740  3.37   0.430233   \n",
       "2640             0.090592              0.185615  0.99132  3.14   0.453488   \n",
       "2221             0.104530              0.352668  0.99810  3.13   0.209302   \n",
       "...                   ...                   ...      ...   ...        ...   \n",
       "71               0.168990              0.532483  0.99580  3.32   0.441860   \n",
       "1214             0.031359              0.116009  0.99260  2.74   0.290698   \n",
       "751              0.264808              0.366589  0.99640  3.15   0.383721   \n",
       "2192             0.101045              0.334107  0.99660  3.27   0.337209   \n",
       "89               0.174216              0.331787  0.99750  3.12   0.279070   \n",
       "\n",
       "      alcohol  \n",
       "902       8.9  \n",
       "1128      9.5  \n",
       "1076     10.1  \n",
       "2640     11.8  \n",
       "2221      9.9  \n",
       "...       ...  \n",
       "71        9.5  \n",
       "1214     10.8  \n",
       "751      10.2  \n",
       "2192      9.7  \n",
       "89        8.7  \n",
       "\n",
       "[3428 rows x 11 columns]"
      ]
     },
     "metadata": {},
     "output_type": "display_data"
    }
   ],
   "source": [
    "red_1_min_max_scaled = X_train # Shallow copy\n",
    "  \n",
    "# Apply normalization techniques because these above distribuition aren't normal (if it as normal we could use standardization), by columns selected.\n",
    "\n",
    "column_1 = 'total sulfur dioxide'\n",
    "column_2 = 'free sulfur dioxide'\n",
    "column_3 = 'volatile acidity'\n",
    "column_4 = 'residual sugar'\n",
    "column_5 = 'chlorides'\n",
    "column_6 = 'sulphates'\n",
    "\n",
    "red_1_min_max_scaled[column_1] = (red_1_min_max_scaled[column_1] - red_1_min_max_scaled[column_1].min()) / (red_1_min_max_scaled[column_1].max() - red_1_min_max_scaled[column_1].min())    \n",
    "red_1_min_max_scaled[column_2] = (red_1_min_max_scaled[column_2] - red_1_min_max_scaled[column_2].min()) / (red_1_min_max_scaled[column_2].max() - red_1_min_max_scaled[column_2].min())    \n",
    "red_1_min_max_scaled[column_3] = (red_1_min_max_scaled[column_3] - red_1_min_max_scaled[column_3].min()) / (red_1_min_max_scaled[column_3].max() - red_1_min_max_scaled[column_3].min())    \n",
    "red_1_min_max_scaled[column_4] = (red_1_min_max_scaled[column_4] - red_1_min_max_scaled[column_4].min()) / (red_1_min_max_scaled[column_4].max() - red_1_min_max_scaled[column_4].min())    \n",
    "red_1_min_max_scaled[column_5] = (red_1_min_max_scaled[column_5] - red_1_min_max_scaled[column_5].min()) / (red_1_min_max_scaled[column_5].max() - red_1_min_max_scaled[column_5].min())    \n",
    "red_1_min_max_scaled[column_6] = (red_1_min_max_scaled[column_6] - red_1_min_max_scaled[column_6].min()) / (red_1_min_max_scaled[column_6].max() - red_1_min_max_scaled[column_6].min()) \n",
    "\n",
    "\n",
    "# view normalized data\n",
    "display(red_1_min_max_scaled)"
   ]
  },
  {
   "cell_type": "code",
   "execution_count": 20,
   "id": "0af31b93",
   "metadata": {},
   "outputs": [
    {
     "data": {
      "text/html": [
       "<div>\n",
       "<style scoped>\n",
       "    .dataframe tbody tr th:only-of-type {\n",
       "        vertical-align: middle;\n",
       "    }\n",
       "\n",
       "    .dataframe tbody tr th {\n",
       "        vertical-align: top;\n",
       "    }\n",
       "\n",
       "    .dataframe thead th {\n",
       "        text-align: right;\n",
       "    }\n",
       "</style>\n",
       "<table border=\"1\" class=\"dataframe\">\n",
       "  <thead>\n",
       "    <tr style=\"text-align: right;\">\n",
       "      <th></th>\n",
       "      <th>fixed acidity</th>\n",
       "      <th>volatile acidity</th>\n",
       "      <th>citric acid</th>\n",
       "      <th>residual sugar</th>\n",
       "      <th>chlorides</th>\n",
       "      <th>free sulfur dioxide</th>\n",
       "      <th>total sulfur dioxide</th>\n",
       "      <th>density</th>\n",
       "      <th>pH</th>\n",
       "      <th>sulphates</th>\n",
       "      <th>alcohol</th>\n",
       "    </tr>\n",
       "  </thead>\n",
       "  <tbody>\n",
       "    <tr>\n",
       "      <th>902</th>\n",
       "      <td>6.1</td>\n",
       "      <td>0.196078</td>\n",
       "      <td>0.35</td>\n",
       "      <td>0.185868</td>\n",
       "      <td>0.121528</td>\n",
       "      <td>0.212544</td>\n",
       "      <td>0.510441</td>\n",
       "      <td>0.99750</td>\n",
       "      <td>3.08</td>\n",
       "      <td>0.209302</td>\n",
       "      <td>8.9</td>\n",
       "    </tr>\n",
       "    <tr>\n",
       "      <th>1128</th>\n",
       "      <td>5.7</td>\n",
       "      <td>0.019608</td>\n",
       "      <td>0.27</td>\n",
       "      <td>0.009217</td>\n",
       "      <td>0.118056</td>\n",
       "      <td>0.066202</td>\n",
       "      <td>0.211137</td>\n",
       "      <td>0.99280</td>\n",
       "      <td>3.27</td>\n",
       "      <td>0.279070</td>\n",
       "      <td>9.5</td>\n",
       "    </tr>\n",
       "    <tr>\n",
       "      <th>1076</th>\n",
       "      <td>7.5</td>\n",
       "      <td>0.196078</td>\n",
       "      <td>0.33</td>\n",
       "      <td>0.107527</td>\n",
       "      <td>0.121528</td>\n",
       "      <td>0.139373</td>\n",
       "      <td>0.396752</td>\n",
       "      <td>0.99740</td>\n",
       "      <td>3.37</td>\n",
       "      <td>0.430233</td>\n",
       "      <td>10.1</td>\n",
       "    </tr>\n",
       "    <tr>\n",
       "      <th>2640</th>\n",
       "      <td>7.4</td>\n",
       "      <td>0.117647</td>\n",
       "      <td>0.37</td>\n",
       "      <td>0.007680</td>\n",
       "      <td>0.052083</td>\n",
       "      <td>0.090592</td>\n",
       "      <td>0.185615</td>\n",
       "      <td>0.99132</td>\n",
       "      <td>3.14</td>\n",
       "      <td>0.453488</td>\n",
       "      <td>11.8</td>\n",
       "    </tr>\n",
       "    <tr>\n",
       "      <th>2221</th>\n",
       "      <td>8.5</td>\n",
       "      <td>0.196078</td>\n",
       "      <td>0.34</td>\n",
       "      <td>0.201229</td>\n",
       "      <td>0.097222</td>\n",
       "      <td>0.104530</td>\n",
       "      <td>0.352668</td>\n",
       "      <td>0.99810</td>\n",
       "      <td>3.13</td>\n",
       "      <td>0.209302</td>\n",
       "      <td>9.9</td>\n",
       "    </tr>\n",
       "  </tbody>\n",
       "</table>\n",
       "</div>"
      ],
      "text/plain": [
       "      fixed acidity  volatile acidity  citric acid  residual sugar  chlorides  \\\n",
       "902             6.1          0.196078         0.35        0.185868   0.121528   \n",
       "1128            5.7          0.019608         0.27        0.009217   0.118056   \n",
       "1076            7.5          0.196078         0.33        0.107527   0.121528   \n",
       "2640            7.4          0.117647         0.37        0.007680   0.052083   \n",
       "2221            8.5          0.196078         0.34        0.201229   0.097222   \n",
       "\n",
       "      free sulfur dioxide  total sulfur dioxide  density    pH  sulphates  \\\n",
       "902              0.212544              0.510441  0.99750  3.08   0.209302   \n",
       "1128             0.066202              0.211137  0.99280  3.27   0.279070   \n",
       "1076             0.139373              0.396752  0.99740  3.37   0.430233   \n",
       "2640             0.090592              0.185615  0.99132  3.14   0.453488   \n",
       "2221             0.104530              0.352668  0.99810  3.13   0.209302   \n",
       "\n",
       "      alcohol  \n",
       "902       8.9  \n",
       "1128      9.5  \n",
       "1076     10.1  \n",
       "2640     11.8  \n",
       "2221      9.9  "
      ]
     },
     "execution_count": 20,
     "metadata": {},
     "output_type": "execute_result"
    }
   ],
   "source": [
    "X_train.head()"
   ]
  },
  {
   "cell_type": "code",
   "execution_count": 21,
   "id": "7a7cfa0a",
   "metadata": {},
   "outputs": [
    {
     "data": {
      "text/plain": [
       "3      14\n",
       "4     114\n",
       "5    1020\n",
       "6    1538\n",
       "7     616\n",
       "8     122\n",
       "9       4\n",
       "Name: quality, dtype: int64"
      ]
     },
     "execution_count": 21,
     "metadata": {},
     "output_type": "execute_result"
    }
   ],
   "source": [
    "y_train.value_counts().sort_index()"
   ]
  },
  {
   "cell_type": "code",
   "execution_count": 40,
   "id": "8df1471b",
   "metadata": {},
   "outputs": [
    {
     "data": {
      "image/png": "[encoded data removed]",
      "text/plain": [
       "<Figure size 576x396 with 1 Axes>"
      ]
     },
     "metadata": {},
     "output_type": "display_data"
    }
   ],
   "source": [
    "(y_train.value_counts().sort_index()).plot()\n",
    "plt.style.use(\"seaborn\")\n",
    "plt.show()"
   ]
  },
  {
   "cell_type": "markdown",
   "id": "6ab16552",
   "metadata": {},
   "source": [
    "## 5. Training our model:"
   ]
  },
  {
   "cell_type": "markdown",
   "id": "500462ec",
   "metadata": {},
   "source": [
    "### Feature engineering of X_test:"
   ]
  },
  {
   "cell_type": "code",
   "execution_count": 23,
   "id": "88eeefd0",
   "metadata": {},
   "outputs": [],
   "source": [
    "red_2_min_max_scaled = X_test \n",
    "\n",
    "column_1 = 'total sulfur dioxide'\n",
    "column_2 = 'free sulfur dioxide'\n",
    "column_3 = 'volatile acidity'\n",
    "column_4 = 'residual sugar'\n",
    "column_5 = 'chlorides'\n",
    "column_6 = 'sulphates'\n",
    "\n",
    "red_2_min_max_scaled[column_1] = (red_2_min_max_scaled[column_1] - red_2_min_max_scaled[column_1].min()) / (red_2_min_max_scaled[column_1].max() - red_2_min_max_scaled[column_1].min())    \n",
    "red_2_min_max_scaled[column_2] = (red_2_min_max_scaled[column_2] - red_2_min_max_scaled[column_2].min()) / (red_2_min_max_scaled[column_2].max() - red_2_min_max_scaled[column_2].min())    \n",
    "red_2_min_max_scaled[column_3] = (red_2_min_max_scaled[column_3] - red_2_min_max_scaled[column_3].min()) / (red_2_min_max_scaled[column_3].max() - red_2_min_max_scaled[column_3].min())\n",
    "red_2_min_max_scaled[column_4] = (red_2_min_max_scaled[column_4] - red_2_min_max_scaled[column_4].min()) / (red_2_min_max_scaled[column_4].max() - red_2_min_max_scaled[column_4].min())    \n",
    "red_2_min_max_scaled[column_5] = (red_2_min_max_scaled[column_5] - red_2_min_max_scaled[column_5].min()) / (red_2_min_max_scaled[column_5].max() - red_2_min_max_scaled[column_5].min())    \n",
    "red_2_min_max_scaled[column_6] = (red_2_min_max_scaled[column_6] - red_2_min_max_scaled[column_6].min()) / (red_2_min_max_scaled[column_6].max() - red_2_min_max_scaled[column_6].min()) "
   ]
  },
  {
   "cell_type": "markdown",
   "id": "84833716",
   "metadata": {},
   "source": [
    "### Aplying the algorithm:"
   ]
  },
  {
   "cell_type": "markdown",
   "id": "d74c90f7",
   "metadata": {},
   "source": [
    "#### Normalized:"
   ]
  },
  {
   "cell_type": "code",
   "execution_count": 24,
   "id": "44857045",
   "metadata": {},
   "outputs": [],
   "source": [
    "knn_results = {'neighbors':[],'MAE':[],'MSE':[],'RMSE':[], 'standart deviation':[]}\n",
    "\n",
    "for i in range(1,14,2):\n",
    "    model_regressor = neighbors.KNeighborsRegressor(n_neighbors = i, weights = 'distance') # Selecting the amount of neighbors\n",
    "    model_regressor.fit(X_train, y_train)\n",
    "\n",
    "    pred = model_regressor.predict(X_test)\n",
    "    #pred = np.round(pred) # With round function the results is worse\n",
    "    knn_results['standart deviation'].append(np.std(pred))\n",
    "    knn_results['neighbors'].append(i)\n",
    "    knn_results['RMSE'].append(mean_squared_error(y_test,pred, squared=False))\n",
    "    knn_results['MSE'].append(mean_squared_error(y_test,pred))\n",
    "    knn_results['MAE'].append(mean_absolute_error(y_test,pred))"
   ]
  },
  {
   "cell_type": "markdown",
   "id": "ec379755",
   "metadata": {},
   "source": [
    "#### All Normalized:"
   ]
  },
  {
   "cell_type": "code",
   "execution_count": 25,
   "id": "2548cfea",
   "metadata": {},
   "outputs": [],
   "source": [
    "knn_results_all = {'neighbors':[],'MAE':[],'MSE':[],'RMSE':[], 'standart deviation':[]}\n",
    "\n",
    "for i in range(1,14,2):\n",
    "    model_regressor = neighbors.KNeighborsRegressor(n_neighbors = i, weights = 'distance') # Selecting the amount of neighbors\n",
    "    model_regressor.fit(X_train_normalized, y_train_normalized)\n",
    "\n",
    "    pred = model_regressor.predict(X_test_normalized)\n",
    "    #pred = np.round(pred) # With round function the results is worse\n",
    "    knn_results_all['standart deviation'].append(np.std(pred))\n",
    "    knn_results_all['neighbors'].append(i)\n",
    "    knn_results_all['RMSE'].append(mean_squared_error(y_test,pred, squared=False))\n",
    "    knn_results_all['MSE'].append(mean_squared_error(y_test,pred))\n",
    "    knn_results_all['MAE'].append(mean_absolute_error(y_test,pred))"
   ]
  },
  {
   "cell_type": "markdown",
   "id": "a78ae29c",
   "metadata": {},
   "source": [
    "#### Unnormalized:"
   ]
  },
  {
   "cell_type": "code",
   "execution_count": 26,
   "id": "aed35337",
   "metadata": {},
   "outputs": [],
   "source": [
    "knn_results_un = {'neighbors':[],'MAE':[],'MSE':[],'RMSE':[], 'standart deviation':[]}\n",
    "\n",
    "for i in range(1,14,2):\n",
    "    model_regressor = neighbors.KNeighborsRegressor(n_neighbors = i, weights = 'distance') # Selecting the amount of neighbors\n",
    "    model_regressor.fit(X_train_unnormalized, y_train_unnormalized)\n",
    "\n",
    "    pred = model_regressor.predict(X_test_unnormalized)\n",
    "    #pred = np.round(pred) # With round function the results is worse\n",
    "    knn_results_un['standart deviation'].append(np.std(pred))\n",
    "    knn_results_un['neighbors'].append(i)\n",
    "    knn_results_un['RMSE'].append(mean_squared_error(y_test,pred, squared=False))\n",
    "    knn_results_un['MSE'].append(mean_squared_error(y_test,pred))\n",
    "    knn_results_un['MAE'].append(mean_absolute_error(y_test,pred))"
   ]
  },
  {
   "cell_type": "markdown",
   "id": "fde67327",
   "metadata": {},
   "source": [
    "#### Normalized:"
   ]
  },
  {
   "cell_type": "code",
   "execution_count": 27,
   "id": "7bd68a53",
   "metadata": {},
   "outputs": [
    {
     "data": {
      "text/html": [
       "<div>\n",
       "<style scoped>\n",
       "    .dataframe tbody tr th:only-of-type {\n",
       "        vertical-align: middle;\n",
       "    }\n",
       "\n",
       "    .dataframe tbody tr th {\n",
       "        vertical-align: top;\n",
       "    }\n",
       "\n",
       "    .dataframe thead th {\n",
       "        text-align: right;\n",
       "    }\n",
       "</style>\n",
       "<table border=\"1\" class=\"dataframe\">\n",
       "  <thead>\n",
       "    <tr style=\"text-align: right;\">\n",
       "      <th></th>\n",
       "      <th>neighbors</th>\n",
       "      <th>MAE</th>\n",
       "      <th>MSE</th>\n",
       "      <th>RMSE</th>\n",
       "      <th>standart deviation</th>\n",
       "    </tr>\n",
       "  </thead>\n",
       "  <tbody>\n",
       "    <tr>\n",
       "      <th>0</th>\n",
       "      <td>1</td>\n",
       "      <td>0.488435</td>\n",
       "      <td>0.666667</td>\n",
       "      <td>0.816497</td>\n",
       "      <td>0.862969</td>\n",
       "    </tr>\n",
       "    <tr>\n",
       "      <th>1</th>\n",
       "      <td>3</td>\n",
       "      <td>0.542965</td>\n",
       "      <td>0.530359</td>\n",
       "      <td>0.728258</td>\n",
       "      <td>0.680281</td>\n",
       "    </tr>\n",
       "    <tr>\n",
       "      <th>2</th>\n",
       "      <td>5</td>\n",
       "      <td>0.552747</td>\n",
       "      <td>0.523961</td>\n",
       "      <td>0.723851</td>\n",
       "      <td>0.624284</td>\n",
       "    </tr>\n",
       "    <tr>\n",
       "      <th>3</th>\n",
       "      <td>7</td>\n",
       "      <td>0.556614</td>\n",
       "      <td>0.522543</td>\n",
       "      <td>0.722871</td>\n",
       "      <td>0.591181</td>\n",
       "    </tr>\n",
       "    <tr>\n",
       "      <th>4</th>\n",
       "      <td>9</td>\n",
       "      <td>0.565088</td>\n",
       "      <td>0.529730</td>\n",
       "      <td>0.727825</td>\n",
       "      <td>0.573712</td>\n",
       "    </tr>\n",
       "    <tr>\n",
       "      <th>5</th>\n",
       "      <td>11</td>\n",
       "      <td>0.567688</td>\n",
       "      <td>0.530018</td>\n",
       "      <td>0.728023</td>\n",
       "      <td>0.555080</td>\n",
       "    </tr>\n",
       "    <tr>\n",
       "      <th>6</th>\n",
       "      <td>13</td>\n",
       "      <td>0.568372</td>\n",
       "      <td>0.529832</td>\n",
       "      <td>0.727895</td>\n",
       "      <td>0.543801</td>\n",
       "    </tr>\n",
       "  </tbody>\n",
       "</table>\n",
       "</div>"
      ],
      "text/plain": [
       "   neighbors       MAE       MSE      RMSE  standart deviation\n",
       "0          1  0.488435  0.666667  0.816497            0.862969\n",
       "1          3  0.542965  0.530359  0.728258            0.680281\n",
       "2          5  0.552747  0.523961  0.723851            0.624284\n",
       "3          7  0.556614  0.522543  0.722871            0.591181\n",
       "4          9  0.565088  0.529730  0.727825            0.573712\n",
       "5         11  0.567688  0.530018  0.728023            0.555080\n",
       "6         13  0.568372  0.529832  0.727895            0.543801"
      ]
     },
     "execution_count": 27,
     "metadata": {},
     "output_type": "execute_result"
    }
   ],
   "source": [
    "knn_results = pd.DataFrame.from_dict(knn_results)\n",
    "knn_results"
   ]
  },
  {
   "cell_type": "code",
   "execution_count": 28,
   "id": "6dc46810",
   "metadata": {},
   "outputs": [
    {
     "data": {
      "text/plain": [
       "MAE                   0.488435\n",
       "MSE                   0.522543\n",
       "RMSE                  0.722871\n",
       "standart deviation    0.543801\n",
       "dtype: float64"
      ]
     },
     "execution_count": 28,
     "metadata": {},
     "output_type": "execute_result"
    }
   ],
   "source": [
    "knn_results.iloc[:,1:].min()"
   ]
  },
  {
   "cell_type": "markdown",
   "id": "94d34c6b",
   "metadata": {},
   "source": [
    "#### Just seeing to the RMSE metric and standart deviation:"
   ]
  },
  {
   "cell_type": "code",
   "execution_count": 29,
   "id": "eae5cb00",
   "metadata": {},
   "outputs": [
    {
     "data": {
      "text/html": [
       "<div>\n",
       "<style scoped>\n",
       "    .dataframe tbody tr th:only-of-type {\n",
       "        vertical-align: middle;\n",
       "    }\n",
       "\n",
       "    .dataframe tbody tr th {\n",
       "        vertical-align: top;\n",
       "    }\n",
       "\n",
       "    .dataframe thead th {\n",
       "        text-align: right;\n",
       "    }\n",
       "</style>\n",
       "<table border=\"1\" class=\"dataframe\">\n",
       "  <thead>\n",
       "    <tr style=\"text-align: right;\">\n",
       "      <th></th>\n",
       "      <th>neighbors</th>\n",
       "      <th>MAE</th>\n",
       "      <th>MSE</th>\n",
       "      <th>RMSE</th>\n",
       "      <th>standart deviation</th>\n",
       "    </tr>\n",
       "  </thead>\n",
       "  <tbody>\n",
       "    <tr>\n",
       "      <th>1</th>\n",
       "      <td>3</td>\n",
       "      <td>0.542965</td>\n",
       "      <td>0.530359</td>\n",
       "      <td>0.728258</td>\n",
       "      <td>0.680281</td>\n",
       "    </tr>\n",
       "    <tr>\n",
       "      <th>2</th>\n",
       "      <td>5</td>\n",
       "      <td>0.552747</td>\n",
       "      <td>0.523961</td>\n",
       "      <td>0.723851</td>\n",
       "      <td>0.624284</td>\n",
       "    </tr>\n",
       "    <tr>\n",
       "      <th>3</th>\n",
       "      <td>7</td>\n",
       "      <td>0.556614</td>\n",
       "      <td>0.522543</td>\n",
       "      <td>0.722871</td>\n",
       "      <td>0.591181</td>\n",
       "    </tr>\n",
       "    <tr>\n",
       "      <th>4</th>\n",
       "      <td>9</td>\n",
       "      <td>0.565088</td>\n",
       "      <td>0.529730</td>\n",
       "      <td>0.727825</td>\n",
       "      <td>0.573712</td>\n",
       "    </tr>\n",
       "    <tr>\n",
       "      <th>5</th>\n",
       "      <td>11</td>\n",
       "      <td>0.567688</td>\n",
       "      <td>0.530018</td>\n",
       "      <td>0.728023</td>\n",
       "      <td>0.555080</td>\n",
       "    </tr>\n",
       "    <tr>\n",
       "      <th>6</th>\n",
       "      <td>13</td>\n",
       "      <td>0.568372</td>\n",
       "      <td>0.529832</td>\n",
       "      <td>0.727895</td>\n",
       "      <td>0.543801</td>\n",
       "    </tr>\n",
       "  </tbody>\n",
       "</table>\n",
       "</div>"
      ],
      "text/plain": [
       "   neighbors       MAE       MSE      RMSE  standart deviation\n",
       "1          3  0.542965  0.530359  0.728258            0.680281\n",
       "2          5  0.552747  0.523961  0.723851            0.624284\n",
       "3          7  0.556614  0.522543  0.722871            0.591181\n",
       "4          9  0.565088  0.529730  0.727825            0.573712\n",
       "5         11  0.567688  0.530018  0.728023            0.555080\n",
       "6         13  0.568372  0.529832  0.727895            0.543801"
      ]
     },
     "execution_count": 29,
     "metadata": {},
     "output_type": "execute_result"
    }
   ],
   "source": [
    "knn_results[knn_results['RMSE'] > knn_results['standart deviation']]"
   ]
  },
  {
   "cell_type": "markdown",
   "id": "5650c951",
   "metadata": {},
   "source": [
    "#### Unnormalized:"
   ]
  },
  {
   "cell_type": "code",
   "execution_count": 30,
   "id": "52bd976a",
   "metadata": {},
   "outputs": [
    {
     "data": {
      "text/html": [
       "<div>\n",
       "<style scoped>\n",
       "    .dataframe tbody tr th:only-of-type {\n",
       "        vertical-align: middle;\n",
       "    }\n",
       "\n",
       "    .dataframe tbody tr th {\n",
       "        vertical-align: top;\n",
       "    }\n",
       "\n",
       "    .dataframe thead th {\n",
       "        text-align: right;\n",
       "    }\n",
       "</style>\n",
       "<table border=\"1\" class=\"dataframe\">\n",
       "  <thead>\n",
       "    <tr style=\"text-align: right;\">\n",
       "      <th></th>\n",
       "      <th>neighbors</th>\n",
       "      <th>MAE</th>\n",
       "      <th>MSE</th>\n",
       "      <th>RMSE</th>\n",
       "      <th>standart deviation</th>\n",
       "    </tr>\n",
       "  </thead>\n",
       "  <tbody>\n",
       "    <tr>\n",
       "      <th>0</th>\n",
       "      <td>1</td>\n",
       "      <td>0.547619</td>\n",
       "      <td>0.803401</td>\n",
       "      <td>0.896327</td>\n",
       "      <td>0.873127</td>\n",
       "    </tr>\n",
       "    <tr>\n",
       "      <th>1</th>\n",
       "      <td>3</td>\n",
       "      <td>0.509113</td>\n",
       "      <td>0.594139</td>\n",
       "      <td>0.770804</td>\n",
       "      <td>0.705370</td>\n",
       "    </tr>\n",
       "    <tr>\n",
       "      <th>2</th>\n",
       "      <td>5</td>\n",
       "      <td>0.489908</td>\n",
       "      <td>0.539992</td>\n",
       "      <td>0.734841</td>\n",
       "      <td>0.653613</td>\n",
       "    </tr>\n",
       "    <tr>\n",
       "      <th>3</th>\n",
       "      <td>7</td>\n",
       "      <td>0.483511</td>\n",
       "      <td>0.522704</td>\n",
       "      <td>0.722983</td>\n",
       "      <td>0.631166</td>\n",
       "    </tr>\n",
       "    <tr>\n",
       "      <th>4</th>\n",
       "      <td>9</td>\n",
       "      <td>0.477511</td>\n",
       "      <td>0.511141</td>\n",
       "      <td>0.714941</td>\n",
       "      <td>0.615682</td>\n",
       "    </tr>\n",
       "    <tr>\n",
       "      <th>5</th>\n",
       "      <td>11</td>\n",
       "      <td>0.477414</td>\n",
       "      <td>0.507687</td>\n",
       "      <td>0.712522</td>\n",
       "      <td>0.602892</td>\n",
       "    </tr>\n",
       "    <tr>\n",
       "      <th>6</th>\n",
       "      <td>13</td>\n",
       "      <td>0.477391</td>\n",
       "      <td>0.501527</td>\n",
       "      <td>0.708185</td>\n",
       "      <td>0.592289</td>\n",
       "    </tr>\n",
       "  </tbody>\n",
       "</table>\n",
       "</div>"
      ],
      "text/plain": [
       "   neighbors       MAE       MSE      RMSE  standart deviation\n",
       "0          1  0.547619  0.803401  0.896327            0.873127\n",
       "1          3  0.509113  0.594139  0.770804            0.705370\n",
       "2          5  0.489908  0.539992  0.734841            0.653613\n",
       "3          7  0.483511  0.522704  0.722983            0.631166\n",
       "4          9  0.477511  0.511141  0.714941            0.615682\n",
       "5         11  0.477414  0.507687  0.712522            0.602892\n",
       "6         13  0.477391  0.501527  0.708185            0.592289"
      ]
     },
     "execution_count": 30,
     "metadata": {},
     "output_type": "execute_result"
    }
   ],
   "source": [
    "knn_results_un = pd.DataFrame.from_dict(knn_results_un)\n",
    "knn_results_un"
   ]
  },
  {
   "cell_type": "code",
   "execution_count": 31,
   "id": "aa190ba0",
   "metadata": {},
   "outputs": [
    {
     "data": {
      "text/plain": [
       "MAE                   0.477391\n",
       "MSE                   0.501527\n",
       "RMSE                  0.708185\n",
       "standart deviation    0.592289\n",
       "dtype: float64"
      ]
     },
     "execution_count": 31,
     "metadata": {},
     "output_type": "execute_result"
    }
   ],
   "source": [
    "knn_results_un.iloc[:,1:].min()"
   ]
  },
  {
   "cell_type": "markdown",
   "id": "f177d082",
   "metadata": {},
   "source": [
    "#### Just seeing to the RMSE metric and standart deviation:"
   ]
  },
  {
   "cell_type": "code",
   "execution_count": 32,
   "id": "5f5993d9",
   "metadata": {},
   "outputs": [
    {
     "data": {
      "text/html": [
       "<div>\n",
       "<style scoped>\n",
       "    .dataframe tbody tr th:only-of-type {\n",
       "        vertical-align: middle;\n",
       "    }\n",
       "\n",
       "    .dataframe tbody tr th {\n",
       "        vertical-align: top;\n",
       "    }\n",
       "\n",
       "    .dataframe thead th {\n",
       "        text-align: right;\n",
       "    }\n",
       "</style>\n",
       "<table border=\"1\" class=\"dataframe\">\n",
       "  <thead>\n",
       "    <tr style=\"text-align: right;\">\n",
       "      <th></th>\n",
       "      <th>neighbors</th>\n",
       "      <th>MAE</th>\n",
       "      <th>MSE</th>\n",
       "      <th>RMSE</th>\n",
       "      <th>standart deviation</th>\n",
       "    </tr>\n",
       "  </thead>\n",
       "  <tbody>\n",
       "    <tr>\n",
       "      <th>0</th>\n",
       "      <td>1</td>\n",
       "      <td>0.547619</td>\n",
       "      <td>0.803401</td>\n",
       "      <td>0.896327</td>\n",
       "      <td>0.873127</td>\n",
       "    </tr>\n",
       "    <tr>\n",
       "      <th>1</th>\n",
       "      <td>3</td>\n",
       "      <td>0.509113</td>\n",
       "      <td>0.594139</td>\n",
       "      <td>0.770804</td>\n",
       "      <td>0.705370</td>\n",
       "    </tr>\n",
       "    <tr>\n",
       "      <th>2</th>\n",
       "      <td>5</td>\n",
       "      <td>0.489908</td>\n",
       "      <td>0.539992</td>\n",
       "      <td>0.734841</td>\n",
       "      <td>0.653613</td>\n",
       "    </tr>\n",
       "    <tr>\n",
       "      <th>3</th>\n",
       "      <td>7</td>\n",
       "      <td>0.483511</td>\n",
       "      <td>0.522704</td>\n",
       "      <td>0.722983</td>\n",
       "      <td>0.631166</td>\n",
       "    </tr>\n",
       "    <tr>\n",
       "      <th>4</th>\n",
       "      <td>9</td>\n",
       "      <td>0.477511</td>\n",
       "      <td>0.511141</td>\n",
       "      <td>0.714941</td>\n",
       "      <td>0.615682</td>\n",
       "    </tr>\n",
       "    <tr>\n",
       "      <th>5</th>\n",
       "      <td>11</td>\n",
       "      <td>0.477414</td>\n",
       "      <td>0.507687</td>\n",
       "      <td>0.712522</td>\n",
       "      <td>0.602892</td>\n",
       "    </tr>\n",
       "    <tr>\n",
       "      <th>6</th>\n",
       "      <td>13</td>\n",
       "      <td>0.477391</td>\n",
       "      <td>0.501527</td>\n",
       "      <td>0.708185</td>\n",
       "      <td>0.592289</td>\n",
       "    </tr>\n",
       "  </tbody>\n",
       "</table>\n",
       "</div>"
      ],
      "text/plain": [
       "   neighbors       MAE       MSE      RMSE  standart deviation\n",
       "0          1  0.547619  0.803401  0.896327            0.873127\n",
       "1          3  0.509113  0.594139  0.770804            0.705370\n",
       "2          5  0.489908  0.539992  0.734841            0.653613\n",
       "3          7  0.483511  0.522704  0.722983            0.631166\n",
       "4          9  0.477511  0.511141  0.714941            0.615682\n",
       "5         11  0.477414  0.507687  0.712522            0.602892\n",
       "6         13  0.477391  0.501527  0.708185            0.592289"
      ]
     },
     "execution_count": 32,
     "metadata": {},
     "output_type": "execute_result"
    }
   ],
   "source": [
    "knn_results_un[knn_results_un['RMSE'] > knn_results_un['standart deviation']]"
   ]
  },
  {
   "cell_type": "markdown",
   "id": "f596e7a1",
   "metadata": {},
   "source": [
    "#### All normalized:"
   ]
  },
  {
   "cell_type": "code",
   "execution_count": 33,
   "id": "5d6377c4",
   "metadata": {},
   "outputs": [
    {
     "data": {
      "text/html": [
       "<div>\n",
       "<style scoped>\n",
       "    .dataframe tbody tr th:only-of-type {\n",
       "        vertical-align: middle;\n",
       "    }\n",
       "\n",
       "    .dataframe tbody tr th {\n",
       "        vertical-align: top;\n",
       "    }\n",
       "\n",
       "    .dataframe thead th {\n",
       "        text-align: right;\n",
       "    }\n",
       "</style>\n",
       "<table border=\"1\" class=\"dataframe\">\n",
       "  <thead>\n",
       "    <tr style=\"text-align: right;\">\n",
       "      <th></th>\n",
       "      <th>neighbors</th>\n",
       "      <th>MAE</th>\n",
       "      <th>MSE</th>\n",
       "      <th>RMSE</th>\n",
       "      <th>standart deviation</th>\n",
       "    </tr>\n",
       "  </thead>\n",
       "  <tbody>\n",
       "    <tr>\n",
       "      <th>0</th>\n",
       "      <td>1</td>\n",
       "      <td>2.877551</td>\n",
       "      <td>9.062585</td>\n",
       "      <td>3.010413</td>\n",
       "      <td>1.764231e-16</td>\n",
       "    </tr>\n",
       "    <tr>\n",
       "      <th>1</th>\n",
       "      <td>3</td>\n",
       "      <td>2.085172</td>\n",
       "      <td>5.169768</td>\n",
       "      <td>2.273712</td>\n",
       "      <td>3.049628e-01</td>\n",
       "    </tr>\n",
       "    <tr>\n",
       "      <th>2</th>\n",
       "      <td>5</td>\n",
       "      <td>1.702332</td>\n",
       "      <td>3.605721</td>\n",
       "      <td>1.898874</td>\n",
       "      <td>3.445007e-02</td>\n",
       "    </tr>\n",
       "    <tr>\n",
       "      <th>3</th>\n",
       "      <td>7</td>\n",
       "      <td>1.551306</td>\n",
       "      <td>3.123319</td>\n",
       "      <td>1.767291</td>\n",
       "      <td>1.337205e-01</td>\n",
       "    </tr>\n",
       "    <tr>\n",
       "      <th>4</th>\n",
       "      <td>9</td>\n",
       "      <td>1.399321</td>\n",
       "      <td>2.713595</td>\n",
       "      <td>1.647299</td>\n",
       "      <td>2.052907e-01</td>\n",
       "    </tr>\n",
       "    <tr>\n",
       "      <th>5</th>\n",
       "      <td>11</td>\n",
       "      <td>1.273330</td>\n",
       "      <td>2.328300</td>\n",
       "      <td>1.525877</td>\n",
       "      <td>2.056762e-01</td>\n",
       "    </tr>\n",
       "    <tr>\n",
       "      <th>6</th>\n",
       "      <td>13</td>\n",
       "      <td>1.173325</td>\n",
       "      <td>2.037513</td>\n",
       "      <td>1.427415</td>\n",
       "      <td>1.715549e-01</td>\n",
       "    </tr>\n",
       "  </tbody>\n",
       "</table>\n",
       "</div>"
      ],
      "text/plain": [
       "   neighbors       MAE       MSE      RMSE  standart deviation\n",
       "0          1  2.877551  9.062585  3.010413        1.764231e-16\n",
       "1          3  2.085172  5.169768  2.273712        3.049628e-01\n",
       "2          5  1.702332  3.605721  1.898874        3.445007e-02\n",
       "3          7  1.551306  3.123319  1.767291        1.337205e-01\n",
       "4          9  1.399321  2.713595  1.647299        2.052907e-01\n",
       "5         11  1.273330  2.328300  1.525877        2.056762e-01\n",
       "6         13  1.173325  2.037513  1.427415        1.715549e-01"
      ]
     },
     "execution_count": 33,
     "metadata": {},
     "output_type": "execute_result"
    }
   ],
   "source": [
    "knn_results_all = pd.DataFrame.from_dict(knn_results_all)\n",
    "knn_results_all"
   ]
  },
  {
   "cell_type": "code",
   "execution_count": 34,
   "id": "8d34b417",
   "metadata": {},
   "outputs": [
    {
     "data": {
      "text/plain": [
       "MAE                   1.173325e+00\n",
       "MSE                   2.037513e+00\n",
       "RMSE                  1.427415e+00\n",
       "standart deviation    1.764231e-16\n",
       "dtype: float64"
      ]
     },
     "execution_count": 34,
     "metadata": {},
     "output_type": "execute_result"
    }
   ],
   "source": [
    "knn_results_all.iloc[:,1:].min()"
   ]
  },
  {
   "cell_type": "markdown",
   "id": "1378977a",
   "metadata": {},
   "source": [
    "#### Just seeing to the RMSE metric and standart deviation:"
   ]
  },
  {
   "cell_type": "code",
   "execution_count": 35,
   "id": "67f95328",
   "metadata": {},
   "outputs": [
    {
     "data": {
      "text/html": [
       "<div>\n",
       "<style scoped>\n",
       "    .dataframe tbody tr th:only-of-type {\n",
       "        vertical-align: middle;\n",
       "    }\n",
       "\n",
       "    .dataframe tbody tr th {\n",
       "        vertical-align: top;\n",
       "    }\n",
       "\n",
       "    .dataframe thead th {\n",
       "        text-align: right;\n",
       "    }\n",
       "</style>\n",
       "<table border=\"1\" class=\"dataframe\">\n",
       "  <thead>\n",
       "    <tr style=\"text-align: right;\">\n",
       "      <th></th>\n",
       "      <th>neighbors</th>\n",
       "      <th>MAE</th>\n",
       "      <th>MSE</th>\n",
       "      <th>RMSE</th>\n",
       "      <th>standart deviation</th>\n",
       "    </tr>\n",
       "  </thead>\n",
       "  <tbody>\n",
       "    <tr>\n",
       "      <th>0</th>\n",
       "      <td>1</td>\n",
       "      <td>2.877551</td>\n",
       "      <td>9.062585</td>\n",
       "      <td>3.010413</td>\n",
       "      <td>1.764231e-16</td>\n",
       "    </tr>\n",
       "    <tr>\n",
       "      <th>1</th>\n",
       "      <td>3</td>\n",
       "      <td>2.085172</td>\n",
       "      <td>5.169768</td>\n",
       "      <td>2.273712</td>\n",
       "      <td>3.049628e-01</td>\n",
       "    </tr>\n",
       "    <tr>\n",
       "      <th>2</th>\n",
       "      <td>5</td>\n",
       "      <td>1.702332</td>\n",
       "      <td>3.605721</td>\n",
       "      <td>1.898874</td>\n",
       "      <td>3.445007e-02</td>\n",
       "    </tr>\n",
       "    <tr>\n",
       "      <th>3</th>\n",
       "      <td>7</td>\n",
       "      <td>1.551306</td>\n",
       "      <td>3.123319</td>\n",
       "      <td>1.767291</td>\n",
       "      <td>1.337205e-01</td>\n",
       "    </tr>\n",
       "    <tr>\n",
       "      <th>4</th>\n",
       "      <td>9</td>\n",
       "      <td>1.399321</td>\n",
       "      <td>2.713595</td>\n",
       "      <td>1.647299</td>\n",
       "      <td>2.052907e-01</td>\n",
       "    </tr>\n",
       "    <tr>\n",
       "      <th>5</th>\n",
       "      <td>11</td>\n",
       "      <td>1.273330</td>\n",
       "      <td>2.328300</td>\n",
       "      <td>1.525877</td>\n",
       "      <td>2.056762e-01</td>\n",
       "    </tr>\n",
       "    <tr>\n",
       "      <th>6</th>\n",
       "      <td>13</td>\n",
       "      <td>1.173325</td>\n",
       "      <td>2.037513</td>\n",
       "      <td>1.427415</td>\n",
       "      <td>1.715549e-01</td>\n",
       "    </tr>\n",
       "  </tbody>\n",
       "</table>\n",
       "</div>"
      ],
      "text/plain": [
       "   neighbors       MAE       MSE      RMSE  standart deviation\n",
       "0          1  2.877551  9.062585  3.010413        1.764231e-16\n",
       "1          3  2.085172  5.169768  2.273712        3.049628e-01\n",
       "2          5  1.702332  3.605721  1.898874        3.445007e-02\n",
       "3          7  1.551306  3.123319  1.767291        1.337205e-01\n",
       "4          9  1.399321  2.713595  1.647299        2.052907e-01\n",
       "5         11  1.273330  2.328300  1.525877        2.056762e-01\n",
       "6         13  1.173325  2.037513  1.427415        1.715549e-01"
      ]
     },
     "execution_count": 35,
     "metadata": {},
     "output_type": "execute_result"
    }
   ],
   "source": [
    "knn_results_all[knn_results_all['RMSE'] > knn_results_all['standart deviation']]"
   ]
  },
  {
   "cell_type": "markdown",
   "id": "ee03a309",
   "metadata": {},
   "source": [
    "## 6. Conclusion:"
   ]
  },
  {
   "cell_type": "markdown",
   "id": "0a54012d",
   "metadata": {},
   "source": [
    "### Part - Normalized:"
   ]
  },
  {
   "cell_type": "code",
   "execution_count": 39,
   "id": "55992b2e",
   "metadata": {},
   "outputs": [
    {
     "data": {
      "image/png": "[encoded data removed]",
      "text/plain": [
       "<Figure size 576x396 with 1 Axes>"
      ]
     },
     "metadata": {},
     "output_type": "display_data"
    }
   ],
   "source": [
    "x = np.arange(1,14,2)\n",
    "plt.title('Regression Metrics - Part Normalized', fontweight='bold', fontsize=12, color='black')\n",
    "plt.plot(x, knn_results['RMSE'].sort_values(), c = 'green', label = 'RMSE')\n",
    "plt.plot(x, knn_results['MAE'].sort_values(), c = 'red', label = 'MAE')\n",
    "plt.plot(x, knn_results['standart deviation'].sort_values(), c = 'blue', label = 'std')\n",
    "# plt.plot(x, knn_results['MSE'].sort_values(), c = 'blue', label = 'MSE') \n",
    "# Only the use of RMSE was chosen\n",
    "#plt.axvline(x = 7, c = 'gray')\n",
    "#plt.axvline(x = 1, c = 'gray')\n",
    "plt.legend()\n",
    "plt.ylabel('Error rate',fontweight='bold', fontsize=10, color='darkslategrey')\n",
    "plt.xlabel('Number of neighbors',fontweight='bold', fontsize=10, color='darkslategrey')\n",
    "plt.style.use(\"seaborn\")\n",
    "plt.show()"
   ]
  },
  {
   "cell_type": "markdown",
   "id": "eb16d930",
   "metadata": {},
   "source": [
    "### All - Normalized:"
   ]
  },
  {
   "cell_type": "code",
   "execution_count": 37,
   "id": "36b0ebe8",
   "metadata": {},
   "outputs": [
    {
     "data": {
      "image/png": "[encoded data removed]",
      "text/plain": [
       "<Figure size 576x396 with 1 Axes>"
      ]
     },
     "metadata": {},
     "output_type": "display_data"
    }
   ],
   "source": [
    "x_un = np.arange(1,14,2)\n",
    "plt.title('Regression Metrics - All normalized', fontweight='bold', fontsize=12, color='black')\n",
    "plt.plot(x_un, knn_results_un['RMSE'].sort_values(), c = 'green', label = 'RMSE')\n",
    "plt.plot(x_un, knn_results_un['MAE'].sort_values(), c = 'red', label = 'MAE')\n",
    "plt.plot(x_un, knn_results_un['standart deviation'].sort_values(), c = 'blue', label = 'std')\n",
    "# plt.plot(x, knn_results_un['MSE'].sort_values(), c = 'blue', label = 'MSE') \n",
    "# Only the use of RMSE was chosen\n",
    "#plt.axvline(x = 7, c = 'gray')\n",
    "#plt.axvline(x = 1, c = 'gray')\n",
    "plt.legend()\n",
    "plt.ylabel('Error rate',fontweight='bold', fontsize=10, color='darkslategrey')\n",
    "plt.xlabel('Number of neighbors',fontweight='bold', fontsize=10, color='darkslategrey')\n",
    "plt.style.use(\"seaborn\")\n",
    "plt.show()"
   ]
  },
  {
   "cell_type": "markdown",
   "id": "27a8211a",
   "metadata": {},
   "source": [
    "### Unnormalized:"
   ]
  },
  {
   "cell_type": "code",
   "execution_count": 38,
   "id": "73d73a9e",
   "metadata": {},
   "outputs": [
    {
     "data": {
      "image/png": "[encoded data removed]",
      "text/plain": [
       "<Figure size 576x396 with 1 Axes>"
      ]
     },
     "metadata": {},
     "output_type": "display_data"
    }
   ],
   "source": [
    "x_un = np.arange(1,14,2)\n",
    "plt.title('Regression Metrics - Unnormalized', fontweight='bold', fontsize=12, color='black')\n",
    "plt.plot(x_un, knn_results_un['RMSE'].sort_values(), c = 'green', label = 'RMSE')\n",
    "plt.plot(x_un, knn_results_un['MAE'].sort_values(), c = 'red', label = 'MAE')\n",
    "plt.plot(x_un, knn_results_un['standart deviation'].sort_values(), c = 'blue', label = 'std')\n",
    "# plt.plot(x, knn_results_un['MSE'].sort_values(), c = 'blue', label = 'MSE') \n",
    "# Only the use of RMSE was chosen\n",
    "#plt.axvline(x = 7, c = 'gray')\n",
    "#plt.axvline(x = 1, c = 'gray')\n",
    "plt.legend()\n",
    "plt.ylabel('Error rate',fontweight='bold', fontsize=10, color='darkslategrey')\n",
    "plt.xlabel('Number of neighbors',fontweight='bold', fontsize=10, color='darkslategrey')\n",
    "plt.style.use(\"seaborn\")\n",
    "plt.show()"
   ]
  },
  {
   "cell_type": "markdown",
   "id": "c9cae1b4",
   "metadata": {},
   "source": [
    "### *We can conclude that there is a difference between the data part-normalized, all-normalized and unnormalized* \n",
    "\n",
    "#### We can say that data all normalized isn't a better than part normalized.\n",
    "#### *In this analisys `THE NORMALIZED DATA IS A BETTER CHOICE WHEN THE NEIGHBOR IS 3 AND WE SEEK FOR THE STANDARD DEVIATION SMALLER!`*"
   ]
  }
 ],
 "metadata": {
  "kernelspec": {
   "display_name": "Python 3",
   "language": "python",
   "name": "python3"
  },
  "language_info": {
   "codemirror_mode": {
    "name": "ipython",
    "version": 3
   },
   "file_extension": ".py",
   "mimetype": "text/x-python",
   "name": "python",
   "nbconvert_exporter": "python",
   "pygments_lexer": "ipython3",
   "version": "3.9.4"
  }
 },
 "nbformat": 4,
 "nbformat_minor": 5
}
