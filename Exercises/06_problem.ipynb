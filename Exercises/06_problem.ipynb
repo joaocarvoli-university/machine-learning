{
  "nbformat": 4,
  "nbformat_minor": 0,
  "metadata": {
    "colab": {
      "name": "06-problem",
      "provenance": [],
      "collapsed_sections": [],
      "mount_file_id": "1W5F44_oYbZ80DnMIOujivG2n715pVS7R",
      "authorship_tag": "ABX9TyNJC2qU+gYuLF7De/3F7oTb",
      "include_colab_link": true
    },
    "kernelspec": {
      "name": "python3",
      "display_name": "Python 3"
    },
    "language_info": {
      "name": "python"
    }
  },
  "cells": [
    {
      "cell_type": "markdown",
      "metadata": {
        "id": "view-in-github",
        "colab_type": "text"
      },
      "source": [
        "<a href=\"https://colab.research.google.com/github/joaocarvoli/MachineLearning-course/blob/main/Exercises/06_problem.ipynb\" target=\"_parent\"><img src=\"https://colab.research.google.com/assets/colab-badge.svg\" alt=\"Open In Colab\"/></a>"
      ]
    },
    {
      "cell_type": "markdown",
      "metadata": {
        "id": "PeHlvUhNrdK6"
      },
      "source": [
        "# Problem 06\n",
        "## In this exercise We'll work with validations, like the holdout, cross-validation, pipeline, and grid search CV.\n",
        "\n",
        "\n",
        "---\n",
        "\n",
        "## The dataset that we'll use is: [`Pima Indians Diabetes Database`](https://data.world/data-society/pima-indians-diabetes-database).\n",
        "\n"
      ]
    },
    {
      "cell_type": "markdown",
      "metadata": {
        "id": "kIXcbci3t3pz"
      },
      "source": [
        "### 1 - *Imports:*"
      ]
    },
    {
      "cell_type": "code",
      "metadata": {
        "id": "823lUrWktxCW"
      },
      "source": [
        "# Libraries\n",
        "import numpy as np\n",
        "import pandas as pd\n",
        "from sklearn.metrics import f1_score\n",
        "from sklearn.pipeline import make_pipeline\n",
        "from sklearn.model_selection import GridSearchCV\n",
        "from sklearn.neighbors import KNeighborsClassifier\n",
        "from sklearn.model_selection import cross_val_score\n",
        "from sklearn.preprocessing import MinMaxScaler, StandardScaler\n",
        "from sklearn.model_selection import train_test_split, StratifiedShuffleSplit"
      ],
      "execution_count": 1,
      "outputs": []
    },
    {
      "cell_type": "code",
      "metadata": {
        "colab": {
          "base_uri": "https://localhost:8080/",
          "height": 203
        },
        "id": "AlTRYZM1uP9l",
        "outputId": "312e24b5-154b-42cd-f303-f9ac8e944a93"
      },
      "source": [
        "# Dataset\n",
        "df = pd.read_csv('/content/drive/MyDrive/data-sets/diabetes/diabetes.csv')\n",
        "df.head()"
      ],
      "execution_count": 2,
      "outputs": [
        {
          "output_type": "execute_result",
          "data": {
            "text/html": [
              "<div>\n",
              "<style scoped>\n",
              "    .dataframe tbody tr th:only-of-type {\n",
              "        vertical-align: middle;\n",
              "    }\n",
              "\n",
              "    .dataframe tbody tr th {\n",
              "        vertical-align: top;\n",
              "    }\n",
              "\n",
              "    .dataframe thead th {\n",
              "        text-align: right;\n",
              "    }\n",
              "</style>\n",
              "<table border=\"1\" class=\"dataframe\">\n",
              "  <thead>\n",
              "    <tr style=\"text-align: right;\">\n",
              "      <th></th>\n",
              "      <th>Pregnancies</th>\n",
              "      <th>Glucose</th>\n",
              "      <th>BloodPressure</th>\n",
              "      <th>SkinThickness</th>\n",
              "      <th>Insulin</th>\n",
              "      <th>BMI</th>\n",
              "      <th>DiabetesPedigreeFunction</th>\n",
              "      <th>Age</th>\n",
              "      <th>Outcome</th>\n",
              "    </tr>\n",
              "  </thead>\n",
              "  <tbody>\n",
              "    <tr>\n",
              "      <th>0</th>\n",
              "      <td>6</td>\n",
              "      <td>148</td>\n",
              "      <td>72</td>\n",
              "      <td>35</td>\n",
              "      <td>0</td>\n",
              "      <td>33.6</td>\n",
              "      <td>0.627</td>\n",
              "      <td>50</td>\n",
              "      <td>1</td>\n",
              "    </tr>\n",
              "    <tr>\n",
              "      <th>1</th>\n",
              "      <td>1</td>\n",
              "      <td>85</td>\n",
              "      <td>66</td>\n",
              "      <td>29</td>\n",
              "      <td>0</td>\n",
              "      <td>26.6</td>\n",
              "      <td>0.351</td>\n",
              "      <td>31</td>\n",
              "      <td>0</td>\n",
              "    </tr>\n",
              "    <tr>\n",
              "      <th>2</th>\n",
              "      <td>8</td>\n",
              "      <td>183</td>\n",
              "      <td>64</td>\n",
              "      <td>0</td>\n",
              "      <td>0</td>\n",
              "      <td>23.3</td>\n",
              "      <td>0.672</td>\n",
              "      <td>32</td>\n",
              "      <td>1</td>\n",
              "    </tr>\n",
              "    <tr>\n",
              "      <th>3</th>\n",
              "      <td>1</td>\n",
              "      <td>89</td>\n",
              "      <td>66</td>\n",
              "      <td>23</td>\n",
              "      <td>94</td>\n",
              "      <td>28.1</td>\n",
              "      <td>0.167</td>\n",
              "      <td>21</td>\n",
              "      <td>0</td>\n",
              "    </tr>\n",
              "    <tr>\n",
              "      <th>4</th>\n",
              "      <td>0</td>\n",
              "      <td>137</td>\n",
              "      <td>40</td>\n",
              "      <td>35</td>\n",
              "      <td>168</td>\n",
              "      <td>43.1</td>\n",
              "      <td>2.288</td>\n",
              "      <td>33</td>\n",
              "      <td>1</td>\n",
              "    </tr>\n",
              "  </tbody>\n",
              "</table>\n",
              "</div>"
            ],
            "text/plain": [
              "   Pregnancies  Glucose  BloodPressure  ...  DiabetesPedigreeFunction  Age  Outcome\n",
              "0            6      148             72  ...                     0.627   50        1\n",
              "1            1       85             66  ...                     0.351   31        0\n",
              "2            8      183             64  ...                     0.672   32        1\n",
              "3            1       89             66  ...                     0.167   21        0\n",
              "4            0      137             40  ...                     2.288   33        1\n",
              "\n",
              "[5 rows x 9 columns]"
            ]
          },
          "metadata": {
            "tags": []
          },
          "execution_count": 2
        }
      ]
    },
    {
      "cell_type": "markdown",
      "metadata": {
        "id": "MnVc1toouc07"
      },
      "source": [
        "### 2 - *Validation types:*  "
      ]
    },
    {
      "cell_type": "code",
      "metadata": {
        "id": "lh0MpwaovQ4J"
      },
      "source": [
        "X = df.iloc[:,:-1]\n",
        "y = df.iloc[:,-1]"
      ],
      "execution_count": 3,
      "outputs": []
    },
    {
      "cell_type": "code",
      "metadata": {
        "colab": {
          "base_uri": "https://localhost:8080/",
          "height": 417
        },
        "id": "fC5SoF8ivZv-",
        "outputId": "60be212d-c78e-41bd-c921-d1c6265ab74e"
      },
      "source": [
        "X"
      ],
      "execution_count": 4,
      "outputs": [
        {
          "output_type": "execute_result",
          "data": {
            "text/html": [
              "<div>\n",
              "<style scoped>\n",
              "    .dataframe tbody tr th:only-of-type {\n",
              "        vertical-align: middle;\n",
              "    }\n",
              "\n",
              "    .dataframe tbody tr th {\n",
              "        vertical-align: top;\n",
              "    }\n",
              "\n",
              "    .dataframe thead th {\n",
              "        text-align: right;\n",
              "    }\n",
              "</style>\n",
              "<table border=\"1\" class=\"dataframe\">\n",
              "  <thead>\n",
              "    <tr style=\"text-align: right;\">\n",
              "      <th></th>\n",
              "      <th>Pregnancies</th>\n",
              "      <th>Glucose</th>\n",
              "      <th>BloodPressure</th>\n",
              "      <th>SkinThickness</th>\n",
              "      <th>Insulin</th>\n",
              "      <th>BMI</th>\n",
              "      <th>DiabetesPedigreeFunction</th>\n",
              "      <th>Age</th>\n",
              "    </tr>\n",
              "  </thead>\n",
              "  <tbody>\n",
              "    <tr>\n",
              "      <th>0</th>\n",
              "      <td>6</td>\n",
              "      <td>148</td>\n",
              "      <td>72</td>\n",
              "      <td>35</td>\n",
              "      <td>0</td>\n",
              "      <td>33.6</td>\n",
              "      <td>0.627</td>\n",
              "      <td>50</td>\n",
              "    </tr>\n",
              "    <tr>\n",
              "      <th>1</th>\n",
              "      <td>1</td>\n",
              "      <td>85</td>\n",
              "      <td>66</td>\n",
              "      <td>29</td>\n",
              "      <td>0</td>\n",
              "      <td>26.6</td>\n",
              "      <td>0.351</td>\n",
              "      <td>31</td>\n",
              "    </tr>\n",
              "    <tr>\n",
              "      <th>2</th>\n",
              "      <td>8</td>\n",
              "      <td>183</td>\n",
              "      <td>64</td>\n",
              "      <td>0</td>\n",
              "      <td>0</td>\n",
              "      <td>23.3</td>\n",
              "      <td>0.672</td>\n",
              "      <td>32</td>\n",
              "    </tr>\n",
              "    <tr>\n",
              "      <th>3</th>\n",
              "      <td>1</td>\n",
              "      <td>89</td>\n",
              "      <td>66</td>\n",
              "      <td>23</td>\n",
              "      <td>94</td>\n",
              "      <td>28.1</td>\n",
              "      <td>0.167</td>\n",
              "      <td>21</td>\n",
              "    </tr>\n",
              "    <tr>\n",
              "      <th>4</th>\n",
              "      <td>0</td>\n",
              "      <td>137</td>\n",
              "      <td>40</td>\n",
              "      <td>35</td>\n",
              "      <td>168</td>\n",
              "      <td>43.1</td>\n",
              "      <td>2.288</td>\n",
              "      <td>33</td>\n",
              "    </tr>\n",
              "    <tr>\n",
              "      <th>...</th>\n",
              "      <td>...</td>\n",
              "      <td>...</td>\n",
              "      <td>...</td>\n",
              "      <td>...</td>\n",
              "      <td>...</td>\n",
              "      <td>...</td>\n",
              "      <td>...</td>\n",
              "      <td>...</td>\n",
              "    </tr>\n",
              "    <tr>\n",
              "      <th>763</th>\n",
              "      <td>10</td>\n",
              "      <td>101</td>\n",
              "      <td>76</td>\n",
              "      <td>48</td>\n",
              "      <td>180</td>\n",
              "      <td>32.9</td>\n",
              "      <td>0.171</td>\n",
              "      <td>63</td>\n",
              "    </tr>\n",
              "    <tr>\n",
              "      <th>764</th>\n",
              "      <td>2</td>\n",
              "      <td>122</td>\n",
              "      <td>70</td>\n",
              "      <td>27</td>\n",
              "      <td>0</td>\n",
              "      <td>36.8</td>\n",
              "      <td>0.340</td>\n",
              "      <td>27</td>\n",
              "    </tr>\n",
              "    <tr>\n",
              "      <th>765</th>\n",
              "      <td>5</td>\n",
              "      <td>121</td>\n",
              "      <td>72</td>\n",
              "      <td>23</td>\n",
              "      <td>112</td>\n",
              "      <td>26.2</td>\n",
              "      <td>0.245</td>\n",
              "      <td>30</td>\n",
              "    </tr>\n",
              "    <tr>\n",
              "      <th>766</th>\n",
              "      <td>1</td>\n",
              "      <td>126</td>\n",
              "      <td>60</td>\n",
              "      <td>0</td>\n",
              "      <td>0</td>\n",
              "      <td>30.1</td>\n",
              "      <td>0.349</td>\n",
              "      <td>47</td>\n",
              "    </tr>\n",
              "    <tr>\n",
              "      <th>767</th>\n",
              "      <td>1</td>\n",
              "      <td>93</td>\n",
              "      <td>70</td>\n",
              "      <td>31</td>\n",
              "      <td>0</td>\n",
              "      <td>30.4</td>\n",
              "      <td>0.315</td>\n",
              "      <td>23</td>\n",
              "    </tr>\n",
              "  </tbody>\n",
              "</table>\n",
              "<p>768 rows × 8 columns</p>\n",
              "</div>"
            ],
            "text/plain": [
              "     Pregnancies  Glucose  BloodPressure  ...   BMI  DiabetesPedigreeFunction  Age\n",
              "0              6      148             72  ...  33.6                     0.627   50\n",
              "1              1       85             66  ...  26.6                     0.351   31\n",
              "2              8      183             64  ...  23.3                     0.672   32\n",
              "3              1       89             66  ...  28.1                     0.167   21\n",
              "4              0      137             40  ...  43.1                     2.288   33\n",
              "..           ...      ...            ...  ...   ...                       ...  ...\n",
              "763           10      101             76  ...  32.9                     0.171   63\n",
              "764            2      122             70  ...  36.8                     0.340   27\n",
              "765            5      121             72  ...  26.2                     0.245   30\n",
              "766            1      126             60  ...  30.1                     0.349   47\n",
              "767            1       93             70  ...  30.4                     0.315   23\n",
              "\n",
              "[768 rows x 8 columns]"
            ]
          },
          "metadata": {
            "tags": []
          },
          "execution_count": 4
        }
      ]
    },
    {
      "cell_type": "code",
      "metadata": {
        "colab": {
          "base_uri": "https://localhost:8080/"
        },
        "id": "l562eBpsvbi1",
        "outputId": "6c38a125-eeb9-4853-82ec-b0d7633fdd79"
      },
      "source": [
        "y"
      ],
      "execution_count": 5,
      "outputs": [
        {
          "output_type": "execute_result",
          "data": {
            "text/plain": [
              "0      1\n",
              "1      0\n",
              "2      1\n",
              "3      0\n",
              "4      1\n",
              "      ..\n",
              "763    0\n",
              "764    0\n",
              "765    0\n",
              "766    1\n",
              "767    0\n",
              "Name: Outcome, Length: 768, dtype: int64"
            ]
          },
          "metadata": {
            "tags": []
          },
          "execution_count": 5
        }
      ]
    },
    {
      "cell_type": "markdown",
      "metadata": {
        "id": "2zc6U-nDvLpC"
      },
      "source": [
        "### `Holdout`"
      ]
    },
    {
      "cell_type": "markdown",
      "metadata": {
        "id": "NdFg41dQ2t4K"
      },
      "source": [
        "#### - Normal split and shuffle"
      ]
    },
    {
      "cell_type": "code",
      "metadata": {
        "id": "-mpPFdysuqva"
      },
      "source": [
        "X_train, X_test, y_train, y_test = train_test_split(X, y, test_size = 0.2 , random_state = 29)\n",
        "set_holdout = pd.concat([X_train, y_train], axis = 1)\n",
        "X_train_hold, X_test_hold, y_train_hold, y_test_hold = train_test_split(set_holdout.iloc[:,:-1], set_holdout.iloc[:,-1], test_size = 0.3 , random_state = 29)"
      ],
      "execution_count": 6,
      "outputs": []
    },
    {
      "cell_type": "markdown",
      "metadata": {
        "id": "gMnPl3gas-yy"
      },
      "source": [
        "![Copy of data.png](data:image/png;base64,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)"
      ]
    },
    {
      "cell_type": "code",
      "metadata": {
        "colab": {
          "base_uri": "https://localhost:8080/",
          "height": 511
        },
        "id": "7jvpE3Bjc1s0",
        "outputId": "0ea1ad84-ff51-4e43-ba42-abbfc108ebdc"
      },
      "source": [
        "scalers = ['no scaler', 'minmax', 'std']\n",
        "knn_hold = {'neighbor':[], 'F1 score':[], 'scaler':[]}\n",
        "neighbors = [3,5,7,9,11]\n",
        "\n",
        "\n",
        "for i in neighbors:\n",
        "    for sca in scalers:\n",
        "        knn = KNeighborsClassifier(n_neighbors = i)\n",
        "\n",
        "        if sca == 'std':\n",
        "            scaler = StandardScaler().fit(X_train_hold)\n",
        "            X_train_transformed = scaler.transform(X_train_hold)\n",
        "\n",
        "            knn = knn.fit(X_train_transformed, y_train_hold)\n",
        "\n",
        "            X_test_transformed = scaler.transform(X_test_hold)\n",
        "            pred = knn.predict(X_test_transformed)\n",
        "            score = f1_score(y_test_hold, pred)\n",
        "\n",
        "        elif sca == 'minmax':\n",
        "            scaler = MinMaxScaler().fit(X_train_hold)\n",
        "            X_train_transformed = scaler.transform(X_train_hold)\n",
        "\n",
        "            knn = knn.fit(X_train_transformed, y_train_hold)\n",
        "\n",
        "            X_test_transformed = scaler.transform(X_test_hold)\n",
        "            pred = knn.predict(X_test_transformed)\n",
        "            score = f1_score(y_test_hold, pred)\n",
        "\n",
        "\n",
        "        else:\n",
        "            knn.fit(X_train_hold, y_train_hold)\n",
        "            pred = knn.predict(X_test_hold)\n",
        "            score = f1_score(y_test_hold, pred)\n",
        "\n",
        "        knn_hold['F1 score'].append(score)\n",
        "        knn_hold['neighbor'].append(i)\n",
        "        knn_hold['scaler'].append(sca)\n",
        "\n",
        "\n",
        "knn_hold = pd.DataFrame.from_dict(knn_hold)\n",
        "knn_hold.sort_values(by = 'F1 score', ascending=False)"
      ],
      "execution_count": 7,
      "outputs": [
        {
          "output_type": "execute_result",
          "data": {
            "text/html": [
              "<div>\n",
              "<style scoped>\n",
              "    .dataframe tbody tr th:only-of-type {\n",
              "        vertical-align: middle;\n",
              "    }\n",
              "\n",
              "    .dataframe tbody tr th {\n",
              "        vertical-align: top;\n",
              "    }\n",
              "\n",
              "    .dataframe thead th {\n",
              "        text-align: right;\n",
              "    }\n",
              "</style>\n",
              "<table border=\"1\" class=\"dataframe\">\n",
              "  <thead>\n",
              "    <tr style=\"text-align: right;\">\n",
              "      <th></th>\n",
              "      <th>neighbor</th>\n",
              "      <th>F1 score</th>\n",
              "      <th>scaler</th>\n",
              "    </tr>\n",
              "  </thead>\n",
              "  <tbody>\n",
              "    <tr>\n",
              "      <th>9</th>\n",
              "      <td>9</td>\n",
              "      <td>0.656000</td>\n",
              "      <td>no scaler</td>\n",
              "    </tr>\n",
              "    <tr>\n",
              "      <th>12</th>\n",
              "      <td>11</td>\n",
              "      <td>0.639344</td>\n",
              "      <td>no scaler</td>\n",
              "    </tr>\n",
              "    <tr>\n",
              "      <th>0</th>\n",
              "      <td>3</td>\n",
              "      <td>0.637037</td>\n",
              "      <td>no scaler</td>\n",
              "    </tr>\n",
              "    <tr>\n",
              "      <th>6</th>\n",
              "      <td>7</td>\n",
              "      <td>0.625954</td>\n",
              "      <td>no scaler</td>\n",
              "    </tr>\n",
              "    <tr>\n",
              "      <th>5</th>\n",
              "      <td>5</td>\n",
              "      <td>0.603175</td>\n",
              "      <td>std</td>\n",
              "    </tr>\n",
              "    <tr>\n",
              "      <th>3</th>\n",
              "      <td>5</td>\n",
              "      <td>0.600000</td>\n",
              "      <td>no scaler</td>\n",
              "    </tr>\n",
              "    <tr>\n",
              "      <th>1</th>\n",
              "      <td>3</td>\n",
              "      <td>0.592000</td>\n",
              "      <td>minmax</td>\n",
              "    </tr>\n",
              "    <tr>\n",
              "      <th>4</th>\n",
              "      <td>5</td>\n",
              "      <td>0.592000</td>\n",
              "      <td>minmax</td>\n",
              "    </tr>\n",
              "    <tr>\n",
              "      <th>2</th>\n",
              "      <td>3</td>\n",
              "      <td>0.585366</td>\n",
              "      <td>std</td>\n",
              "    </tr>\n",
              "    <tr>\n",
              "      <th>8</th>\n",
              "      <td>7</td>\n",
              "      <td>0.573770</td>\n",
              "      <td>std</td>\n",
              "    </tr>\n",
              "    <tr>\n",
              "      <th>14</th>\n",
              "      <td>11</td>\n",
              "      <td>0.559322</td>\n",
              "      <td>std</td>\n",
              "    </tr>\n",
              "    <tr>\n",
              "      <th>11</th>\n",
              "      <td>9</td>\n",
              "      <td>0.554622</td>\n",
              "      <td>std</td>\n",
              "    </tr>\n",
              "    <tr>\n",
              "      <th>10</th>\n",
              "      <td>9</td>\n",
              "      <td>0.537815</td>\n",
              "      <td>minmax</td>\n",
              "    </tr>\n",
              "    <tr>\n",
              "      <th>13</th>\n",
              "      <td>11</td>\n",
              "      <td>0.534483</td>\n",
              "      <td>minmax</td>\n",
              "    </tr>\n",
              "    <tr>\n",
              "      <th>7</th>\n",
              "      <td>7</td>\n",
              "      <td>0.517241</td>\n",
              "      <td>minmax</td>\n",
              "    </tr>\n",
              "  </tbody>\n",
              "</table>\n",
              "</div>"
            ],
            "text/plain": [
              "    neighbor  F1 score     scaler\n",
              "9          9  0.656000  no scaler\n",
              "12        11  0.639344  no scaler\n",
              "0          3  0.637037  no scaler\n",
              "6          7  0.625954  no scaler\n",
              "5          5  0.603175        std\n",
              "3          5  0.600000  no scaler\n",
              "1          3  0.592000     minmax\n",
              "4          5  0.592000     minmax\n",
              "2          3  0.585366        std\n",
              "8          7  0.573770        std\n",
              "14        11  0.559322        std\n",
              "11         9  0.554622        std\n",
              "10         9  0.537815     minmax\n",
              "13        11  0.534483     minmax\n",
              "7          7  0.517241     minmax"
            ]
          },
          "metadata": {
            "tags": []
          },
          "execution_count": 7
        }
      ]
    },
    {
      "cell_type": "markdown",
      "metadata": {
        "id": "J_sP5ao46r1p"
      },
      "source": [
        "### *Choosing the better result in the above algorithm and applying it below with all data!*"
      ]
    },
    {
      "cell_type": "code",
      "metadata": {
        "colab": {
          "base_uri": "https://localhost:8080/"
        },
        "id": "Kd3x30Up7MhM",
        "outputId": "07d1568d-6730-4a71-b81d-30276f34807b"
      },
      "source": [
        "knn = KNeighborsClassifier(n_neighbors = 9)\n",
        "knn.fit(X_train, y_train)\n",
        "pred = knn.predict(X_test)\n",
        "score = f1_score(y_test, pred)\n",
        "score"
      ],
      "execution_count": 8,
      "outputs": [
        {
          "output_type": "execute_result",
          "data": {
            "text/plain": [
              "0.5434782608695652"
            ]
          },
          "metadata": {
            "tags": []
          },
          "execution_count": 8
        }
      ]
    },
    {
      "cell_type": "markdown",
      "metadata": {
        "id": "XdGBow2g5Zl2"
      },
      "source": [
        "### `Cross Validation`"
      ]
    },
    {
      "cell_type": "code",
      "metadata": {
        "colab": {
          "base_uri": "https://localhost:8080/",
          "height": 511
        },
        "id": "UYo7b5_5OQw8",
        "outputId": "b556e0c3-0e94-45b6-95b0-73cbc6a0920c"
      },
      "source": [
        "knn_cross_r = {'neighbor':[], 'score':[], 'scaler':[]}\n",
        "folds = 5\n",
        "\n",
        "for i in neighbors:\n",
        "    for scaler in scalers:\n",
        "        knn_cross = KNeighborsClassifier(n_neighbors = i, weights='distance')\n",
        "\n",
        "        if scaler == 'minmax':\n",
        "            clf = make_pipeline(MinMaxScaler(), knn_cross)\n",
        "            score = cross_val_score(clf, X_train, y_train, cv=folds, scoring=\"f1\", n_jobs = -1)\n",
        "\n",
        "        elif scaler == 'std':\n",
        "            clf = make_pipeline(StandardScaler(), knn_cross)\n",
        "            score = cross_val_score(clf, X_train, y_train, cv=folds, scoring=\"f1\", n_jobs = -1)\n",
        "\n",
        "        else:\n",
        "            score = cross_val_score(knn_cross, X_train, y_train, cv=folds, scoring=\"f1\", n_jobs = -1)\n",
        "            score = np.mean(score)\n",
        "        \n",
        "\n",
        "        score = np.mean(score)\n",
        "        knn_cross_r['neighbor'].append(i)\n",
        "        knn_cross_r['score'].append(score)\n",
        "        knn_cross_r['scaler'].append(scaler)\n",
        "\n",
        "knn_cross_r = pd.DataFrame.from_dict(knn_cross_r)\n",
        "knn_cross_r.sort_values(by = 'score', ascending=False)"
      ],
      "execution_count": 9,
      "outputs": [
        {
          "output_type": "execute_result",
          "data": {
            "text/html": [
              "<div>\n",
              "<style scoped>\n",
              "    .dataframe tbody tr th:only-of-type {\n",
              "        vertical-align: middle;\n",
              "    }\n",
              "\n",
              "    .dataframe tbody tr th {\n",
              "        vertical-align: top;\n",
              "    }\n",
              "\n",
              "    .dataframe thead th {\n",
              "        text-align: right;\n",
              "    }\n",
              "</style>\n",
              "<table border=\"1\" class=\"dataframe\">\n",
              "  <thead>\n",
              "    <tr style=\"text-align: right;\">\n",
              "      <th></th>\n",
              "      <th>neighbor</th>\n",
              "      <th>score</th>\n",
              "      <th>scaler</th>\n",
              "    </tr>\n",
              "  </thead>\n",
              "  <tbody>\n",
              "    <tr>\n",
              "      <th>5</th>\n",
              "      <td>5</td>\n",
              "      <td>0.613972</td>\n",
              "      <td>std</td>\n",
              "    </tr>\n",
              "    <tr>\n",
              "      <th>4</th>\n",
              "      <td>5</td>\n",
              "      <td>0.596215</td>\n",
              "      <td>minmax</td>\n",
              "    </tr>\n",
              "    <tr>\n",
              "      <th>2</th>\n",
              "      <td>3</td>\n",
              "      <td>0.593722</td>\n",
              "      <td>std</td>\n",
              "    </tr>\n",
              "    <tr>\n",
              "      <th>11</th>\n",
              "      <td>9</td>\n",
              "      <td>0.593641</td>\n",
              "      <td>std</td>\n",
              "    </tr>\n",
              "    <tr>\n",
              "      <th>9</th>\n",
              "      <td>9</td>\n",
              "      <td>0.591725</td>\n",
              "      <td>no scaler</td>\n",
              "    </tr>\n",
              "    <tr>\n",
              "      <th>8</th>\n",
              "      <td>7</td>\n",
              "      <td>0.588014</td>\n",
              "      <td>std</td>\n",
              "    </tr>\n",
              "    <tr>\n",
              "      <th>10</th>\n",
              "      <td>9</td>\n",
              "      <td>0.587435</td>\n",
              "      <td>minmax</td>\n",
              "    </tr>\n",
              "    <tr>\n",
              "      <th>12</th>\n",
              "      <td>11</td>\n",
              "      <td>0.583526</td>\n",
              "      <td>no scaler</td>\n",
              "    </tr>\n",
              "    <tr>\n",
              "      <th>6</th>\n",
              "      <td>7</td>\n",
              "      <td>0.580367</td>\n",
              "      <td>no scaler</td>\n",
              "    </tr>\n",
              "    <tr>\n",
              "      <th>7</th>\n",
              "      <td>7</td>\n",
              "      <td>0.580270</td>\n",
              "      <td>minmax</td>\n",
              "    </tr>\n",
              "    <tr>\n",
              "      <th>13</th>\n",
              "      <td>11</td>\n",
              "      <td>0.576292</td>\n",
              "      <td>minmax</td>\n",
              "    </tr>\n",
              "    <tr>\n",
              "      <th>14</th>\n",
              "      <td>11</td>\n",
              "      <td>0.574733</td>\n",
              "      <td>std</td>\n",
              "    </tr>\n",
              "    <tr>\n",
              "      <th>1</th>\n",
              "      <td>3</td>\n",
              "      <td>0.574385</td>\n",
              "      <td>minmax</td>\n",
              "    </tr>\n",
              "    <tr>\n",
              "      <th>3</th>\n",
              "      <td>5</td>\n",
              "      <td>0.562731</td>\n",
              "      <td>no scaler</td>\n",
              "    </tr>\n",
              "    <tr>\n",
              "      <th>0</th>\n",
              "      <td>3</td>\n",
              "      <td>0.556669</td>\n",
              "      <td>no scaler</td>\n",
              "    </tr>\n",
              "  </tbody>\n",
              "</table>\n",
              "</div>"
            ],
            "text/plain": [
              "    neighbor     score     scaler\n",
              "5          5  0.613972        std\n",
              "4          5  0.596215     minmax\n",
              "2          3  0.593722        std\n",
              "11         9  0.593641        std\n",
              "9          9  0.591725  no scaler\n",
              "8          7  0.588014        std\n",
              "10         9  0.587435     minmax\n",
              "12        11  0.583526  no scaler\n",
              "6          7  0.580367  no scaler\n",
              "7          7  0.580270     minmax\n",
              "13        11  0.576292     minmax\n",
              "14        11  0.574733        std\n",
              "1          3  0.574385     minmax\n",
              "3          5  0.562731  no scaler\n",
              "0          3  0.556669  no scaler"
            ]
          },
          "metadata": {
            "tags": []
          },
          "execution_count": 9
        }
      ]
    },
    {
      "cell_type": "markdown",
      "metadata": {
        "id": "U_uEpMJS7fqs"
      },
      "source": [
        "### *Choosing the better result in the above algorithm and applying it below with all data!*"
      ]
    },
    {
      "cell_type": "code",
      "metadata": {
        "colab": {
          "base_uri": "https://localhost:8080/"
        },
        "id": "p1u5lajc7lAb",
        "outputId": "7fc2443e-3c9c-421f-934e-9497f8c160f5"
      },
      "source": [
        "knn_cross = KNeighborsClassifier(n_neighbors = 5, weights='distance')\n",
        "clf = make_pipeline(MinMaxScaler(), knn_cross)\n",
        "score = cross_val_score(clf, X, y, cv=folds, scoring=\"f1\", n_jobs = -1)\n",
        "np.mean(score)"
      ],
      "execution_count": 10,
      "outputs": [
        {
          "output_type": "execute_result",
          "data": {
            "text/plain": [
              "0.620412410432282"
            ]
          },
          "metadata": {
            "tags": []
          },
          "execution_count": 10
        }
      ]
    },
    {
      "cell_type": "markdown",
      "metadata": {
        "id": "xSz33PvgVnWD"
      },
      "source": [
        "### `Grid Search CV`\n",
        "\n"
      ]
    },
    {
      "cell_type": "code",
      "metadata": {
        "colab": {
          "base_uri": "https://localhost:8080/"
        },
        "id": "3PLfBoDDtMtm",
        "outputId": "f4f54002-fb22-41a9-9092-45a47e324cd5"
      },
      "source": [
        "parameters = {'n_neighbors':[3,5,7,9,11], 'weights':('uniform', 'distance'), 'algorithm':('auto', 'ball_tree', 'kd_tree', 'brute'), 'p':[1,2]}\n",
        "knn_grid = KNeighborsClassifier()\n",
        "grid = GridSearchCV(estimator = knn_grid,  param_grid = parameters, scoring = 'f1')\n",
        "grid.fit(X_train, y_train)"
      ],
      "execution_count": 11,
      "outputs": [
        {
          "output_type": "execute_result",
          "data": {
            "text/plain": [
              "GridSearchCV(cv=None, error_score=nan,\n",
              "             estimator=KNeighborsClassifier(algorithm='auto', leaf_size=30,\n",
              "                                            metric='minkowski',\n",
              "                                            metric_params=None, n_jobs=None,\n",
              "                                            n_neighbors=5, p=2,\n",
              "                                            weights='uniform'),\n",
              "             iid='deprecated', n_jobs=None,\n",
              "             param_grid={'algorithm': ('auto', 'ball_tree', 'kd_tree', 'brute'),\n",
              "                         'n_neighbors': [3, 5, 7, 9, 11], 'p': [1, 2],\n",
              "                         'weights': ('uniform', 'distance')},\n",
              "             pre_dispatch='2*n_jobs', refit=True, return_train_score=False,\n",
              "             scoring='f1', verbose=0)"
            ]
          },
          "metadata": {
            "tags": []
          },
          "execution_count": 11
        }
      ]
    },
    {
      "cell_type": "code",
      "metadata": {
        "colab": {
          "base_uri": "https://localhost:8080/",
          "height": 941
        },
        "id": "JNWWVFJS9ttU",
        "outputId": "c0d69131-9778-4628-c289-a195e73322e7"
      },
      "source": [
        "pd.DataFrame(grid.cv_results_)"
      ],
      "execution_count": 12,
      "outputs": [
        {
          "output_type": "execute_result",
          "data": {
            "text/html": [
              "<div>\n",
              "<style scoped>\n",
              "    .dataframe tbody tr th:only-of-type {\n",
              "        vertical-align: middle;\n",
              "    }\n",
              "\n",
              "    .dataframe tbody tr th {\n",
              "        vertical-align: top;\n",
              "    }\n",
              "\n",
              "    .dataframe thead th {\n",
              "        text-align: right;\n",
              "    }\n",
              "</style>\n",
              "<table border=\"1\" class=\"dataframe\">\n",
              "  <thead>\n",
              "    <tr style=\"text-align: right;\">\n",
              "      <th></th>\n",
              "      <th>mean_fit_time</th>\n",
              "      <th>std_fit_time</th>\n",
              "      <th>mean_score_time</th>\n",
              "      <th>std_score_time</th>\n",
              "      <th>param_algorithm</th>\n",
              "      <th>param_n_neighbors</th>\n",
              "      <th>param_p</th>\n",
              "      <th>param_weights</th>\n",
              "      <th>params</th>\n",
              "      <th>split0_test_score</th>\n",
              "      <th>split1_test_score</th>\n",
              "      <th>split2_test_score</th>\n",
              "      <th>split3_test_score</th>\n",
              "      <th>split4_test_score</th>\n",
              "      <th>mean_test_score</th>\n",
              "      <th>std_test_score</th>\n",
              "      <th>rank_test_score</th>\n",
              "    </tr>\n",
              "  </thead>\n",
              "  <tbody>\n",
              "    <tr>\n",
              "      <th>0</th>\n",
              "      <td>0.002598</td>\n",
              "      <td>0.000148</td>\n",
              "      <td>0.007148</td>\n",
              "      <td>0.000182</td>\n",
              "      <td>auto</td>\n",
              "      <td>3</td>\n",
              "      <td>1</td>\n",
              "      <td>uniform</td>\n",
              "      <td>{'algorithm': 'auto', 'n_neighbors': 3, 'p': 1...</td>\n",
              "      <td>0.538462</td>\n",
              "      <td>0.476190</td>\n",
              "      <td>0.517647</td>\n",
              "      <td>0.659794</td>\n",
              "      <td>0.632911</td>\n",
              "      <td>0.565001</td>\n",
              "      <td>0.069902</td>\n",
              "      <td>65</td>\n",
              "    </tr>\n",
              "    <tr>\n",
              "      <th>1</th>\n",
              "      <td>0.002609</td>\n",
              "      <td>0.000241</td>\n",
              "      <td>0.003794</td>\n",
              "      <td>0.000525</td>\n",
              "      <td>auto</td>\n",
              "      <td>3</td>\n",
              "      <td>1</td>\n",
              "      <td>distance</td>\n",
              "      <td>{'algorithm': 'auto', 'n_neighbors': 3, 'p': 1...</td>\n",
              "      <td>0.545455</td>\n",
              "      <td>0.419753</td>\n",
              "      <td>0.511628</td>\n",
              "      <td>0.659794</td>\n",
              "      <td>0.615385</td>\n",
              "      <td>0.550403</td>\n",
              "      <td>0.083410</td>\n",
              "      <td>77</td>\n",
              "    </tr>\n",
              "    <tr>\n",
              "      <th>2</th>\n",
              "      <td>0.002604</td>\n",
              "      <td>0.000182</td>\n",
              "      <td>0.007385</td>\n",
              "      <td>0.000709</td>\n",
              "      <td>auto</td>\n",
              "      <td>3</td>\n",
              "      <td>2</td>\n",
              "      <td>uniform</td>\n",
              "      <td>{'algorithm': 'auto', 'n_neighbors': 3, 'p': 2...</td>\n",
              "      <td>0.564103</td>\n",
              "      <td>0.500000</td>\n",
              "      <td>0.561798</td>\n",
              "      <td>0.580645</td>\n",
              "      <td>0.625000</td>\n",
              "      <td>0.566309</td>\n",
              "      <td>0.040180</td>\n",
              "      <td>61</td>\n",
              "    </tr>\n",
              "    <tr>\n",
              "      <th>3</th>\n",
              "      <td>0.002892</td>\n",
              "      <td>0.000414</td>\n",
              "      <td>0.003206</td>\n",
              "      <td>0.000101</td>\n",
              "      <td>auto</td>\n",
              "      <td>3</td>\n",
              "      <td>2</td>\n",
              "      <td>distance</td>\n",
              "      <td>{'algorithm': 'auto', 'n_neighbors': 3, 'p': 2...</td>\n",
              "      <td>0.556962</td>\n",
              "      <td>0.465116</td>\n",
              "      <td>0.561798</td>\n",
              "      <td>0.574468</td>\n",
              "      <td>0.625000</td>\n",
              "      <td>0.556669</td>\n",
              "      <td>0.051758</td>\n",
              "      <td>73</td>\n",
              "    </tr>\n",
              "    <tr>\n",
              "      <th>4</th>\n",
              "      <td>0.002887</td>\n",
              "      <td>0.000517</td>\n",
              "      <td>0.008883</td>\n",
              "      <td>0.001783</td>\n",
              "      <td>auto</td>\n",
              "      <td>5</td>\n",
              "      <td>1</td>\n",
              "      <td>uniform</td>\n",
              "      <td>{'algorithm': 'auto', 'n_neighbors': 5, 'p': 1...</td>\n",
              "      <td>0.597403</td>\n",
              "      <td>0.481013</td>\n",
              "      <td>0.550000</td>\n",
              "      <td>0.695652</td>\n",
              "      <td>0.692308</td>\n",
              "      <td>0.603275</td>\n",
              "      <td>0.082802</td>\n",
              "      <td>21</td>\n",
              "    </tr>\n",
              "    <tr>\n",
              "      <th>...</th>\n",
              "      <td>...</td>\n",
              "      <td>...</td>\n",
              "      <td>...</td>\n",
              "      <td>...</td>\n",
              "      <td>...</td>\n",
              "      <td>...</td>\n",
              "      <td>...</td>\n",
              "      <td>...</td>\n",
              "      <td>...</td>\n",
              "      <td>...</td>\n",
              "      <td>...</td>\n",
              "      <td>...</td>\n",
              "      <td>...</td>\n",
              "      <td>...</td>\n",
              "      <td>...</td>\n",
              "      <td>...</td>\n",
              "      <td>...</td>\n",
              "    </tr>\n",
              "    <tr>\n",
              "      <th>75</th>\n",
              "      <td>0.002637</td>\n",
              "      <td>0.000125</td>\n",
              "      <td>0.005377</td>\n",
              "      <td>0.000329</td>\n",
              "      <td>brute</td>\n",
              "      <td>9</td>\n",
              "      <td>2</td>\n",
              "      <td>distance</td>\n",
              "      <td>{'algorithm': 'brute', 'n_neighbors': 9, 'p': ...</td>\n",
              "      <td>0.585366</td>\n",
              "      <td>0.530120</td>\n",
              "      <td>0.588235</td>\n",
              "      <td>0.588235</td>\n",
              "      <td>0.666667</td>\n",
              "      <td>0.591725</td>\n",
              "      <td>0.043534</td>\n",
              "      <td>29</td>\n",
              "    </tr>\n",
              "    <tr>\n",
              "      <th>76</th>\n",
              "      <td>0.002870</td>\n",
              "      <td>0.000184</td>\n",
              "      <td>0.011774</td>\n",
              "      <td>0.001638</td>\n",
              "      <td>brute</td>\n",
              "      <td>11</td>\n",
              "      <td>1</td>\n",
              "      <td>uniform</td>\n",
              "      <td>{'algorithm': 'brute', 'n_neighbors': 11, 'p':...</td>\n",
              "      <td>0.605263</td>\n",
              "      <td>0.543210</td>\n",
              "      <td>0.592593</td>\n",
              "      <td>0.592593</td>\n",
              "      <td>0.708861</td>\n",
              "      <td>0.608504</td>\n",
              "      <td>0.054501</td>\n",
              "      <td>17</td>\n",
              "    </tr>\n",
              "    <tr>\n",
              "      <th>77</th>\n",
              "      <td>0.003555</td>\n",
              "      <td>0.001020</td>\n",
              "      <td>0.005746</td>\n",
              "      <td>0.000781</td>\n",
              "      <td>brute</td>\n",
              "      <td>11</td>\n",
              "      <td>1</td>\n",
              "      <td>distance</td>\n",
              "      <td>{'algorithm': 'brute', 'n_neighbors': 11, 'p':...</td>\n",
              "      <td>0.613333</td>\n",
              "      <td>0.518519</td>\n",
              "      <td>0.585366</td>\n",
              "      <td>0.651163</td>\n",
              "      <td>0.700000</td>\n",
              "      <td>0.613676</td>\n",
              "      <td>0.061178</td>\n",
              "      <td>9</td>\n",
              "    </tr>\n",
              "    <tr>\n",
              "      <th>78</th>\n",
              "      <td>0.002649</td>\n",
              "      <td>0.000430</td>\n",
              "      <td>0.011784</td>\n",
              "      <td>0.001403</td>\n",
              "      <td>brute</td>\n",
              "      <td>11</td>\n",
              "      <td>2</td>\n",
              "      <td>uniform</td>\n",
              "      <td>{'algorithm': 'brute', 'n_neighbors': 11, 'p':...</td>\n",
              "      <td>0.578947</td>\n",
              "      <td>0.592593</td>\n",
              "      <td>0.543210</td>\n",
              "      <td>0.641975</td>\n",
              "      <td>0.691358</td>\n",
              "      <td>0.609617</td>\n",
              "      <td>0.051709</td>\n",
              "      <td>13</td>\n",
              "    </tr>\n",
              "    <tr>\n",
              "      <th>79</th>\n",
              "      <td>0.002678</td>\n",
              "      <td>0.000174</td>\n",
              "      <td>0.005281</td>\n",
              "      <td>0.000176</td>\n",
              "      <td>brute</td>\n",
              "      <td>11</td>\n",
              "      <td>2</td>\n",
              "      <td>distance</td>\n",
              "      <td>{'algorithm': 'brute', 'n_neighbors': 11, 'p':...</td>\n",
              "      <td>0.578947</td>\n",
              "      <td>0.506329</td>\n",
              "      <td>0.547619</td>\n",
              "      <td>0.626506</td>\n",
              "      <td>0.658228</td>\n",
              "      <td>0.583526</td>\n",
              "      <td>0.054217</td>\n",
              "      <td>41</td>\n",
              "    </tr>\n",
              "  </tbody>\n",
              "</table>\n",
              "<p>80 rows × 17 columns</p>\n",
              "</div>"
            ],
            "text/plain": [
              "    mean_fit_time  std_fit_time  ...  std_test_score  rank_test_score\n",
              "0        0.002598      0.000148  ...        0.069902               65\n",
              "1        0.002609      0.000241  ...        0.083410               77\n",
              "2        0.002604      0.000182  ...        0.040180               61\n",
              "3        0.002892      0.000414  ...        0.051758               73\n",
              "4        0.002887      0.000517  ...        0.082802               21\n",
              "..            ...           ...  ...             ...              ...\n",
              "75       0.002637      0.000125  ...        0.043534               29\n",
              "76       0.002870      0.000184  ...        0.054501               17\n",
              "77       0.003555      0.001020  ...        0.061178                9\n",
              "78       0.002649      0.000430  ...        0.051709               13\n",
              "79       0.002678      0.000174  ...        0.054217               41\n",
              "\n",
              "[80 rows x 17 columns]"
            ]
          },
          "metadata": {
            "tags": []
          },
          "execution_count": 12
        }
      ]
    },
    {
      "cell_type": "code",
      "metadata": {
        "colab": {
          "base_uri": "https://localhost:8080/",
          "height": 417
        },
        "id": "LG_VlTvB_Jkc",
        "outputId": "aafbbfbf-d03b-40d7-9761-95a1bc39114c"
      },
      "source": [
        "pd.DataFrame(grid.cv_results_)[['params','rank_test_score','mean_test_score']].sort_values(by = 'rank_test_score')"
      ],
      "execution_count": 13,
      "outputs": [
        {
          "output_type": "execute_result",
          "data": {
            "text/html": [
              "<div>\n",
              "<style scoped>\n",
              "    .dataframe tbody tr th:only-of-type {\n",
              "        vertical-align: middle;\n",
              "    }\n",
              "\n",
              "    .dataframe tbody tr th {\n",
              "        vertical-align: top;\n",
              "    }\n",
              "\n",
              "    .dataframe thead th {\n",
              "        text-align: right;\n",
              "    }\n",
              "</style>\n",
              "<table border=\"1\" class=\"dataframe\">\n",
              "  <thead>\n",
              "    <tr style=\"text-align: right;\">\n",
              "      <th></th>\n",
              "      <th>params</th>\n",
              "      <th>rank_test_score</th>\n",
              "      <th>mean_test_score</th>\n",
              "    </tr>\n",
              "  </thead>\n",
              "  <tbody>\n",
              "    <tr>\n",
              "      <th>32</th>\n",
              "      <td>{'algorithm': 'ball_tree', 'n_neighbors': 9, '...</td>\n",
              "      <td>1</td>\n",
              "      <td>0.623592</td>\n",
              "    </tr>\n",
              "    <tr>\n",
              "      <th>72</th>\n",
              "      <td>{'algorithm': 'brute', 'n_neighbors': 9, 'p': ...</td>\n",
              "      <td>1</td>\n",
              "      <td>0.623592</td>\n",
              "    </tr>\n",
              "    <tr>\n",
              "      <th>52</th>\n",
              "      <td>{'algorithm': 'kd_tree', 'n_neighbors': 9, 'p'...</td>\n",
              "      <td>1</td>\n",
              "      <td>0.623592</td>\n",
              "    </tr>\n",
              "    <tr>\n",
              "      <th>12</th>\n",
              "      <td>{'algorithm': 'auto', 'n_neighbors': 9, 'p': 1...</td>\n",
              "      <td>1</td>\n",
              "      <td>0.623592</td>\n",
              "    </tr>\n",
              "    <tr>\n",
              "      <th>53</th>\n",
              "      <td>{'algorithm': 'kd_tree', 'n_neighbors': 9, 'p'...</td>\n",
              "      <td>5</td>\n",
              "      <td>0.622717</td>\n",
              "    </tr>\n",
              "    <tr>\n",
              "      <th>...</th>\n",
              "      <td>...</td>\n",
              "      <td>...</td>\n",
              "      <td>...</td>\n",
              "    </tr>\n",
              "    <tr>\n",
              "      <th>63</th>\n",
              "      <td>{'algorithm': 'brute', 'n_neighbors': 3, 'p': ...</td>\n",
              "      <td>73</td>\n",
              "      <td>0.556669</td>\n",
              "    </tr>\n",
              "    <tr>\n",
              "      <th>21</th>\n",
              "      <td>{'algorithm': 'ball_tree', 'n_neighbors': 3, '...</td>\n",
              "      <td>77</td>\n",
              "      <td>0.550403</td>\n",
              "    </tr>\n",
              "    <tr>\n",
              "      <th>41</th>\n",
              "      <td>{'algorithm': 'kd_tree', 'n_neighbors': 3, 'p'...</td>\n",
              "      <td>77</td>\n",
              "      <td>0.550403</td>\n",
              "    </tr>\n",
              "    <tr>\n",
              "      <th>1</th>\n",
              "      <td>{'algorithm': 'auto', 'n_neighbors': 3, 'p': 1...</td>\n",
              "      <td>77</td>\n",
              "      <td>0.550403</td>\n",
              "    </tr>\n",
              "    <tr>\n",
              "      <th>61</th>\n",
              "      <td>{'algorithm': 'brute', 'n_neighbors': 3, 'p': ...</td>\n",
              "      <td>77</td>\n",
              "      <td>0.550403</td>\n",
              "    </tr>\n",
              "  </tbody>\n",
              "</table>\n",
              "<p>80 rows × 3 columns</p>\n",
              "</div>"
            ],
            "text/plain": [
              "                                               params  ...  mean_test_score\n",
              "32  {'algorithm': 'ball_tree', 'n_neighbors': 9, '...  ...         0.623592\n",
              "72  {'algorithm': 'brute', 'n_neighbors': 9, 'p': ...  ...         0.623592\n",
              "52  {'algorithm': 'kd_tree', 'n_neighbors': 9, 'p'...  ...         0.623592\n",
              "12  {'algorithm': 'auto', 'n_neighbors': 9, 'p': 1...  ...         0.623592\n",
              "53  {'algorithm': 'kd_tree', 'n_neighbors': 9, 'p'...  ...         0.622717\n",
              "..                                                ...  ...              ...\n",
              "63  {'algorithm': 'brute', 'n_neighbors': 3, 'p': ...  ...         0.556669\n",
              "21  {'algorithm': 'ball_tree', 'n_neighbors': 3, '...  ...         0.550403\n",
              "41  {'algorithm': 'kd_tree', 'n_neighbors': 3, 'p'...  ...         0.550403\n",
              "1   {'algorithm': 'auto', 'n_neighbors': 3, 'p': 1...  ...         0.550403\n",
              "61  {'algorithm': 'brute', 'n_neighbors': 3, 'p': ...  ...         0.550403\n",
              "\n",
              "[80 rows x 3 columns]"
            ]
          },
          "metadata": {
            "tags": []
          },
          "execution_count": 13
        }
      ]
    },
    {
      "cell_type": "code",
      "metadata": {
        "colab": {
          "base_uri": "https://localhost:8080/"
        },
        "id": "qlxWyba9_ebE",
        "outputId": "a76c172e-4aae-4a30-d4f1-e6d1c9ac71a0"
      },
      "source": [
        "grid.best_params_"
      ],
      "execution_count": 14,
      "outputs": [
        {
          "output_type": "execute_result",
          "data": {
            "text/plain": [
              "{'algorithm': 'auto', 'n_neighbors': 9, 'p': 1, 'weights': 'uniform'}"
            ]
          },
          "metadata": {
            "tags": []
          },
          "execution_count": 14
        }
      ]
    },
    {
      "cell_type": "code",
      "metadata": {
        "colab": {
          "base_uri": "https://localhost:8080/"
        },
        "id": "C8oTEQxs_fbR",
        "outputId": "adf0d36e-48c7-44f2-d3be-74ac96ac1026"
      },
      "source": [
        "grid.best_score_"
      ],
      "execution_count": 15,
      "outputs": [
        {
          "output_type": "execute_result",
          "data": {
            "text/plain": [
              "0.6235917785917786"
            ]
          },
          "metadata": {
            "tags": []
          },
          "execution_count": 15
        }
      ]
    },
    {
      "cell_type": "markdown",
      "metadata": {
        "id": "ZnXBfgVwBc8E"
      },
      "source": [
        "### *Testing with scaled data:*"
      ]
    },
    {
      "cell_type": "code",
      "metadata": {
        "colab": {
          "base_uri": "https://localhost:8080/"
        },
        "id": "uvsDv_mYBjzy",
        "outputId": "77054954-184e-4ddd-f5d6-d6b004994ce2"
      },
      "source": [
        "std_scaler = StandardScaler().fit(X_train)\n",
        "X_train_transformed = std_scaler.transform(X_train)\n",
        "\n",
        "parameters = {'n_neighbors':[3,5,7,9,11], 'weights':('uniform', 'distance'), 'algorithm':('auto', 'ball_tree', 'kd_tree', 'brute'), 'p':[1,2]}\n",
        "knn_grid = KNeighborsClassifier()\n",
        "grid = GridSearchCV(estimator = knn_grid,  param_grid = parameters, scoring = 'f1')\n",
        "grid.fit(X_train_transformed, y_train)\n",
        "\n",
        "print(grid.best_params_)\n",
        "print(grid.best_score_)\n",
        "\n",
        "\n",
        "minmax_scaler = MinMaxScaler().fit(X_train)\n",
        "X_train_transformed = minmax_scaler.transform(X_train)\n",
        "\n",
        "parameters = {'n_neighbors':[3,5,7,9,11], 'weights':('uniform', 'distance'), 'algorithm':('auto', 'ball_tree', 'kd_tree', 'brute'), 'p':[1,2]}\n",
        "knn_grid = KNeighborsClassifier()\n",
        "grid = GridSearchCV(estimator = knn_grid,  param_grid = parameters, scoring = 'f1')\n",
        "grid.fit(X_train_transformed, y_train)\n",
        "\n",
        "print(grid.best_params_)\n",
        "print(grid.best_score_)"
      ],
      "execution_count": 16,
      "outputs": [
        {
          "output_type": "stream",
          "text": [
            "{'algorithm': 'auto', 'n_neighbors': 5, 'p': 2, 'weights': 'uniform'}\n",
            "0.6170494769416343\n",
            "{'algorithm': 'auto', 'n_neighbors': 5, 'p': 2, 'weights': 'distance'}\n",
            "0.6010218627501224\n"
          ],
          "name": "stdout"
        }
      ]
    },
    {
      "cell_type": "markdown",
      "metadata": {
        "id": "f6TC9W7xDbZV"
      },
      "source": [
        "### *When we tried to use the scalers, the results are worse!*"
      ]
    },
    {
      "cell_type": "markdown",
      "metadata": {
        "id": "S1lArKg4_-V5"
      },
      "source": [
        "### *Choosing the better result in the above algorithm and applying it below with all data!*"
      ]
    },
    {
      "cell_type": "code",
      "metadata": {
        "colab": {
          "base_uri": "https://localhost:8080/"
        },
        "id": "r9_4D4Vw__MG",
        "outputId": "67fb9174-5685-4c37-f22a-ead7ab249890"
      },
      "source": [
        "knn_grid = KNeighborsClassifier(algorithm = 'auto', n_neighbors = 9, weights = 'uniform', p = 1)\n",
        "knn_grid.fit(X_train, y_train)\n",
        "knn_grig_predict = knn_grid.predict(X_test)\n",
        "f1_score(y_test, knn_grig_predict)"
      ],
      "execution_count": 17,
      "outputs": [
        {
          "output_type": "execute_result",
          "data": {
            "text/plain": [
              "0.6292134831460674"
            ]
          },
          "metadata": {
            "tags": []
          },
          "execution_count": 17
        }
      ]
    }
  ]
}