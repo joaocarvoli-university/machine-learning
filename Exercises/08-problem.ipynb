{
 "cells": [
  {
   "cell_type": "markdown",
   "id": "dde3bb5c",
   "metadata": {},
   "source": [
    "# Problem 08\n",
    "### In this week's problem We applied `KNN, Logistic Regression, SVM and Naive Bayes` with Grid Search CV.\n",
    "### After it, we plotted the decision regions after PCA to see the behavior of this algorithm and how its changes affect the result.\n",
    "\n",
    "### The dataset that we'll use is: [Pima Indians Diabetes Database](https://data.world/data-society/pima-indians-diabetes-database)."
   ]
  },
  {
   "cell_type": "markdown",
   "id": "f4ad6ecc",
   "metadata": {},
   "source": [
    "# 1 - Imports"
   ]
  },
  {
   "cell_type": "markdown",
   "id": "eabef599",
   "metadata": {},
   "source": [
    "`Libraries:`"
   ]
  },
  {
   "cell_type": "code",
   "execution_count": 30,
   "id": "f58a53fb",
   "metadata": {},
   "outputs": [],
   "source": [
    "import numpy as np\n",
    "import pandas as pd\n",
    "import matplotlib.pyplot as plt\n",
    "\n",
    "from sklearn.metrics import f1_score\n",
    "from sklearn.decomposition import PCA\n",
    "from mlxtend.plotting import plot_decision_regions\n",
    "\n",
    "from sklearn.svm import SVC\n",
    "from sklearn.naive_bayes import GaussianNB\n",
    "from sklearn.neighbors import KNeighborsClassifier\n",
    "from sklearn.linear_model import LogisticRegression\n",
    "\n",
    "from sklearn.pipeline import make_pipeline\n",
    "from sklearn.model_selection import GridSearchCV\n",
    "from sklearn.model_selection import train_test_split\n",
    "from sklearn.preprocessing import MinMaxScaler, StandardScaler"
   ]
  },
  {
   "cell_type": "markdown",
   "id": "84f9d9d1",
   "metadata": {},
   "source": [
    "`Dataset:`"
   ]
  },
  {
   "cell_type": "code",
   "execution_count": 4,
   "id": "f035d0a8",
   "metadata": {},
   "outputs": [],
   "source": [
    "filename = '/home/joaocarvoli/Downloads/pima-indians-diabetes/diabetes.csv'\n",
    "df = pd.read_csv(filename)"
   ]
  },
  {
   "cell_type": "markdown",
   "id": "73dee6f3",
   "metadata": {},
   "source": [
    "# 2 - Preprocessing"
   ]
  },
  {
   "cell_type": "code",
   "execution_count": 5,
   "id": "d4c28920",
   "metadata": {},
   "outputs": [
    {
     "data": {
      "text/html": [
       "<div>\n",
       "<style scoped>\n",
       "    .dataframe tbody tr th:only-of-type {\n",
       "        vertical-align: middle;\n",
       "    }\n",
       "\n",
       "    .dataframe tbody tr th {\n",
       "        vertical-align: top;\n",
       "    }\n",
       "\n",
       "    .dataframe thead th {\n",
       "        text-align: right;\n",
       "    }\n",
       "</style>\n",
       "<table border=\"1\" class=\"dataframe\">\n",
       "  <thead>\n",
       "    <tr style=\"text-align: right;\">\n",
       "      <th></th>\n",
       "      <th>Pregnancies</th>\n",
       "      <th>Glucose</th>\n",
       "      <th>BloodPressure</th>\n",
       "      <th>SkinThickness</th>\n",
       "      <th>Insulin</th>\n",
       "      <th>BMI</th>\n",
       "      <th>DiabetesPedigreeFunction</th>\n",
       "      <th>Age</th>\n",
       "      <th>Outcome</th>\n",
       "    </tr>\n",
       "  </thead>\n",
       "  <tbody>\n",
       "    <tr>\n",
       "      <th>0</th>\n",
       "      <td>6</td>\n",
       "      <td>148</td>\n",
       "      <td>72</td>\n",
       "      <td>35</td>\n",
       "      <td>0</td>\n",
       "      <td>33.6</td>\n",
       "      <td>0.627</td>\n",
       "      <td>50</td>\n",
       "      <td>1</td>\n",
       "    </tr>\n",
       "    <tr>\n",
       "      <th>1</th>\n",
       "      <td>1</td>\n",
       "      <td>85</td>\n",
       "      <td>66</td>\n",
       "      <td>29</td>\n",
       "      <td>0</td>\n",
       "      <td>26.6</td>\n",
       "      <td>0.351</td>\n",
       "      <td>31</td>\n",
       "      <td>0</td>\n",
       "    </tr>\n",
       "    <tr>\n",
       "      <th>2</th>\n",
       "      <td>8</td>\n",
       "      <td>183</td>\n",
       "      <td>64</td>\n",
       "      <td>0</td>\n",
       "      <td>0</td>\n",
       "      <td>23.3</td>\n",
       "      <td>0.672</td>\n",
       "      <td>32</td>\n",
       "      <td>1</td>\n",
       "    </tr>\n",
       "    <tr>\n",
       "      <th>3</th>\n",
       "      <td>1</td>\n",
       "      <td>89</td>\n",
       "      <td>66</td>\n",
       "      <td>23</td>\n",
       "      <td>94</td>\n",
       "      <td>28.1</td>\n",
       "      <td>0.167</td>\n",
       "      <td>21</td>\n",
       "      <td>0</td>\n",
       "    </tr>\n",
       "    <tr>\n",
       "      <th>4</th>\n",
       "      <td>0</td>\n",
       "      <td>137</td>\n",
       "      <td>40</td>\n",
       "      <td>35</td>\n",
       "      <td>168</td>\n",
       "      <td>43.1</td>\n",
       "      <td>2.288</td>\n",
       "      <td>33</td>\n",
       "      <td>1</td>\n",
       "    </tr>\n",
       "  </tbody>\n",
       "</table>\n",
       "</div>"
      ],
      "text/plain": [
       "   Pregnancies  Glucose  BloodPressure  SkinThickness  Insulin   BMI  \\\n",
       "0            6      148             72             35        0  33.6   \n",
       "1            1       85             66             29        0  26.6   \n",
       "2            8      183             64              0        0  23.3   \n",
       "3            1       89             66             23       94  28.1   \n",
       "4            0      137             40             35      168  43.1   \n",
       "\n",
       "   DiabetesPedigreeFunction  Age  Outcome  \n",
       "0                     0.627   50        1  \n",
       "1                     0.351   31        0  \n",
       "2                     0.672   32        1  \n",
       "3                     0.167   21        0  \n",
       "4                     2.288   33        1  "
      ]
     },
     "execution_count": 5,
     "metadata": {},
     "output_type": "execute_result"
    }
   ],
   "source": [
    "df.head()"
   ]
  },
  {
   "cell_type": "markdown",
   "id": "b02b4d34",
   "metadata": {},
   "source": [
    "## Spliting X and y from df"
   ]
  },
  {
   "cell_type": "code",
   "execution_count": 18,
   "id": "17425e16",
   "metadata": {},
   "outputs": [],
   "source": [
    "X = df.iloc[:,:-1]\n",
    "y = df.iloc[:,-1]"
   ]
  },
  {
   "cell_type": "code",
   "execution_count": 19,
   "id": "80ed449e",
   "metadata": {},
   "outputs": [
    {
     "data": {
      "text/html": [
       "<div>\n",
       "<style scoped>\n",
       "    .dataframe tbody tr th:only-of-type {\n",
       "        vertical-align: middle;\n",
       "    }\n",
       "\n",
       "    .dataframe tbody tr th {\n",
       "        vertical-align: top;\n",
       "    }\n",
       "\n",
       "    .dataframe thead th {\n",
       "        text-align: right;\n",
       "    }\n",
       "</style>\n",
       "<table border=\"1\" class=\"dataframe\">\n",
       "  <thead>\n",
       "    <tr style=\"text-align: right;\">\n",
       "      <th></th>\n",
       "      <th>Pregnancies</th>\n",
       "      <th>Glucose</th>\n",
       "      <th>BloodPressure</th>\n",
       "      <th>SkinThickness</th>\n",
       "      <th>Insulin</th>\n",
       "      <th>BMI</th>\n",
       "      <th>DiabetesPedigreeFunction</th>\n",
       "      <th>Age</th>\n",
       "    </tr>\n",
       "  </thead>\n",
       "  <tbody>\n",
       "    <tr>\n",
       "      <th>0</th>\n",
       "      <td>6</td>\n",
       "      <td>148</td>\n",
       "      <td>72</td>\n",
       "      <td>35</td>\n",
       "      <td>0</td>\n",
       "      <td>33.6</td>\n",
       "      <td>0.627</td>\n",
       "      <td>50</td>\n",
       "    </tr>\n",
       "    <tr>\n",
       "      <th>1</th>\n",
       "      <td>1</td>\n",
       "      <td>85</td>\n",
       "      <td>66</td>\n",
       "      <td>29</td>\n",
       "      <td>0</td>\n",
       "      <td>26.6</td>\n",
       "      <td>0.351</td>\n",
       "      <td>31</td>\n",
       "    </tr>\n",
       "    <tr>\n",
       "      <th>2</th>\n",
       "      <td>8</td>\n",
       "      <td>183</td>\n",
       "      <td>64</td>\n",
       "      <td>0</td>\n",
       "      <td>0</td>\n",
       "      <td>23.3</td>\n",
       "      <td>0.672</td>\n",
       "      <td>32</td>\n",
       "    </tr>\n",
       "    <tr>\n",
       "      <th>3</th>\n",
       "      <td>1</td>\n",
       "      <td>89</td>\n",
       "      <td>66</td>\n",
       "      <td>23</td>\n",
       "      <td>94</td>\n",
       "      <td>28.1</td>\n",
       "      <td>0.167</td>\n",
       "      <td>21</td>\n",
       "    </tr>\n",
       "    <tr>\n",
       "      <th>4</th>\n",
       "      <td>0</td>\n",
       "      <td>137</td>\n",
       "      <td>40</td>\n",
       "      <td>35</td>\n",
       "      <td>168</td>\n",
       "      <td>43.1</td>\n",
       "      <td>2.288</td>\n",
       "      <td>33</td>\n",
       "    </tr>\n",
       "    <tr>\n",
       "      <th>...</th>\n",
       "      <td>...</td>\n",
       "      <td>...</td>\n",
       "      <td>...</td>\n",
       "      <td>...</td>\n",
       "      <td>...</td>\n",
       "      <td>...</td>\n",
       "      <td>...</td>\n",
       "      <td>...</td>\n",
       "    </tr>\n",
       "    <tr>\n",
       "      <th>763</th>\n",
       "      <td>10</td>\n",
       "      <td>101</td>\n",
       "      <td>76</td>\n",
       "      <td>48</td>\n",
       "      <td>180</td>\n",
       "      <td>32.9</td>\n",
       "      <td>0.171</td>\n",
       "      <td>63</td>\n",
       "    </tr>\n",
       "    <tr>\n",
       "      <th>764</th>\n",
       "      <td>2</td>\n",
       "      <td>122</td>\n",
       "      <td>70</td>\n",
       "      <td>27</td>\n",
       "      <td>0</td>\n",
       "      <td>36.8</td>\n",
       "      <td>0.340</td>\n",
       "      <td>27</td>\n",
       "    </tr>\n",
       "    <tr>\n",
       "      <th>765</th>\n",
       "      <td>5</td>\n",
       "      <td>121</td>\n",
       "      <td>72</td>\n",
       "      <td>23</td>\n",
       "      <td>112</td>\n",
       "      <td>26.2</td>\n",
       "      <td>0.245</td>\n",
       "      <td>30</td>\n",
       "    </tr>\n",
       "    <tr>\n",
       "      <th>766</th>\n",
       "      <td>1</td>\n",
       "      <td>126</td>\n",
       "      <td>60</td>\n",
       "      <td>0</td>\n",
       "      <td>0</td>\n",
       "      <td>30.1</td>\n",
       "      <td>0.349</td>\n",
       "      <td>47</td>\n",
       "    </tr>\n",
       "    <tr>\n",
       "      <th>767</th>\n",
       "      <td>1</td>\n",
       "      <td>93</td>\n",
       "      <td>70</td>\n",
       "      <td>31</td>\n",
       "      <td>0</td>\n",
       "      <td>30.4</td>\n",
       "      <td>0.315</td>\n",
       "      <td>23</td>\n",
       "    </tr>\n",
       "  </tbody>\n",
       "</table>\n",
       "<p>768 rows × 8 columns</p>\n",
       "</div>"
      ],
      "text/plain": [
       "     Pregnancies  Glucose  BloodPressure  SkinThickness  Insulin   BMI  \\\n",
       "0              6      148             72             35        0  33.6   \n",
       "1              1       85             66             29        0  26.6   \n",
       "2              8      183             64              0        0  23.3   \n",
       "3              1       89             66             23       94  28.1   \n",
       "4              0      137             40             35      168  43.1   \n",
       "..           ...      ...            ...            ...      ...   ...   \n",
       "763           10      101             76             48      180  32.9   \n",
       "764            2      122             70             27        0  36.8   \n",
       "765            5      121             72             23      112  26.2   \n",
       "766            1      126             60              0        0  30.1   \n",
       "767            1       93             70             31        0  30.4   \n",
       "\n",
       "     DiabetesPedigreeFunction  Age  \n",
       "0                       0.627   50  \n",
       "1                       0.351   31  \n",
       "2                       0.672   32  \n",
       "3                       0.167   21  \n",
       "4                       2.288   33  \n",
       "..                        ...  ...  \n",
       "763                     0.171   63  \n",
       "764                     0.340   27  \n",
       "765                     0.245   30  \n",
       "766                     0.349   47  \n",
       "767                     0.315   23  \n",
       "\n",
       "[768 rows x 8 columns]"
      ]
     },
     "execution_count": 19,
     "metadata": {},
     "output_type": "execute_result"
    }
   ],
   "source": [
    "X"
   ]
  },
  {
   "cell_type": "code",
   "execution_count": 20,
   "id": "5cab005f",
   "metadata": {},
   "outputs": [
    {
     "data": {
      "text/plain": [
       "0      1\n",
       "1      0\n",
       "2      1\n",
       "3      0\n",
       "4      1\n",
       "      ..\n",
       "763    0\n",
       "764    0\n",
       "765    0\n",
       "766    1\n",
       "767    0\n",
       "Name: Outcome, Length: 768, dtype: int64"
      ]
     },
     "execution_count": 20,
     "metadata": {},
     "output_type": "execute_result"
    }
   ],
   "source": [
    "y"
   ]
  },
  {
   "cell_type": "markdown",
   "id": "ec5edda1",
   "metadata": {},
   "source": [
    "## Spliting and Stratifying"
   ]
  },
  {
   "cell_type": "code",
   "execution_count": 9,
   "id": "83a0d322",
   "metadata": {},
   "outputs": [],
   "source": [
    "X_train, X_test, y_train, y_test = train_test_split(X, y, test_size = 0.2, random_state=42, stratify=y)"
   ]
  },
  {
   "cell_type": "markdown",
   "id": "240c1438",
   "metadata": {},
   "source": [
    "# 3 - Algorithms"
   ]
  },
  {
   "cell_type": "markdown",
   "id": "d0ffbd0a",
   "metadata": {},
   "source": [
    "### `KNN`"
   ]
  },
  {
   "cell_type": "code",
   "execution_count": 47,
   "id": "f3cc9fed",
   "metadata": {},
   "outputs": [
    {
     "name": "stdout",
     "output_type": "stream",
     "text": [
      "The best parameters are: {'algorithm': 'auto', 'n_neighbors': 11, 'p': 1, 'weights': 'uniform'}\n",
      "The best score is: 0.6172039047755478\n"
     ]
    }
   ],
   "source": [
    "parameters = {'n_neighbors':[3,5,7,9,11], 'weights':('uniform', 'distance'), 'algorithm':('auto', 'ball_tree', 'kd_tree', 'brute'), 'p':[1,2]}\n",
    "knn_grid = KNeighborsClassifier()\n",
    "grid_knn = GridSearchCV(estimator = knn_grid,  param_grid = parameters, scoring = 'f1', cv = 5)\n",
    "grid_knn.fit(X_train, y_train)\n",
    "\n",
    "print(f'The best parameters are: {grid_knn.best_params_}')\n",
    "print(f'The best score is: {grid_knn.best_score_}')"
   ]
  },
  {
   "cell_type": "markdown",
   "id": "12064f6f",
   "metadata": {},
   "source": [
    "### `Logistic Regression`"
   ]
  },
  {
   "cell_type": "code",
   "execution_count": null,
   "id": "4169f21a",
   "metadata": {},
   "outputs": [],
   "source": [
    "parameters_log = {'penalty':('l1', 'l2', 'elasticnet', 'none'),\n",
    "                  'C':[1000,500,100,10,1,0.1,0.01,0.001],\n",
    "                  'solver':('newton-cg', 'lbfgs', 'liblinear', 'sag', 'saga'),\n",
    "                  'l1_ratio':[1,0.5,0],\n",
    "                  'max_iter':[300,500,700]}\n",
    "log_grid = LogisticRegression()\n",
    "grid_log = GridSearchCV(estimator = log_grid,  param_grid = parameters_log, scoring = 'f1', cv = 5)\n",
    "grid_log.fit(X_train, y_train)\n",
    "\n",
    "print(f'The best parameters are: {grid_log.best_params_}')\n",
    "print(f'The best score is: {grid_log.best_score_}')"
   ]
  },
  {
   "cell_type": "code",
   "execution_count": 39,
   "id": "cdebd1e6",
   "metadata": {},
   "outputs": [
    {
     "name": "stdout",
     "output_type": "stream",
     "text": [
      "The best parameters are: {'C': 0.1, 'l1_ratio': 1, 'max_iter': 300, 'penalty': 'l2', 'solver': 'newton-cg'}\n",
      "The best score is: 0.653160895587083\n"
     ]
    }
   ],
   "source": [
    "print(f'The best parameters are: {grid_log.best_params_}')\n",
    "print(f'The best score is: {grid_log.best_score_}')"
   ]
  },
  {
   "cell_type": "markdown",
   "id": "a2b1d18d",
   "metadata": {},
   "source": [
    "### `SVM`"
   ]
  },
  {
   "cell_type": "code",
   "execution_count": 45,
   "id": "ede656e3",
   "metadata": {},
   "outputs": [
    {
     "name": "stdout",
     "output_type": "stream",
     "text": [
      "The best parameters are: {'decision_function_shape': 'ovo', 'kernel': 'linear'}\n",
      "The best score is: 0.6419914622197438\n"
     ]
    }
   ],
   "source": [
    "parameters_svc = {'decision_function_shape':('ovo', 'ovr'),\n",
    "                  'kernel':['linear']}\n",
    "svc_grid = SVC()\n",
    "grid_svc = GridSearchCV(estimator = svc_grid,  param_grid = parameters_svc, scoring = 'f1', cv = 5)\n",
    "grid_svc.fit(X_train, y_train)\n",
    "\n",
    "print(f'The best parameters are: {grid_svc.best_params_}')\n",
    "print(f'The best score is: {grid_svc.best_score_}')"
   ]
  },
  {
   "cell_type": "markdown",
   "id": "348094b5",
   "metadata": {},
   "source": [
    "### `Naive Bayes`"
   ]
  },
  {
   "cell_type": "code",
   "execution_count": 76,
   "id": "ae0d0681",
   "metadata": {},
   "outputs": [
    {
     "name": "stdout",
     "output_type": "stream",
     "text": [
      "The best parameters are: {'var_smoothing': 1e-09}\n",
      "The best score is: 0.6377791896779239\n"
     ]
    }
   ],
   "source": [
    "parameters_naive = {'var_smoothing':[1e-9]}\n",
    "naive_grid = GaussianNB()\n",
    "grid_naive = GridSearchCV(estimator = naive_grid, param_grid = parameters_naive, scoring = 'f1', cv = 5)\n",
    "grid_naive.fit(X_train, y_train)\n",
    "\n",
    "print(f'The best parameters are: {grid_naive.best_params_}')\n",
    "print(f'The best score is: {grid_naive.best_score_}')"
   ]
  },
  {
   "cell_type": "markdown",
   "id": "4fca5eef",
   "metadata": {},
   "source": [
    "- ## Aplying the best results of Grids Searches into dataset without cross-validation"
   ]
  },
  {
   "cell_type": "code",
   "execution_count": 83,
   "id": "6365b0fb",
   "metadata": {},
   "outputs": [
    {
     "name": "stdout",
     "output_type": "stream",
     "text": [
      "The previous score was 0.653160895587083 and now the score is 0.5544554455445543\n"
     ]
    }
   ],
   "source": [
    "model = LogisticRegression(C = 0.1, max_iter = 300, penalty = 'l2', solver = 'newton-cg')\n",
    "model.fit(X_train, y_train)\n",
    "y_pred = model.predict(X_test)\n",
    "\n",
    "print(f'The previous score was {grid_log.best_score_} and now the score is {f1_score(y_test, y_pred)}')"
   ]
  },
  {
   "cell_type": "markdown",
   "id": "589b9e16",
   "metadata": {},
   "source": [
    "#### _We can see that there is a difference, because when we used Logistic Regression the cross-validation has been applied, and now we don't do it._"
   ]
  },
  {
   "cell_type": "markdown",
   "id": "40e0cef1",
   "metadata": {},
   "source": [
    "# 4 - Understanding decision regions:"
   ]
  },
  {
   "cell_type": "code",
   "execution_count": 26,
   "id": "5a9006a8",
   "metadata": {},
   "outputs": [
    {
     "data": {
      "image/png": "[encoded data removed]",
      "text/plain": [
       "<Figure size 432x288 with 1 Axes>"
      ]
     },
     "metadata": {
      "needs_background": "light"
     },
     "output_type": "display_data"
    }
   ],
   "source": [
    "pca = PCA(n_components=2) # PCA(Principal Component Analysis)\n",
    "X_2D = pca.fit_transform(X_train)\n",
    "X_2D_test = pca.transform(X_test)\n",
    "\n",
    "svm = SVC(kernel='linear', random_state=42)\n",
    "svm.fit(X_2D, y_train)\n",
    "plot_decision_regions(X_2D_test, np.array(y_test), clf=svm, legend=2)\n",
    "plt.show()"
   ]
  },
  {
   "cell_type": "markdown",
   "id": "e5782d5a",
   "metadata": {},
   "source": [
    "#### _We can see above that the PCA doesn't give a good reduction of all the features because when we show the decision regions with new data, the test data, there are many points in the wrong place._"
   ]
  }
 ],
 "metadata": {
  "kernelspec": {
   "display_name": "Python 3 (ipykernel)",
   "language": "python",
   "name": "python3"
  },
  "language_info": {
   "codemirror_mode": {
    "name": "ipython",
    "version": 3
   },
   "file_extension": ".py",
   "mimetype": "text/x-python",
   "name": "python",
   "nbconvert_exporter": "python",
   "pygments_lexer": "ipython3",
   "version": "3.9.5"
  }
 },
 "nbformat": 4,
 "nbformat_minor": 5
}
