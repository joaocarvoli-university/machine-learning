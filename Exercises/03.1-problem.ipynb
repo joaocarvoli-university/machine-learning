{
 "cells": [
  {
   "cell_type": "markdown",
   "id": "19bbee80",
   "metadata": {},
   "source": [
    "# Problem 03.1:\n",
    "### Previously in the ```Problem 02``` we resolved the problem about Iris Classification. \n",
    "### Now, we yet let continue in this dataset therefore we'll use the functions behind KNN-Algorithm but this isn't implementation by *Sckit-Learn*.   \n",
    "* Dataset: [Iris](https://www.kaggle.com/uciml/iris)\n",
    "* The objective of this problem is to classify iris plants into three species in this classic dataset"
   ]
  },
  {
   "cell_type": "markdown",
   "id": "8d52f3fe",
   "metadata": {},
   "source": [
    "### Step by step:"
   ]
  },
  {
   "cell_type": "markdown",
   "id": "e149ec5d",
   "metadata": {},
   "source": [
    "## 1. Importing data and libraries:"
   ]
  },
  {
   "cell_type": "code",
   "execution_count": 31,
   "id": "f8d45aaf",
   "metadata": {},
   "outputs": [
    {
     "data": {
      "text/html": [
       "<div>\n",
       "<style scoped>\n",
       "    .dataframe tbody tr th:only-of-type {\n",
       "        vertical-align: middle;\n",
       "    }\n",
       "\n",
       "    .dataframe tbody tr th {\n",
       "        vertical-align: top;\n",
       "    }\n",
       "\n",
       "    .dataframe thead th {\n",
       "        text-align: right;\n",
       "    }\n",
       "</style>\n",
       "<table border=\"1\" class=\"dataframe\">\n",
       "  <thead>\n",
       "    <tr style=\"text-align: right;\">\n",
       "      <th></th>\n",
       "      <th>SepalLengthCm</th>\n",
       "      <th>SepalWidthCm</th>\n",
       "      <th>PetalLengthCm</th>\n",
       "      <th>PetalWidthCm</th>\n",
       "      <th>Species</th>\n",
       "    </tr>\n",
       "    <tr>\n",
       "      <th>Id</th>\n",
       "      <th></th>\n",
       "      <th></th>\n",
       "      <th></th>\n",
       "      <th></th>\n",
       "      <th></th>\n",
       "    </tr>\n",
       "  </thead>\n",
       "  <tbody>\n",
       "    <tr>\n",
       "      <th>1</th>\n",
       "      <td>5.1</td>\n",
       "      <td>3.5</td>\n",
       "      <td>1.4</td>\n",
       "      <td>0.2</td>\n",
       "      <td>Iris-setosa</td>\n",
       "    </tr>\n",
       "    <tr>\n",
       "      <th>2</th>\n",
       "      <td>4.9</td>\n",
       "      <td>3.0</td>\n",
       "      <td>1.4</td>\n",
       "      <td>0.2</td>\n",
       "      <td>Iris-setosa</td>\n",
       "    </tr>\n",
       "    <tr>\n",
       "      <th>3</th>\n",
       "      <td>4.7</td>\n",
       "      <td>3.2</td>\n",
       "      <td>1.3</td>\n",
       "      <td>0.2</td>\n",
       "      <td>Iris-setosa</td>\n",
       "    </tr>\n",
       "    <tr>\n",
       "      <th>4</th>\n",
       "      <td>4.6</td>\n",
       "      <td>3.1</td>\n",
       "      <td>1.5</td>\n",
       "      <td>0.2</td>\n",
       "      <td>Iris-setosa</td>\n",
       "    </tr>\n",
       "    <tr>\n",
       "      <th>5</th>\n",
       "      <td>5.0</td>\n",
       "      <td>3.6</td>\n",
       "      <td>1.4</td>\n",
       "      <td>0.2</td>\n",
       "      <td>Iris-setosa</td>\n",
       "    </tr>\n",
       "  </tbody>\n",
       "</table>\n",
       "</div>"
      ],
      "text/plain": [
       "    SepalLengthCm  SepalWidthCm  PetalLengthCm  PetalWidthCm      Species\n",
       "Id                                                                       \n",
       "1             5.1           3.5            1.4           0.2  Iris-setosa\n",
       "2             4.9           3.0            1.4           0.2  Iris-setosa\n",
       "3             4.7           3.2            1.3           0.2  Iris-setosa\n",
       "4             4.6           3.1            1.5           0.2  Iris-setosa\n",
       "5             5.0           3.6            1.4           0.2  Iris-setosa"
      ]
     },
     "execution_count": 31,
     "metadata": {},
     "output_type": "execute_result"
    }
   ],
   "source": [
    "import pandas as pd\n",
    "import numpy as np\n",
    "import matplotlib.pyplot as plt\n",
    "pd.set_option('mode.chained_assignment', None) # It's used to don't show the warnings...\n",
    "\n",
    "filename = '/home/j/Personal/IA - Studies/3.MachineLearning-course/data-sets/Iris.csv'\n",
    "iris_df = pd.read_csv(filename, index_col = 0)\n",
    "iris_df.head()"
   ]
  },
  {
   "cell_type": "markdown",
   "id": "8bacbd89",
   "metadata": {},
   "source": [
    "## 2. Splitting and Stratifying the dataset:"
   ]
  },
  {
   "cell_type": "code",
   "execution_count": 32,
   "id": "6e94dc79",
   "metadata": {},
   "outputs": [
    {
     "name": "stdout",
     "output_type": "stream",
     "text": [
      "(35, 5) (15, 5)\n",
      "(35, 5) (15, 5)\n",
      "(35, 5) (15, 5)\n"
     ]
    }
   ],
   "source": [
    "iris_df = iris_df.sample(frac=1, random_state=36)\n",
    "percent = 0.7\n",
    "\n",
    "versicolorSet = iris_df[iris_df['Species'] == 'Iris-versicolor']\n",
    "versicolorTrain, versicolorTest = versicolorSet.iloc[:int(percent * len(versicolorSet)),:], versicolorSet.iloc[int(percent * len(versicolorSet)):,:] # Going to the 40th index for the train, therefore 80% of dataset and after starting at 80% and going to the end\n",
    "print(versicolorTrain.shape, versicolorTest.shape)\n",
    "\n",
    "virginicaSet = iris_df[iris_df['Species'] == 'Iris-virginica']\n",
    "virginicaTrain, virginicaTest = virginicaSet.iloc[:int(percent * len(virginicaSet)),:], virginicaSet.iloc[int(percent * len(virginicaSet)):,:]\n",
    "print(virginicaTrain.shape, virginicaTest.shape)\n",
    "\n",
    "setosaSet = iris_df[iris_df['Species'] == 'Iris-setosa']\n",
    "setosaTrain, setosaTest = setosaSet.iloc[:int(percent * len(setosaSet)),:], setosaSet.iloc[int(percent * len(setosaSet)):,:]\n",
    "print(setosaTrain.shape, setosaTest.shape)\n",
    "\n",
    "train_set = pd.concat([versicolorTrain, virginicaTrain, setosaTrain], axis=0)\n",
    "test_set  = pd.concat([versicolorTest, virginicaTest, setosaTest], axis=0)"
   ]
  },
  {
   "cell_type": "markdown",
   "id": "6b5acf41",
   "metadata": {},
   "source": [
    "## 3. Splitting in X_train,X_test,y_train and y_test:"
   ]
  },
  {
   "cell_type": "code",
   "execution_count": 33,
   "id": "73e704b3",
   "metadata": {},
   "outputs": [],
   "source": [
    "X_train = train_set.iloc[:,:4]\n",
    "y_train = train_set.iloc[:,4:]\n",
    "\n",
    "X_test = test_set.iloc[:,:4]\n",
    "y_test = test_set.iloc[:,4:]"
   ]
  },
  {
   "cell_type": "markdown",
   "id": "4d9d6550",
   "metadata": {},
   "source": [
    "## 4. Standardizing label column:"
   ]
  },
  {
   "cell_type": "code",
   "execution_count": 34,
   "id": "ba4144e8",
   "metadata": {},
   "outputs": [
    {
     "data": {
      "text/plain": [
       "Species        \n",
       "Iris-setosa        35\n",
       "Iris-versicolor    35\n",
       "Iris-virginica     35\n",
       "dtype: int64"
      ]
     },
     "execution_count": 34,
     "metadata": {},
     "output_type": "execute_result"
    }
   ],
   "source": [
    "y_train.value_counts()"
   ]
  },
  {
   "cell_type": "code",
   "execution_count": 35,
   "id": "1e5304e4",
   "metadata": {},
   "outputs": [],
   "source": [
    "y_train['Species'] = y_train.replace('Iris-versicolor', '0')\n",
    "y_train['Species'] = y_train.replace('Iris-virginica', '1')\n",
    "y_train['Species'] = y_train.replace('Iris-setosa', '2')"
   ]
  },
  {
   "cell_type": "code",
   "execution_count": 36,
   "id": "c74bdf24",
   "metadata": {},
   "outputs": [
    {
     "data": {
      "text/plain": [
       "Species\n",
       "0          35\n",
       "1          35\n",
       "2          35\n",
       "dtype: int64"
      ]
     },
     "execution_count": 36,
     "metadata": {},
     "output_type": "execute_result"
    }
   ],
   "source": [
    "y_train.value_counts()"
   ]
  },
  {
   "cell_type": "code",
   "execution_count": 37,
   "id": "8e395cd5",
   "metadata": {},
   "outputs": [
    {
     "data": {
      "text/plain": [
       "Species        \n",
       "Iris-setosa        15\n",
       "Iris-versicolor    15\n",
       "Iris-virginica     15\n",
       "dtype: int64"
      ]
     },
     "execution_count": 37,
     "metadata": {},
     "output_type": "execute_result"
    }
   ],
   "source": [
    "y_test.value_counts()"
   ]
  },
  {
   "cell_type": "code",
   "execution_count": 38,
   "id": "7ab76d00",
   "metadata": {},
   "outputs": [],
   "source": [
    "y_test['Species'] = y_test.replace('Iris-versicolor', '0')\n",
    "y_test['Species'] = y_test.replace('Iris-virginica', '1')\n",
    "y_test['Species'] = y_test.replace('Iris-setosa', '2')"
   ]
  },
  {
   "cell_type": "code",
   "execution_count": 39,
   "id": "cb3ef035",
   "metadata": {},
   "outputs": [
    {
     "data": {
      "text/plain": [
       "Species\n",
       "0          15\n",
       "1          15\n",
       "2          15\n",
       "dtype: int64"
      ]
     },
     "execution_count": 39,
     "metadata": {},
     "output_type": "execute_result"
    }
   ],
   "source": [
    "y_test.value_counts()"
   ]
  },
  {
   "cell_type": "markdown",
   "id": "d6546e49",
   "metadata": {},
   "source": [
    "## 5. Implementing KNN:"
   ]
  },
  {
   "cell_type": "code",
   "execution_count": 40,
   "id": "1c9d891d",
   "metadata": {},
   "outputs": [
    {
     "data": {
      "text/html": [
       "<div>\n",
       "<style scoped>\n",
       "    .dataframe tbody tr th:only-of-type {\n",
       "        vertical-align: middle;\n",
       "    }\n",
       "\n",
       "    .dataframe tbody tr th {\n",
       "        vertical-align: top;\n",
       "    }\n",
       "\n",
       "    .dataframe thead th {\n",
       "        text-align: right;\n",
       "    }\n",
       "</style>\n",
       "<table border=\"1\" class=\"dataframe\">\n",
       "  <thead>\n",
       "    <tr style=\"text-align: right;\">\n",
       "      <th></th>\n",
       "      <th>SepalLengthCm</th>\n",
       "      <th>SepalWidthCm</th>\n",
       "      <th>PetalLengthCm</th>\n",
       "      <th>PetalWidthCm</th>\n",
       "    </tr>\n",
       "    <tr>\n",
       "      <th>Id</th>\n",
       "      <th></th>\n",
       "      <th></th>\n",
       "      <th></th>\n",
       "      <th></th>\n",
       "    </tr>\n",
       "  </thead>\n",
       "  <tbody>\n",
       "    <tr>\n",
       "      <th>51</th>\n",
       "      <td>7.0</td>\n",
       "      <td>3.2</td>\n",
       "      <td>4.7</td>\n",
       "      <td>1.4</td>\n",
       "    </tr>\n",
       "    <tr>\n",
       "      <th>87</th>\n",
       "      <td>6.7</td>\n",
       "      <td>3.1</td>\n",
       "      <td>4.7</td>\n",
       "      <td>1.5</td>\n",
       "    </tr>\n",
       "    <tr>\n",
       "      <th>58</th>\n",
       "      <td>4.9</td>\n",
       "      <td>2.4</td>\n",
       "      <td>3.3</td>\n",
       "      <td>1.0</td>\n",
       "    </tr>\n",
       "    <tr>\n",
       "      <th>57</th>\n",
       "      <td>6.3</td>\n",
       "      <td>3.3</td>\n",
       "      <td>4.7</td>\n",
       "      <td>1.6</td>\n",
       "    </tr>\n",
       "    <tr>\n",
       "      <th>52</th>\n",
       "      <td>6.4</td>\n",
       "      <td>3.2</td>\n",
       "      <td>4.5</td>\n",
       "      <td>1.5</td>\n",
       "    </tr>\n",
       "  </tbody>\n",
       "</table>\n",
       "</div>"
      ],
      "text/plain": [
       "    SepalLengthCm  SepalWidthCm  PetalLengthCm  PetalWidthCm\n",
       "Id                                                          \n",
       "51            7.0           3.2            4.7           1.4\n",
       "87            6.7           3.1            4.7           1.5\n",
       "58            4.9           2.4            3.3           1.0\n",
       "57            6.3           3.3            4.7           1.6\n",
       "52            6.4           3.2            4.5           1.5"
      ]
     },
     "execution_count": 40,
     "metadata": {},
     "output_type": "execute_result"
    }
   ],
   "source": [
    "X_train.head()"
   ]
  },
  {
   "cell_type": "code",
   "execution_count": 41,
   "id": "ce43e87d",
   "metadata": {},
   "outputs": [],
   "source": [
    "# Choosing two parameters\n",
    "X_train['sepal_mean'] = X_train.iloc[:,:2].mean(axis = 1)\n",
    "X_train['petal_mean'] = X_train.iloc[:,2:4].mean(axis = 1)\n",
    "X_train['width_mean'] = X_train.loc[:,['SepalWidthCm', 'PetalWidthCm']].mean(axis = 1)\n",
    "X_train['length_mean'] = X_train.loc[:,['SepalLengthCm', 'PetalLengthCm']].mean(axis = 1)\n",
    "\n",
    "X_test['sepal_mean'] = X_test.iloc[:,:2].mean(axis = 1)\n",
    "X_test['petal_mean'] = X_test.iloc[:,2:4].mean(axis = 1)\n",
    "X_test['width_mean'] = X_test.loc[:,['SepalWidthCm', 'PetalWidthCm']].mean(axis = 1)\n",
    "X_test['length_mean'] = X_test.loc[:,['SepalLengthCm', 'PetalLengthCm']].mean(axis = 1)"
   ]
  },
  {
   "cell_type": "code",
   "execution_count": 42,
   "id": "43e1c58e",
   "metadata": {},
   "outputs": [
    {
     "data": {
      "text/html": [
       "<div>\n",
       "<style scoped>\n",
       "    .dataframe tbody tr th:only-of-type {\n",
       "        vertical-align: middle;\n",
       "    }\n",
       "\n",
       "    .dataframe tbody tr th {\n",
       "        vertical-align: top;\n",
       "    }\n",
       "\n",
       "    .dataframe thead th {\n",
       "        text-align: right;\n",
       "    }\n",
       "</style>\n",
       "<table border=\"1\" class=\"dataframe\">\n",
       "  <thead>\n",
       "    <tr style=\"text-align: right;\">\n",
       "      <th></th>\n",
       "      <th>SepalLengthCm</th>\n",
       "      <th>SepalWidthCm</th>\n",
       "      <th>PetalLengthCm</th>\n",
       "      <th>PetalWidthCm</th>\n",
       "      <th>sepal_mean</th>\n",
       "      <th>petal_mean</th>\n",
       "      <th>width_mean</th>\n",
       "      <th>length_mean</th>\n",
       "    </tr>\n",
       "    <tr>\n",
       "      <th>Id</th>\n",
       "      <th></th>\n",
       "      <th></th>\n",
       "      <th></th>\n",
       "      <th></th>\n",
       "      <th></th>\n",
       "      <th></th>\n",
       "      <th></th>\n",
       "      <th></th>\n",
       "    </tr>\n",
       "  </thead>\n",
       "  <tbody>\n",
       "    <tr>\n",
       "      <th>51</th>\n",
       "      <td>7.0</td>\n",
       "      <td>3.2</td>\n",
       "      <td>4.7</td>\n",
       "      <td>1.4</td>\n",
       "      <td>5.10</td>\n",
       "      <td>3.05</td>\n",
       "      <td>2.30</td>\n",
       "      <td>5.85</td>\n",
       "    </tr>\n",
       "    <tr>\n",
       "      <th>87</th>\n",
       "      <td>6.7</td>\n",
       "      <td>3.1</td>\n",
       "      <td>4.7</td>\n",
       "      <td>1.5</td>\n",
       "      <td>4.90</td>\n",
       "      <td>3.10</td>\n",
       "      <td>2.30</td>\n",
       "      <td>5.70</td>\n",
       "    </tr>\n",
       "    <tr>\n",
       "      <th>58</th>\n",
       "      <td>4.9</td>\n",
       "      <td>2.4</td>\n",
       "      <td>3.3</td>\n",
       "      <td>1.0</td>\n",
       "      <td>3.65</td>\n",
       "      <td>2.15</td>\n",
       "      <td>1.70</td>\n",
       "      <td>4.10</td>\n",
       "    </tr>\n",
       "    <tr>\n",
       "      <th>57</th>\n",
       "      <td>6.3</td>\n",
       "      <td>3.3</td>\n",
       "      <td>4.7</td>\n",
       "      <td>1.6</td>\n",
       "      <td>4.80</td>\n",
       "      <td>3.15</td>\n",
       "      <td>2.45</td>\n",
       "      <td>5.50</td>\n",
       "    </tr>\n",
       "    <tr>\n",
       "      <th>52</th>\n",
       "      <td>6.4</td>\n",
       "      <td>3.2</td>\n",
       "      <td>4.5</td>\n",
       "      <td>1.5</td>\n",
       "      <td>4.80</td>\n",
       "      <td>3.00</td>\n",
       "      <td>2.35</td>\n",
       "      <td>5.45</td>\n",
       "    </tr>\n",
       "  </tbody>\n",
       "</table>\n",
       "</div>"
      ],
      "text/plain": [
       "    SepalLengthCm  SepalWidthCm  PetalLengthCm  PetalWidthCm  sepal_mean  \\\n",
       "Id                                                                         \n",
       "51            7.0           3.2            4.7           1.4        5.10   \n",
       "87            6.7           3.1            4.7           1.5        4.90   \n",
       "58            4.9           2.4            3.3           1.0        3.65   \n",
       "57            6.3           3.3            4.7           1.6        4.80   \n",
       "52            6.4           3.2            4.5           1.5        4.80   \n",
       "\n",
       "    petal_mean  width_mean  length_mean  \n",
       "Id                                       \n",
       "51        3.05        2.30         5.85  \n",
       "87        3.10        2.30         5.70  \n",
       "58        2.15        1.70         4.10  \n",
       "57        3.15        2.45         5.50  \n",
       "52        3.00        2.35         5.45  "
      ]
     },
     "execution_count": 42,
     "metadata": {},
     "output_type": "execute_result"
    }
   ],
   "source": [
    "X_train.head()"
   ]
  },
  {
   "cell_type": "markdown",
   "id": "72c7b15f",
   "metadata": {},
   "source": [
    "### 5.1 Ploting ```Sepal``` and ```Petal``` mean columns:"
   ]
  },
  {
   "cell_type": "code",
   "execution_count": 43,
   "id": "799bd4ac",
   "metadata": {},
   "outputs": [
    {
     "data": {
      "image/png": "[encoded data removed]",
      "text/plain": [
       "<Figure size 432x288 with 1 Axes>"
      ]
     },
     "metadata": {
      "needs_background": "light"
     },
     "output_type": "display_data"
    }
   ],
   "source": [
    "plt.scatter(X_train.iloc[:, 4], X_train.iloc[:, 5]);"
   ]
  },
  {
   "cell_type": "markdown",
   "id": "a9d94f17",
   "metadata": {},
   "source": [
    "### 5.2 Euclidian distance:"
   ]
  },
  {
   "cell_type": "code",
   "execution_count": 44,
   "id": "f17033c9",
   "metadata": {},
   "outputs": [],
   "source": [
    "def euclidean_distances(X, X_row):\n",
    "    X_ = (X - X_row) ** 2\n",
    "    return np.sum(X_, axis=1) ** 0.5"
   ]
  },
  {
   "cell_type": "code",
   "execution_count": 45,
   "id": "911c233a",
   "metadata": {},
   "outputs": [
    {
     "name": "stdout",
     "output_type": "stream",
     "text": [
      "3.05\n"
     ]
    },
    {
     "data": {
      "text/plain": [
       "Id\n",
       "51    2.050000\n",
       "87    1.850676\n",
       "58    1.081665\n",
       "57    1.752855\n",
       "52    1.750714\n",
       "        ...   \n",
       "48    2.405203\n",
       "6     2.561250\n",
       "41    2.550000\n",
       "44    2.289651\n",
       "33    2.760888\n",
       "Length: 105, dtype: float64"
      ]
     },
     "execution_count": 45,
     "metadata": {},
     "output_type": "execute_result"
    }
   ],
   "source": [
    "print(X_train.iloc[0,5]) # This point will be compared with all point in its column\n",
    "euclidean_distances(X_train[['petal_mean', 'sepal_mean']], X_train.iloc[0,5]) # This function calculates the euclidian distance about one point"
   ]
  },
  {
   "cell_type": "markdown",
   "id": "7302932b",
   "metadata": {},
   "source": [
    "### 5.3 Getting _k_ nearest neighbors of a point:"
   ]
  },
  {
   "cell_type": "code",
   "execution_count": 46,
   "id": "9fc14947",
   "metadata": {},
   "outputs": [],
   "source": [
    "def get_neighbors(X_train, test_row, k):\n",
    "    distances = euclidean_distances(X_train, test_row)\n",
    "    idx_sort = np.argsort(a = distances)\n",
    "    return idx_sort.to_numpy()[:k]"
   ]
  },
  {
   "cell_type": "code",
   "execution_count": 47,
   "id": "1bd2f87f",
   "metadata": {},
   "outputs": [
    {
     "data": {
      "text/plain": [
       "array([49, 59])"
      ]
     },
     "execution_count": 47,
     "metadata": {},
     "output_type": "execute_result"
    }
   ],
   "source": [
    "row = np.array([X_train.iloc[0,4], X_train.iloc[0,5]])\n",
    "get_neighbors(X_train[['petal_mean', 'sepal_mean']], row, 2)"
   ]
  },
  {
   "cell_type": "markdown",
   "id": "eb90b409",
   "metadata": {},
   "source": [
    "##### This result means that the first nearest point is the point that in normal order has a 48º index, therefore the 49 number."
   ]
  },
  {
   "cell_type": "markdown",
   "id": "5377e608",
   "metadata": {},
   "source": [
    "### 5.4 Classifying a new point:"
   ]
  },
  {
   "cell_type": "code",
   "execution_count": 48,
   "id": "26d123cb",
   "metadata": {},
   "outputs": [],
   "source": [
    "def predict_classification(X, y, test_row, k):\n",
    "    idx_sort = get_neighbors(X, test_row, k)\n",
    "    output_values = y.to_numpy()[idx_sort]\n",
    "    counts = np.unique(output_values, return_counts=True)\n",
    "    idx_max = np.argmax(counts[1])\n",
    "    prediction = counts[0][idx_max]\n",
    "    #print('idx_sort:{}, output_values:{}, prediction:{}'.format(idx_sort, output_values, prediction))\n",
    "    return prediction"
   ]
  },
  {
   "cell_type": "markdown",
   "id": "9105052f",
   "metadata": {},
   "source": [
    "## 6. Testing the ```predict_classification```:"
   ]
  },
  {
   "cell_type": "markdown",
   "id": "9968a0f6",
   "metadata": {},
   "source": [
    "### 6.1 Calculating the mean, like the train test:"
   ]
  },
  {
   "cell_type": "markdown",
   "id": "fba96943",
   "metadata": {},
   "source": [
    "### 6.2 Using the prediction:"
   ]
  },
  {
   "cell_type": "code",
   "execution_count": 49,
   "id": "17213a48",
   "metadata": {},
   "outputs": [
    {
     "data": {
      "text/html": [
       "<div>\n",
       "<style scoped>\n",
       "    .dataframe tbody tr th:only-of-type {\n",
       "        vertical-align: middle;\n",
       "    }\n",
       "\n",
       "    .dataframe tbody tr th {\n",
       "        vertical-align: top;\n",
       "    }\n",
       "\n",
       "    .dataframe thead th {\n",
       "        text-align: right;\n",
       "    }\n",
       "</style>\n",
       "<table border=\"1\" class=\"dataframe\">\n",
       "  <thead>\n",
       "    <tr style=\"text-align: right;\">\n",
       "      <th></th>\n",
       "      <th>sepal_mean</th>\n",
       "      <th>petal_mean</th>\n",
       "    </tr>\n",
       "    <tr>\n",
       "      <th>Id</th>\n",
       "      <th></th>\n",
       "      <th></th>\n",
       "    </tr>\n",
       "  </thead>\n",
       "  <tbody>\n",
       "    <tr>\n",
       "      <th>80</th>\n",
       "      <td>4.15</td>\n",
       "      <td>2.25</td>\n",
       "    </tr>\n",
       "    <tr>\n",
       "      <th>61</th>\n",
       "      <td>3.50</td>\n",
       "      <td>2.25</td>\n",
       "    </tr>\n",
       "    <tr>\n",
       "      <th>73</th>\n",
       "      <td>4.40</td>\n",
       "      <td>3.20</td>\n",
       "    </tr>\n",
       "    <tr>\n",
       "      <th>69</th>\n",
       "      <td>4.20</td>\n",
       "      <td>3.00</td>\n",
       "    </tr>\n",
       "    <tr>\n",
       "      <th>82</th>\n",
       "      <td>3.95</td>\n",
       "      <td>2.35</td>\n",
       "    </tr>\n",
       "  </tbody>\n",
       "</table>\n",
       "</div>"
      ],
      "text/plain": [
       "    sepal_mean  petal_mean\n",
       "Id                        \n",
       "80        4.15        2.25\n",
       "61        3.50        2.25\n",
       "73        4.40        3.20\n",
       "69        4.20        3.00\n",
       "82        3.95        2.35"
      ]
     },
     "execution_count": 49,
     "metadata": {},
     "output_type": "execute_result"
    }
   ],
   "source": [
    "X_test.iloc[:,4:6].head()"
   ]
  },
  {
   "cell_type": "markdown",
   "id": "4f0c1598",
   "metadata": {},
   "source": [
    "#### Testing the predict function:"
   ]
  },
  {
   "cell_type": "code",
   "execution_count": 50,
   "id": "628f9f2a",
   "metadata": {},
   "outputs": [
    {
     "data": {
      "text/html": [
       "<div>\n",
       "<style scoped>\n",
       "    .dataframe tbody tr th:only-of-type {\n",
       "        vertical-align: middle;\n",
       "    }\n",
       "\n",
       "    .dataframe tbody tr th {\n",
       "        vertical-align: top;\n",
       "    }\n",
       "\n",
       "    .dataframe thead th {\n",
       "        text-align: right;\n",
       "    }\n",
       "</style>\n",
       "<table border=\"1\" class=\"dataframe\">\n",
       "  <thead>\n",
       "    <tr style=\"text-align: right;\">\n",
       "      <th></th>\n",
       "      <th>SepalLengthCm</th>\n",
       "      <th>SepalWidthCm</th>\n",
       "      <th>PetalLengthCm</th>\n",
       "      <th>PetalWidthCm</th>\n",
       "      <th>sepal_mean</th>\n",
       "      <th>petal_mean</th>\n",
       "      <th>width_mean</th>\n",
       "      <th>length_mean</th>\n",
       "    </tr>\n",
       "  </thead>\n",
       "  <tbody>\n",
       "    <tr>\n",
       "      <th>count</th>\n",
       "      <td>105.000000</td>\n",
       "      <td>105.000000</td>\n",
       "      <td>105.000000</td>\n",
       "      <td>105.000000</td>\n",
       "      <td>105.000000</td>\n",
       "      <td>105.000000</td>\n",
       "      <td>105.000000</td>\n",
       "      <td>105.000000</td>\n",
       "    </tr>\n",
       "    <tr>\n",
       "      <th>mean</th>\n",
       "      <td>5.856190</td>\n",
       "      <td>3.075238</td>\n",
       "      <td>3.760952</td>\n",
       "      <td>1.227619</td>\n",
       "      <td>4.465714</td>\n",
       "      <td>2.494286</td>\n",
       "      <td>2.151429</td>\n",
       "      <td>4.808571</td>\n",
       "    </tr>\n",
       "    <tr>\n",
       "      <th>std</th>\n",
       "      <td>0.860783</td>\n",
       "      <td>0.430514</td>\n",
       "      <td>1.781934</td>\n",
       "      <td>0.790386</td>\n",
       "      <td>0.460211</td>\n",
       "      <td>1.276381</td>\n",
       "      <td>0.375478</td>\n",
       "      <td>1.282340</td>\n",
       "    </tr>\n",
       "    <tr>\n",
       "      <th>min</th>\n",
       "      <td>4.300000</td>\n",
       "      <td>2.200000</td>\n",
       "      <td>1.000000</td>\n",
       "      <td>0.100000</td>\n",
       "      <td>3.400000</td>\n",
       "      <td>0.600000</td>\n",
       "      <td>1.300000</td>\n",
       "      <td>2.700000</td>\n",
       "    </tr>\n",
       "    <tr>\n",
       "      <th>25%</th>\n",
       "      <td>5.100000</td>\n",
       "      <td>2.800000</td>\n",
       "      <td>1.500000</td>\n",
       "      <td>0.300000</td>\n",
       "      <td>4.100000</td>\n",
       "      <td>0.850000</td>\n",
       "      <td>1.850000</td>\n",
       "      <td>3.350000</td>\n",
       "    </tr>\n",
       "    <tr>\n",
       "      <th>50%</th>\n",
       "      <td>5.800000</td>\n",
       "      <td>3.000000</td>\n",
       "      <td>4.400000</td>\n",
       "      <td>1.300000</td>\n",
       "      <td>4.450000</td>\n",
       "      <td>2.900000</td>\n",
       "      <td>2.150000</td>\n",
       "      <td>5.050000</td>\n",
       "    </tr>\n",
       "    <tr>\n",
       "      <th>75%</th>\n",
       "      <td>6.500000</td>\n",
       "      <td>3.300000</td>\n",
       "      <td>5.100000</td>\n",
       "      <td>1.900000</td>\n",
       "      <td>4.800000</td>\n",
       "      <td>3.550000</td>\n",
       "      <td>2.400000</td>\n",
       "      <td>5.850000</td>\n",
       "    </tr>\n",
       "    <tr>\n",
       "      <th>max</th>\n",
       "      <td>7.900000</td>\n",
       "      <td>4.400000</td>\n",
       "      <td>6.900000</td>\n",
       "      <td>2.500000</td>\n",
       "      <td>5.850000</td>\n",
       "      <td>4.600000</td>\n",
       "      <td>3.050000</td>\n",
       "      <td>7.300000</td>\n",
       "    </tr>\n",
       "  </tbody>\n",
       "</table>\n",
       "</div>"
      ],
      "text/plain": [
       "       SepalLengthCm  SepalWidthCm  PetalLengthCm  PetalWidthCm  sepal_mean  \\\n",
       "count     105.000000    105.000000     105.000000    105.000000  105.000000   \n",
       "mean        5.856190      3.075238       3.760952      1.227619    4.465714   \n",
       "std         0.860783      0.430514       1.781934      0.790386    0.460211   \n",
       "min         4.300000      2.200000       1.000000      0.100000    3.400000   \n",
       "25%         5.100000      2.800000       1.500000      0.300000    4.100000   \n",
       "50%         5.800000      3.000000       4.400000      1.300000    4.450000   \n",
       "75%         6.500000      3.300000       5.100000      1.900000    4.800000   \n",
       "max         7.900000      4.400000       6.900000      2.500000    5.850000   \n",
       "\n",
       "       petal_mean  width_mean  length_mean  \n",
       "count  105.000000  105.000000   105.000000  \n",
       "mean     2.494286    2.151429     4.808571  \n",
       "std      1.276381    0.375478     1.282340  \n",
       "min      0.600000    1.300000     2.700000  \n",
       "25%      0.850000    1.850000     3.350000  \n",
       "50%      2.900000    2.150000     5.050000  \n",
       "75%      3.550000    2.400000     5.850000  \n",
       "max      4.600000    3.050000     7.300000  "
      ]
     },
     "execution_count": 50,
     "metadata": {},
     "output_type": "execute_result"
    }
   ],
   "source": [
    "X_train.describe()"
   ]
  },
  {
   "cell_type": "code",
   "execution_count": 57,
   "id": "79a73f76",
   "metadata": {},
   "outputs": [],
   "source": [
    "to_test = X_test.loc[:,['PetalLengthCm','PetalWidthCm', 'length_mean', 'petal_mean']]\n",
    "to_train = X_train.loc[:,['PetalLengthCm','PetalWidthCm', 'length_mean', 'petal_mean']]"
   ]
  },
  {
   "cell_type": "markdown",
   "id": "1e7b1ead",
   "metadata": {},
   "source": [
    "### For _k_ equals 3:"
   ]
  },
  {
   "cell_type": "code",
   "execution_count": 83,
   "id": "ed52af18",
   "metadata": {},
   "outputs": [
    {
     "name": "stdout",
     "output_type": "stream",
     "text": [
      "The acurracy of our model is 95.56%\n"
     ]
    }
   ],
   "source": [
    "results = []\n",
    "\n",
    "for i in range(0,45):\n",
    "    x = to_test.iloc[i,0]; y =   to_test.iloc[i,1] ; z = to_test.iloc[i,2] ; w = to_test.iloc[i,3]\n",
    "    point = np.array([x,y,z,w])\n",
    "    results.append(predict_classification(to_train, y_train, point, 3))\n",
    "    \n",
    "results = np.array(results); results = pd.DataFrame(results); results = results.rename(columns={0:\"answer\"})\n",
    "\n",
    "# Measuring accuracy\n",
    "acurracy = (results['answer'] == y_test['Species'].values).value_counts().to_list()\n",
    "acurracy = acurracy[0] / (acurracy[0] + acurracy[1])\n",
    "acurracy = round(acurracy*100, 2)\n",
    "\n",
    "print(f'The acurracy of our model is {acurracy}%')"
   ]
  },
  {
   "cell_type": "markdown",
   "id": "74ffe448",
   "metadata": {},
   "source": [
    "### For _k_ equals 5:"
   ]
  },
  {
   "cell_type": "code",
   "execution_count": 81,
   "id": "8587f638",
   "metadata": {},
   "outputs": [
    {
     "name": "stdout",
     "output_type": "stream",
     "text": [
      "The acurracy of our model is 95.56%\n"
     ]
    }
   ],
   "source": [
    "results_2 = []\n",
    "\n",
    "for i in range(0,45):\n",
    "    x = to_test.iloc[i,0]; y =   to_test.iloc[i,1] ; z = to_test.iloc[i,2] ; w = to_test.iloc[i,3]\n",
    "    point = np.array([x,y,z,w])\n",
    "    results_2.append(predict_classification(to_train, y_train, point, 5))\n",
    "    \n",
    "results_2 = np.array(results); results_2 = pd.DataFrame(results); results_2 = results.rename(columns={0:\"answer\"})\n",
    "\n",
    "# Measuring accuracy\n",
    "acurracy_2 = (results_2['answer'] == y_test['Species'].values).value_counts().to_list()\n",
    "acurracy_2 = acurracy_2[0] / (acurracy_2[0] + acurracy_2[1])\n",
    "acurracy_2 = round(acurracy_2*100, 2)\n",
    "\n",
    "print(f'The acurracy of our model is {acurracy_2}%')"
   ]
  }
 ],
 "metadata": {
  "kernelspec": {
   "display_name": "Python 3",
   "language": "python",
   "name": "python3"
  },
  "language_info": {
   "codemirror_mode": {
    "name": "ipython",
    "version": 3
   },
   "file_extension": ".py",
   "mimetype": "text/x-python",
   "name": "python",
   "nbconvert_exporter": "python",
   "pygments_lexer": "ipython3",
   "version": "3.9.4"
  }
 },
 "nbformat": 4,
 "nbformat_minor": 5
}
