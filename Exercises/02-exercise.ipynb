{
 "cells": [
  {
   "cell_type": "markdown",
   "id": "3af28af2",
   "metadata": {},
   "source": [
    "# Exercise 02:\n",
    "### Each topic is like a problem to be resolved\n",
    "* Dataset: [Iris](https://www.kaggle.com/uciml/iris)\n",
    "* The objective of this problem is to classify iris plants into three species in this classic dataset"
   ]
  },
  {
   "cell_type": "code",
   "execution_count": 352,
   "id": "c4a206dc",
   "metadata": {},
   "outputs": [
    {
     "data": {
      "text/html": [
       "<div>\n",
       "<style scoped>\n",
       "    .dataframe tbody tr th:only-of-type {\n",
       "        vertical-align: middle;\n",
       "    }\n",
       "\n",
       "    .dataframe tbody tr th {\n",
       "        vertical-align: top;\n",
       "    }\n",
       "\n",
       "    .dataframe thead th {\n",
       "        text-align: right;\n",
       "    }\n",
       "</style>\n",
       "<table border=\"1\" class=\"dataframe\">\n",
       "  <thead>\n",
       "    <tr style=\"text-align: right;\">\n",
       "      <th></th>\n",
       "      <th>Id</th>\n",
       "      <th>SepalLengthCm</th>\n",
       "      <th>SepalWidthCm</th>\n",
       "      <th>PetalLengthCm</th>\n",
       "      <th>PetalWidthCm</th>\n",
       "      <th>Species</th>\n",
       "    </tr>\n",
       "  </thead>\n",
       "  <tbody>\n",
       "    <tr>\n",
       "      <th>0</th>\n",
       "      <td>1</td>\n",
       "      <td>5.1</td>\n",
       "      <td>3.5</td>\n",
       "      <td>1.4</td>\n",
       "      <td>0.2</td>\n",
       "      <td>Iris-setosa</td>\n",
       "    </tr>\n",
       "    <tr>\n",
       "      <th>1</th>\n",
       "      <td>2</td>\n",
       "      <td>4.9</td>\n",
       "      <td>3.0</td>\n",
       "      <td>1.4</td>\n",
       "      <td>0.2</td>\n",
       "      <td>Iris-setosa</td>\n",
       "    </tr>\n",
       "    <tr>\n",
       "      <th>2</th>\n",
       "      <td>3</td>\n",
       "      <td>4.7</td>\n",
       "      <td>3.2</td>\n",
       "      <td>1.3</td>\n",
       "      <td>0.2</td>\n",
       "      <td>Iris-setosa</td>\n",
       "    </tr>\n",
       "    <tr>\n",
       "      <th>3</th>\n",
       "      <td>4</td>\n",
       "      <td>4.6</td>\n",
       "      <td>3.1</td>\n",
       "      <td>1.5</td>\n",
       "      <td>0.2</td>\n",
       "      <td>Iris-setosa</td>\n",
       "    </tr>\n",
       "    <tr>\n",
       "      <th>4</th>\n",
       "      <td>5</td>\n",
       "      <td>5.0</td>\n",
       "      <td>3.6</td>\n",
       "      <td>1.4</td>\n",
       "      <td>0.2</td>\n",
       "      <td>Iris-setosa</td>\n",
       "    </tr>\n",
       "  </tbody>\n",
       "</table>\n",
       "</div>"
      ],
      "text/plain": [
       "   Id  SepalLengthCm  SepalWidthCm  PetalLengthCm  PetalWidthCm      Species\n",
       "0   1            5.1           3.5            1.4           0.2  Iris-setosa\n",
       "1   2            4.9           3.0            1.4           0.2  Iris-setosa\n",
       "2   3            4.7           3.2            1.3           0.2  Iris-setosa\n",
       "3   4            4.6           3.1            1.5           0.2  Iris-setosa\n",
       "4   5            5.0           3.6            1.4           0.2  Iris-setosa"
      ]
     },
     "execution_count": 352,
     "metadata": {},
     "output_type": "execute_result"
    }
   ],
   "source": [
    "import pandas as pd\n",
    "import numpy as np\n",
    "import matplotlib.pyplot as plt\n",
    "pd.set_option('mode.chained_assignment', None)\n",
    "\n",
    "iris_df = pd.read_csv('/home/j/Personal/MachineLearning-course/data-sets/Iris.csv')\n",
    "iris_df.head()"
   ]
  },
  {
   "cell_type": "code",
   "execution_count": 353,
   "id": "4ca25878",
   "metadata": {},
   "outputs": [],
   "source": [
    "iris_df.drop('Id', axis=1, inplace=True)  # Deleting Id column"
   ]
  },
  {
   "cell_type": "code",
   "execution_count": 354,
   "id": "f7757e05",
   "metadata": {},
   "outputs": [
    {
     "name": "stdout",
     "output_type": "stream",
     "text": [
      "<class 'pandas.core.frame.DataFrame'>\n",
      "RangeIndex: 150 entries, 0 to 149\n",
      "Data columns (total 5 columns):\n",
      " #   Column         Non-Null Count  Dtype  \n",
      "---  ------         --------------  -----  \n",
      " 0   SepalLengthCm  150 non-null    float64\n",
      " 1   SepalWidthCm   150 non-null    float64\n",
      " 2   PetalLengthCm  150 non-null    float64\n",
      " 3   PetalWidthCm   150 non-null    float64\n",
      " 4   Species        150 non-null    object \n",
      "dtypes: float64(4), object(1)\n",
      "memory usage: 6.0+ KB\n"
     ]
    }
   ],
   "source": [
    "iris_df.info()"
   ]
  },
  {
   "cell_type": "markdown",
   "id": "1c59cd42",
   "metadata": {},
   "source": [
    "#### Above We can see that each column has 150 samples\n",
    "##### Let's know more about each column and the data, there!"
   ]
  },
  {
   "cell_type": "code",
   "execution_count": 355,
   "id": "4472cafc",
   "metadata": {},
   "outputs": [
    {
     "data": {
      "text/plain": [
       "array([5.1, 4.9, 4.7, 4.6, 5. , 5.4, 4.4, 4.8, 4.3, 5.8, 5.7, 5.2, 5.5,\n",
       "       4.5, 5.3, 7. , 6.4, 6.9, 6.5, 6.3, 6.6, 5.9, 6. , 6.1, 5.6, 6.7,\n",
       "       6.2, 6.8, 7.1, 7.6, 7.3, 7.2, 7.7, 7.4, 7.9])"
      ]
     },
     "execution_count": 355,
     "metadata": {},
     "output_type": "execute_result"
    }
   ],
   "source": [
    "iris_df['SepalLengthCm'].unique()"
   ]
  },
  {
   "cell_type": "code",
   "execution_count": 356,
   "id": "39545b59",
   "metadata": {},
   "outputs": [
    {
     "name": "stdout",
     "output_type": "stream",
     "text": [
      "The min of this column is  4.3  and the max is  7.9\n"
     ]
    }
   ],
   "source": [
    "print('The min of this column is ', iris_df['SepalLengthCm'].min(),' and the max is ',iris_df['SepalLengthCm'].max())"
   ]
  },
  {
   "cell_type": "code",
   "execution_count": 357,
   "id": "8a573df9",
   "metadata": {},
   "outputs": [
    {
     "data": {
      "text/plain": [
       "array([3.5, 3. , 3.2, 3.1, 3.6, 3.9, 3.4, 2.9, 3.7, 4. , 4.4, 3.8, 3.3,\n",
       "       4.1, 4.2, 2.3, 2.8, 2.4, 2.7, 2. , 2.2, 2.5, 2.6])"
      ]
     },
     "execution_count": 357,
     "metadata": {},
     "output_type": "execute_result"
    }
   ],
   "source": [
    "iris_df['SepalWidthCm'].unique()"
   ]
  },
  {
   "cell_type": "code",
   "execution_count": 358,
   "id": "8b0efa7d",
   "metadata": {},
   "outputs": [
    {
     "name": "stdout",
     "output_type": "stream",
     "text": [
      "The min of this column is  2.0  and the max is  4.4\n"
     ]
    }
   ],
   "source": [
    "print('The min of this column is ', iris_df['SepalWidthCm'].min(),' and the max is ',iris_df['SepalWidthCm'].max())"
   ]
  },
  {
   "cell_type": "code",
   "execution_count": 359,
   "id": "c6318d28",
   "metadata": {},
   "outputs": [
    {
     "data": {
      "text/plain": [
       "array([1.4, 1.3, 1.5, 1.7, 1.6, 1.1, 1.2, 1. , 1.9, 4.7, 4.5, 4.9, 4. ,\n",
       "       4.6, 3.3, 3.9, 3.5, 4.2, 3.6, 4.4, 4.1, 4.8, 4.3, 5. , 3.8, 3.7,\n",
       "       5.1, 3. , 6. , 5.9, 5.6, 5.8, 6.6, 6.3, 6.1, 5.3, 5.5, 6.7, 6.9,\n",
       "       5.7, 6.4, 5.4, 5.2])"
      ]
     },
     "execution_count": 359,
     "metadata": {},
     "output_type": "execute_result"
    }
   ],
   "source": [
    "iris_df['PetalLengthCm'].unique()"
   ]
  },
  {
   "cell_type": "code",
   "execution_count": 360,
   "id": "4f4963bf",
   "metadata": {},
   "outputs": [
    {
     "name": "stdout",
     "output_type": "stream",
     "text": [
      "The min of this column is  1.0  and the max is  6.9\n"
     ]
    }
   ],
   "source": [
    "print('The min of this column is ', iris_df['PetalLengthCm'].min(),' and the max is ',iris_df['PetalLengthCm'].max())"
   ]
  },
  {
   "cell_type": "code",
   "execution_count": 361,
   "id": "b8e7aed7",
   "metadata": {},
   "outputs": [
    {
     "data": {
      "text/plain": [
       "array([0.2, 0.4, 0.3, 0.1, 0.5, 0.6, 1.4, 1.5, 1.3, 1.6, 1. , 1.1, 1.8,\n",
       "       1.2, 1.7, 2.5, 1.9, 2.1, 2.2, 2. , 2.4, 2.3])"
      ]
     },
     "execution_count": 361,
     "metadata": {},
     "output_type": "execute_result"
    }
   ],
   "source": [
    "iris_df['PetalWidthCm'].unique()"
   ]
  },
  {
   "cell_type": "code",
   "execution_count": 362,
   "id": "8c110fea",
   "metadata": {},
   "outputs": [
    {
     "name": "stdout",
     "output_type": "stream",
     "text": [
      "The min of this column is  0.1  and the max is  2.5\n"
     ]
    }
   ],
   "source": [
    "print('The min of this column is ', iris_df['PetalWidthCm'].min(),' and the max is ',iris_df['PetalWidthCm'].max())"
   ]
  },
  {
   "cell_type": "code",
   "execution_count": 363,
   "id": "291918f2",
   "metadata": {},
   "outputs": [
    {
     "data": {
      "text/plain": [
       "array(['Iris-setosa', 'Iris-versicolor', 'Iris-virginica'], dtype=object)"
      ]
     },
     "execution_count": 363,
     "metadata": {},
     "output_type": "execute_result"
    }
   ],
   "source": [
    "iris_df['Species'].unique()"
   ]
  },
  {
   "cell_type": "markdown",
   "id": "8b4e27f3",
   "metadata": {},
   "source": [
    "### Coments:\n",
    "- The columns ```SepalLengthCm```, ```SepalWidthCm```, ```PetalLengthCm``` and ```PetalWidthCm```, just has values and their min and max are so diferent.\n",
    "- The column ```Species``` just has three values and they are the type of Iris that We're analyzing"
   ]
  },
  {
   "cell_type": "markdown",
   "id": "9c429221",
   "metadata": {},
   "source": [
    "## Spliting our data to make the train dataset and test dataset"
   ]
  },
  {
   "cell_type": "code",
   "execution_count": 364,
   "id": "e8e1ae37",
   "metadata": {},
   "outputs": [],
   "source": [
    "shuffle_df = iris_df.sample(frac=1, random_state=36) # Shuffling our data, The frac = 1 is the percent of data that we're using\n",
    "train_size = int(0.8 * len(iris_df)) # Selecting the size of our train data set\n",
    "\n",
    "train_set = shuffle_df[:train_size] # Selecting 80% of our data set\n",
    "test_set = shuffle_df[train_size:] # Starting at 80% to the end of our data set"
   ]
  },
  {
   "cell_type": "code",
   "execution_count": 365,
   "id": "0c0212db",
   "metadata": {},
   "outputs": [
    {
     "data": {
      "text/plain": [
       "\" \\ntests = {}\\ntrains = {}\\nfor g, dfg in iris_df.groupby('Species'):\\n    trains[g] = dfg.sample(frac = 0.7)\\n    tests[g] = dfg.loc[ ~dfg.index.isin(trains[g].index), ]\\n\""
      ]
     },
     "execution_count": 365,
     "metadata": {},
     "output_type": "execute_result"
    }
   ],
   "source": [
    "''' \n",
    "tests = {}\n",
    "trains = {}\n",
    "for g, dfg in iris_df.groupby('Species'):\n",
    "    trains[g] = dfg.sample(frac = 0.7)\n",
    "    tests[g] = dfg.loc[ ~dfg.index.isin(trains[g].index), ]\n",
    "'''"
   ]
  },
  {
   "cell_type": "code",
   "execution_count": 366,
   "id": "7e4c9f6a",
   "metadata": {},
   "outputs": [
    {
     "data": {
      "text/plain": [
       "Iris-setosa        40\n",
       "Iris-virginica     40\n",
       "Iris-versicolor    40\n",
       "Name: Species, dtype: int64"
      ]
     },
     "execution_count": 366,
     "metadata": {},
     "output_type": "execute_result"
    }
   ],
   "source": [
    "train_set['Species'].value_counts()"
   ]
  },
  {
   "cell_type": "code",
   "execution_count": 367,
   "id": "e0e7c3af",
   "metadata": {},
   "outputs": [
    {
     "data": {
      "text/plain": [
       "Iris-setosa        10\n",
       "Iris-virginica     10\n",
       "Iris-versicolor    10\n",
       "Name: Species, dtype: int64"
      ]
     },
     "execution_count": 367,
     "metadata": {},
     "output_type": "execute_result"
    }
   ],
   "source": [
    "test_set['Species'].value_counts()"
   ]
  },
  {
   "cell_type": "code",
   "execution_count": 368,
   "id": "05952c13",
   "metadata": {},
   "outputs": [
    {
     "data": {
      "text/html": [
       "<div>\n",
       "<style scoped>\n",
       "    .dataframe tbody tr th:only-of-type {\n",
       "        vertical-align: middle;\n",
       "    }\n",
       "\n",
       "    .dataframe tbody tr th {\n",
       "        vertical-align: top;\n",
       "    }\n",
       "\n",
       "    .dataframe thead th {\n",
       "        text-align: right;\n",
       "    }\n",
       "</style>\n",
       "<table border=\"1\" class=\"dataframe\">\n",
       "  <thead>\n",
       "    <tr style=\"text-align: right;\">\n",
       "      <th></th>\n",
       "      <th>SepalLengthCm</th>\n",
       "      <th>SepalWidthCm</th>\n",
       "      <th>PetalLengthCm</th>\n",
       "      <th>PetalWidthCm</th>\n",
       "      <th>Species</th>\n",
       "    </tr>\n",
       "  </thead>\n",
       "  <tbody>\n",
       "    <tr>\n",
       "      <th>50</th>\n",
       "      <td>7.0</td>\n",
       "      <td>3.2</td>\n",
       "      <td>4.7</td>\n",
       "      <td>1.4</td>\n",
       "      <td>Iris-versicolor</td>\n",
       "    </tr>\n",
       "    <tr>\n",
       "      <th>145</th>\n",
       "      <td>6.7</td>\n",
       "      <td>3.0</td>\n",
       "      <td>5.2</td>\n",
       "      <td>2.3</td>\n",
       "      <td>Iris-virginica</td>\n",
       "    </tr>\n",
       "    <tr>\n",
       "      <th>86</th>\n",
       "      <td>6.7</td>\n",
       "      <td>3.1</td>\n",
       "      <td>4.7</td>\n",
       "      <td>1.5</td>\n",
       "      <td>Iris-versicolor</td>\n",
       "    </tr>\n",
       "    <tr>\n",
       "      <th>118</th>\n",
       "      <td>7.7</td>\n",
       "      <td>2.6</td>\n",
       "      <td>6.9</td>\n",
       "      <td>2.3</td>\n",
       "      <td>Iris-virginica</td>\n",
       "    </tr>\n",
       "    <tr>\n",
       "      <th>122</th>\n",
       "      <td>7.7</td>\n",
       "      <td>2.8</td>\n",
       "      <td>6.7</td>\n",
       "      <td>2.0</td>\n",
       "      <td>Iris-virginica</td>\n",
       "    </tr>\n",
       "  </tbody>\n",
       "</table>\n",
       "</div>"
      ],
      "text/plain": [
       "     SepalLengthCm  SepalWidthCm  PetalLengthCm  PetalWidthCm          Species\n",
       "50             7.0           3.2            4.7           1.4  Iris-versicolor\n",
       "145            6.7           3.0            5.2           2.3   Iris-virginica\n",
       "86             6.7           3.1            4.7           1.5  Iris-versicolor\n",
       "118            7.7           2.6            6.9           2.3   Iris-virginica\n",
       "122            7.7           2.8            6.7           2.0   Iris-virginica"
      ]
     },
     "execution_count": 368,
     "metadata": {},
     "output_type": "execute_result"
    }
   ],
   "source": [
    "train_set.head()"
   ]
  },
  {
   "cell_type": "code",
   "execution_count": 369,
   "id": "a6674beb",
   "metadata": {},
   "outputs": [
    {
     "data": {
      "text/plain": [
       "SepalLengthCm    5.840833\n",
       "SepalWidthCm     3.043333\n",
       "PetalLengthCm    3.740833\n",
       "PetalWidthCm     1.211667\n",
       "dtype: float64"
      ]
     },
     "execution_count": 369,
     "metadata": {},
     "output_type": "execute_result"
    }
   ],
   "source": [
    "train_set.mean(axis = 0)"
   ]
  },
  {
   "cell_type": "code",
   "execution_count": 370,
   "id": "84ac56c7",
   "metadata": {},
   "outputs": [],
   "source": [
    "train_set['mean'] =  train_set.iloc[:,:4].mean(axis = 1) # Creating a new column that has the means"
   ]
  },
  {
   "cell_type": "code",
   "execution_count": 371,
   "id": "68a2b617",
   "metadata": {},
   "outputs": [
    {
     "data": {
      "text/html": [
       "<div>\n",
       "<style scoped>\n",
       "    .dataframe tbody tr th:only-of-type {\n",
       "        vertical-align: middle;\n",
       "    }\n",
       "\n",
       "    .dataframe tbody tr th {\n",
       "        vertical-align: top;\n",
       "    }\n",
       "\n",
       "    .dataframe thead th {\n",
       "        text-align: right;\n",
       "    }\n",
       "</style>\n",
       "<table border=\"1\" class=\"dataframe\">\n",
       "  <thead>\n",
       "    <tr style=\"text-align: right;\">\n",
       "      <th></th>\n",
       "      <th>SepalLengthCm</th>\n",
       "      <th>SepalWidthCm</th>\n",
       "      <th>PetalLengthCm</th>\n",
       "      <th>PetalWidthCm</th>\n",
       "      <th>Species</th>\n",
       "      <th>mean</th>\n",
       "    </tr>\n",
       "  </thead>\n",
       "  <tbody>\n",
       "    <tr>\n",
       "      <th>50</th>\n",
       "      <td>7.0</td>\n",
       "      <td>3.2</td>\n",
       "      <td>4.7</td>\n",
       "      <td>1.4</td>\n",
       "      <td>Iris-versicolor</td>\n",
       "      <td>4.075</td>\n",
       "    </tr>\n",
       "    <tr>\n",
       "      <th>145</th>\n",
       "      <td>6.7</td>\n",
       "      <td>3.0</td>\n",
       "      <td>5.2</td>\n",
       "      <td>2.3</td>\n",
       "      <td>Iris-virginica</td>\n",
       "      <td>4.300</td>\n",
       "    </tr>\n",
       "    <tr>\n",
       "      <th>86</th>\n",
       "      <td>6.7</td>\n",
       "      <td>3.1</td>\n",
       "      <td>4.7</td>\n",
       "      <td>1.5</td>\n",
       "      <td>Iris-versicolor</td>\n",
       "      <td>4.000</td>\n",
       "    </tr>\n",
       "    <tr>\n",
       "      <th>118</th>\n",
       "      <td>7.7</td>\n",
       "      <td>2.6</td>\n",
       "      <td>6.9</td>\n",
       "      <td>2.3</td>\n",
       "      <td>Iris-virginica</td>\n",
       "      <td>4.875</td>\n",
       "    </tr>\n",
       "    <tr>\n",
       "      <th>122</th>\n",
       "      <td>7.7</td>\n",
       "      <td>2.8</td>\n",
       "      <td>6.7</td>\n",
       "      <td>2.0</td>\n",
       "      <td>Iris-virginica</td>\n",
       "      <td>4.800</td>\n",
       "    </tr>\n",
       "  </tbody>\n",
       "</table>\n",
       "</div>"
      ],
      "text/plain": [
       "     SepalLengthCm  SepalWidthCm  PetalLengthCm  PetalWidthCm  \\\n",
       "50             7.0           3.2            4.7           1.4   \n",
       "145            6.7           3.0            5.2           2.3   \n",
       "86             6.7           3.1            4.7           1.5   \n",
       "118            7.7           2.6            6.9           2.3   \n",
       "122            7.7           2.8            6.7           2.0   \n",
       "\n",
       "             Species   mean  \n",
       "50   Iris-versicolor  4.075  \n",
       "145   Iris-virginica  4.300  \n",
       "86   Iris-versicolor  4.000  \n",
       "118   Iris-virginica  4.875  \n",
       "122   Iris-virginica  4.800  "
      ]
     },
     "execution_count": 371,
     "metadata": {},
     "output_type": "execute_result"
    }
   ],
   "source": [
    "train_set.head()"
   ]
  },
  {
   "cell_type": "markdown",
   "id": "3b18a8d4",
   "metadata": {},
   "source": [
    "## Let's select the columns where each species appears\n",
    "### After this, we'll see the mean column of each species sorted to try see any pattern"
   ]
  },
  {
   "cell_type": "code",
   "execution_count": 372,
   "id": "aaee0aa7",
   "metadata": {},
   "outputs": [
    {
     "data": {
      "text/html": [
       "<div>\n",
       "<style scoped>\n",
       "    .dataframe tbody tr th:only-of-type {\n",
       "        vertical-align: middle;\n",
       "    }\n",
       "\n",
       "    .dataframe tbody tr th {\n",
       "        vertical-align: top;\n",
       "    }\n",
       "\n",
       "    .dataframe thead th {\n",
       "        text-align: right;\n",
       "    }\n",
       "</style>\n",
       "<table border=\"1\" class=\"dataframe\">\n",
       "  <thead>\n",
       "    <tr style=\"text-align: right;\">\n",
       "      <th></th>\n",
       "      <th>SepalLengthCm</th>\n",
       "      <th>SepalWidthCm</th>\n",
       "      <th>PetalLengthCm</th>\n",
       "      <th>PetalWidthCm</th>\n",
       "      <th>Species</th>\n",
       "      <th>mean</th>\n",
       "    </tr>\n",
       "  </thead>\n",
       "  <tbody>\n",
       "    <tr>\n",
       "      <th>41</th>\n",
       "      <td>4.5</td>\n",
       "      <td>2.3</td>\n",
       "      <td>1.3</td>\n",
       "      <td>0.3</td>\n",
       "      <td>Iris-setosa</td>\n",
       "      <td>2.100</td>\n",
       "    </tr>\n",
       "    <tr>\n",
       "      <th>13</th>\n",
       "      <td>4.3</td>\n",
       "      <td>3.0</td>\n",
       "      <td>1.1</td>\n",
       "      <td>0.1</td>\n",
       "      <td>Iris-setosa</td>\n",
       "      <td>2.125</td>\n",
       "    </tr>\n",
       "    <tr>\n",
       "      <th>8</th>\n",
       "      <td>4.4</td>\n",
       "      <td>2.9</td>\n",
       "      <td>1.4</td>\n",
       "      <td>0.2</td>\n",
       "      <td>Iris-setosa</td>\n",
       "      <td>2.225</td>\n",
       "    </tr>\n",
       "    <tr>\n",
       "      <th>38</th>\n",
       "      <td>4.4</td>\n",
       "      <td>3.0</td>\n",
       "      <td>1.3</td>\n",
       "      <td>0.2</td>\n",
       "      <td>Iris-setosa</td>\n",
       "      <td>2.225</td>\n",
       "    </tr>\n",
       "    <tr>\n",
       "      <th>42</th>\n",
       "      <td>4.4</td>\n",
       "      <td>3.2</td>\n",
       "      <td>1.3</td>\n",
       "      <td>0.2</td>\n",
       "      <td>Iris-setosa</td>\n",
       "      <td>2.275</td>\n",
       "    </tr>\n",
       "  </tbody>\n",
       "</table>\n",
       "</div>"
      ],
      "text/plain": [
       "    SepalLengthCm  SepalWidthCm  PetalLengthCm  PetalWidthCm      Species  \\\n",
       "41            4.5           2.3            1.3           0.3  Iris-setosa   \n",
       "13            4.3           3.0            1.1           0.1  Iris-setosa   \n",
       "8             4.4           2.9            1.4           0.2  Iris-setosa   \n",
       "38            4.4           3.0            1.3           0.2  Iris-setosa   \n",
       "42            4.4           3.2            1.3           0.2  Iris-setosa   \n",
       "\n",
       "     mean  \n",
       "41  2.100  \n",
       "13  2.125  \n",
       "8   2.225  \n",
       "38  2.225  \n",
       "42  2.275  "
      ]
     },
     "execution_count": 372,
     "metadata": {},
     "output_type": "execute_result"
    }
   ],
   "source": [
    "train_set[train_set['Species'] == 'Iris-setosa'].sort_values(by = 'mean').head()"
   ]
  },
  {
   "cell_type": "code",
   "execution_count": 373,
   "id": "194b4128",
   "metadata": {},
   "outputs": [
    {
     "data": {
      "text/html": [
       "<div>\n",
       "<style scoped>\n",
       "    .dataframe tbody tr th:only-of-type {\n",
       "        vertical-align: middle;\n",
       "    }\n",
       "\n",
       "    .dataframe tbody tr th {\n",
       "        vertical-align: top;\n",
       "    }\n",
       "\n",
       "    .dataframe thead th {\n",
       "        text-align: right;\n",
       "    }\n",
       "</style>\n",
       "<table border=\"1\" class=\"dataframe\">\n",
       "  <thead>\n",
       "    <tr style=\"text-align: right;\">\n",
       "      <th></th>\n",
       "      <th>SepalLengthCm</th>\n",
       "      <th>SepalWidthCm</th>\n",
       "      <th>PetalLengthCm</th>\n",
       "      <th>PetalWidthCm</th>\n",
       "      <th>Species</th>\n",
       "      <th>mean</th>\n",
       "    </tr>\n",
       "  </thead>\n",
       "  <tbody>\n",
       "    <tr>\n",
       "      <th>60</th>\n",
       "      <td>5.0</td>\n",
       "      <td>2.0</td>\n",
       "      <td>3.5</td>\n",
       "      <td>1.0</td>\n",
       "      <td>Iris-versicolor</td>\n",
       "      <td>2.875</td>\n",
       "    </tr>\n",
       "    <tr>\n",
       "      <th>93</th>\n",
       "      <td>5.0</td>\n",
       "      <td>2.3</td>\n",
       "      <td>3.3</td>\n",
       "      <td>1.0</td>\n",
       "      <td>Iris-versicolor</td>\n",
       "      <td>2.900</td>\n",
       "    </tr>\n",
       "    <tr>\n",
       "      <th>57</th>\n",
       "      <td>4.9</td>\n",
       "      <td>2.4</td>\n",
       "      <td>3.3</td>\n",
       "      <td>1.0</td>\n",
       "      <td>Iris-versicolor</td>\n",
       "      <td>2.900</td>\n",
       "    </tr>\n",
       "    <tr>\n",
       "      <th>81</th>\n",
       "      <td>5.5</td>\n",
       "      <td>2.4</td>\n",
       "      <td>3.7</td>\n",
       "      <td>1.0</td>\n",
       "      <td>Iris-versicolor</td>\n",
       "      <td>3.150</td>\n",
       "    </tr>\n",
       "    <tr>\n",
       "      <th>80</th>\n",
       "      <td>5.5</td>\n",
       "      <td>2.4</td>\n",
       "      <td>3.8</td>\n",
       "      <td>1.1</td>\n",
       "      <td>Iris-versicolor</td>\n",
       "      <td>3.200</td>\n",
       "    </tr>\n",
       "  </tbody>\n",
       "</table>\n",
       "</div>"
      ],
      "text/plain": [
       "    SepalLengthCm  SepalWidthCm  PetalLengthCm  PetalWidthCm          Species  \\\n",
       "60            5.0           2.0            3.5           1.0  Iris-versicolor   \n",
       "93            5.0           2.3            3.3           1.0  Iris-versicolor   \n",
       "57            4.9           2.4            3.3           1.0  Iris-versicolor   \n",
       "81            5.5           2.4            3.7           1.0  Iris-versicolor   \n",
       "80            5.5           2.4            3.8           1.1  Iris-versicolor   \n",
       "\n",
       "     mean  \n",
       "60  2.875  \n",
       "93  2.900  \n",
       "57  2.900  \n",
       "81  3.150  \n",
       "80  3.200  "
      ]
     },
     "execution_count": 373,
     "metadata": {},
     "output_type": "execute_result"
    }
   ],
   "source": [
    "train_set[train_set['Species'] == 'Iris-versicolor'].sort_values(by = 'mean').head()"
   ]
  },
  {
   "cell_type": "code",
   "execution_count": 374,
   "id": "9ccb91b5",
   "metadata": {},
   "outputs": [
    {
     "data": {
      "text/html": [
       "<div>\n",
       "<style scoped>\n",
       "    .dataframe tbody tr th:only-of-type {\n",
       "        vertical-align: middle;\n",
       "    }\n",
       "\n",
       "    .dataframe tbody tr th {\n",
       "        vertical-align: top;\n",
       "    }\n",
       "\n",
       "    .dataframe thead th {\n",
       "        text-align: right;\n",
       "    }\n",
       "</style>\n",
       "<table border=\"1\" class=\"dataframe\">\n",
       "  <thead>\n",
       "    <tr style=\"text-align: right;\">\n",
       "      <th></th>\n",
       "      <th>SepalLengthCm</th>\n",
       "      <th>SepalWidthCm</th>\n",
       "      <th>PetalLengthCm</th>\n",
       "      <th>PetalWidthCm</th>\n",
       "      <th>Species</th>\n",
       "      <th>mean</th>\n",
       "    </tr>\n",
       "  </thead>\n",
       "  <tbody>\n",
       "    <tr>\n",
       "      <th>106</th>\n",
       "      <td>4.9</td>\n",
       "      <td>2.5</td>\n",
       "      <td>4.5</td>\n",
       "      <td>1.7</td>\n",
       "      <td>Iris-virginica</td>\n",
       "      <td>3.400</td>\n",
       "    </tr>\n",
       "    <tr>\n",
       "      <th>119</th>\n",
       "      <td>6.0</td>\n",
       "      <td>2.2</td>\n",
       "      <td>5.0</td>\n",
       "      <td>1.5</td>\n",
       "      <td>Iris-virginica</td>\n",
       "      <td>3.675</td>\n",
       "    </tr>\n",
       "    <tr>\n",
       "      <th>113</th>\n",
       "      <td>5.7</td>\n",
       "      <td>2.5</td>\n",
       "      <td>5.0</td>\n",
       "      <td>2.0</td>\n",
       "      <td>Iris-virginica</td>\n",
       "      <td>3.800</td>\n",
       "    </tr>\n",
       "    <tr>\n",
       "      <th>101</th>\n",
       "      <td>5.8</td>\n",
       "      <td>2.7</td>\n",
       "      <td>5.1</td>\n",
       "      <td>1.9</td>\n",
       "      <td>Iris-virginica</td>\n",
       "      <td>3.875</td>\n",
       "    </tr>\n",
       "    <tr>\n",
       "      <th>142</th>\n",
       "      <td>5.8</td>\n",
       "      <td>2.7</td>\n",
       "      <td>5.1</td>\n",
       "      <td>1.9</td>\n",
       "      <td>Iris-virginica</td>\n",
       "      <td>3.875</td>\n",
       "    </tr>\n",
       "  </tbody>\n",
       "</table>\n",
       "</div>"
      ],
      "text/plain": [
       "     SepalLengthCm  SepalWidthCm  PetalLengthCm  PetalWidthCm         Species  \\\n",
       "106            4.9           2.5            4.5           1.7  Iris-virginica   \n",
       "119            6.0           2.2            5.0           1.5  Iris-virginica   \n",
       "113            5.7           2.5            5.0           2.0  Iris-virginica   \n",
       "101            5.8           2.7            5.1           1.9  Iris-virginica   \n",
       "142            5.8           2.7            5.1           1.9  Iris-virginica   \n",
       "\n",
       "      mean  \n",
       "106  3.400  \n",
       "119  3.675  \n",
       "113  3.800  \n",
       "101  3.875  \n",
       "142  3.875  "
      ]
     },
     "execution_count": 374,
     "metadata": {},
     "output_type": "execute_result"
    }
   ],
   "source": [
    "train_set[train_set['Species'] == 'Iris-virginica'].sort_values(by = 'mean').head()"
   ]
  },
  {
   "cell_type": "markdown",
   "id": "ea53f229",
   "metadata": {},
   "source": [
    "#### After do this we can see each class of iris has a min and max. The problem is that there are intersections between the means and we have to try another way to evaluate. "
   ]
  },
  {
   "cell_type": "markdown",
   "id": "165c1263",
   "metadata": {},
   "source": [
    "- Let's try to do the mean of sepal and the pedal..."
   ]
  },
  {
   "cell_type": "code",
   "execution_count": 375,
   "id": "1da536b3",
   "metadata": {},
   "outputs": [],
   "source": [
    "train_set['sepal_mean'] = train_set.iloc[:,:2].mean(axis = 1)\n",
    "train_set['petal_mean'] = train_set.iloc[:,2:4].mean(axis = 1)"
   ]
  },
  {
   "cell_type": "code",
   "execution_count": 376,
   "id": "a9f057d4",
   "metadata": {},
   "outputs": [
    {
     "data": {
      "text/html": [
       "<div>\n",
       "<style scoped>\n",
       "    .dataframe tbody tr th:only-of-type {\n",
       "        vertical-align: middle;\n",
       "    }\n",
       "\n",
       "    .dataframe tbody tr th {\n",
       "        vertical-align: top;\n",
       "    }\n",
       "\n",
       "    .dataframe thead th {\n",
       "        text-align: right;\n",
       "    }\n",
       "</style>\n",
       "<table border=\"1\" class=\"dataframe\">\n",
       "  <thead>\n",
       "    <tr style=\"text-align: right;\">\n",
       "      <th></th>\n",
       "      <th>SepalLengthCm</th>\n",
       "      <th>SepalWidthCm</th>\n",
       "      <th>PetalLengthCm</th>\n",
       "      <th>PetalWidthCm</th>\n",
       "      <th>Species</th>\n",
       "      <th>mean</th>\n",
       "      <th>sepal_mean</th>\n",
       "      <th>petal_mean</th>\n",
       "    </tr>\n",
       "  </thead>\n",
       "  <tbody>\n",
       "    <tr>\n",
       "      <th>50</th>\n",
       "      <td>7.0</td>\n",
       "      <td>3.2</td>\n",
       "      <td>4.7</td>\n",
       "      <td>1.4</td>\n",
       "      <td>Iris-versicolor</td>\n",
       "      <td>4.075</td>\n",
       "      <td>5.10</td>\n",
       "      <td>3.05</td>\n",
       "    </tr>\n",
       "    <tr>\n",
       "      <th>145</th>\n",
       "      <td>6.7</td>\n",
       "      <td>3.0</td>\n",
       "      <td>5.2</td>\n",
       "      <td>2.3</td>\n",
       "      <td>Iris-virginica</td>\n",
       "      <td>4.300</td>\n",
       "      <td>4.85</td>\n",
       "      <td>3.75</td>\n",
       "    </tr>\n",
       "    <tr>\n",
       "      <th>86</th>\n",
       "      <td>6.7</td>\n",
       "      <td>3.1</td>\n",
       "      <td>4.7</td>\n",
       "      <td>1.5</td>\n",
       "      <td>Iris-versicolor</td>\n",
       "      <td>4.000</td>\n",
       "      <td>4.90</td>\n",
       "      <td>3.10</td>\n",
       "    </tr>\n",
       "    <tr>\n",
       "      <th>118</th>\n",
       "      <td>7.7</td>\n",
       "      <td>2.6</td>\n",
       "      <td>6.9</td>\n",
       "      <td>2.3</td>\n",
       "      <td>Iris-virginica</td>\n",
       "      <td>4.875</td>\n",
       "      <td>5.15</td>\n",
       "      <td>4.60</td>\n",
       "    </tr>\n",
       "    <tr>\n",
       "      <th>122</th>\n",
       "      <td>7.7</td>\n",
       "      <td>2.8</td>\n",
       "      <td>6.7</td>\n",
       "      <td>2.0</td>\n",
       "      <td>Iris-virginica</td>\n",
       "      <td>4.800</td>\n",
       "      <td>5.25</td>\n",
       "      <td>4.35</td>\n",
       "    </tr>\n",
       "  </tbody>\n",
       "</table>\n",
       "</div>"
      ],
      "text/plain": [
       "     SepalLengthCm  SepalWidthCm  PetalLengthCm  PetalWidthCm  \\\n",
       "50             7.0           3.2            4.7           1.4   \n",
       "145            6.7           3.0            5.2           2.3   \n",
       "86             6.7           3.1            4.7           1.5   \n",
       "118            7.7           2.6            6.9           2.3   \n",
       "122            7.7           2.8            6.7           2.0   \n",
       "\n",
       "             Species   mean  sepal_mean  petal_mean  \n",
       "50   Iris-versicolor  4.075        5.10        3.05  \n",
       "145   Iris-virginica  4.300        4.85        3.75  \n",
       "86   Iris-versicolor  4.000        4.90        3.10  \n",
       "118   Iris-virginica  4.875        5.15        4.60  \n",
       "122   Iris-virginica  4.800        5.25        4.35  "
      ]
     },
     "execution_count": 376,
     "metadata": {},
     "output_type": "execute_result"
    }
   ],
   "source": [
    "train_set.head()"
   ]
  },
  {
   "cell_type": "code",
   "execution_count": 377,
   "id": "db4dd780",
   "metadata": {},
   "outputs": [
    {
     "data": {
      "text/html": [
       "<div>\n",
       "<style scoped>\n",
       "    .dataframe tbody tr th:only-of-type {\n",
       "        vertical-align: middle;\n",
       "    }\n",
       "\n",
       "    .dataframe tbody tr th {\n",
       "        vertical-align: top;\n",
       "    }\n",
       "\n",
       "    .dataframe thead th {\n",
       "        text-align: right;\n",
       "    }\n",
       "</style>\n",
       "<table border=\"1\" class=\"dataframe\">\n",
       "  <thead>\n",
       "    <tr style=\"text-align: right;\">\n",
       "      <th></th>\n",
       "      <th>SepalLengthCm</th>\n",
       "      <th>SepalWidthCm</th>\n",
       "      <th>PetalLengthCm</th>\n",
       "      <th>PetalWidthCm</th>\n",
       "      <th>Species</th>\n",
       "      <th>mean</th>\n",
       "      <th>sepal_mean</th>\n",
       "      <th>petal_mean</th>\n",
       "    </tr>\n",
       "  </thead>\n",
       "  <tbody>\n",
       "    <tr>\n",
       "      <th>41</th>\n",
       "      <td>4.5</td>\n",
       "      <td>2.3</td>\n",
       "      <td>1.3</td>\n",
       "      <td>0.3</td>\n",
       "      <td>Iris-setosa</td>\n",
       "      <td>2.100</td>\n",
       "      <td>3.40</td>\n",
       "      <td>0.80</td>\n",
       "    </tr>\n",
       "    <tr>\n",
       "      <th>13</th>\n",
       "      <td>4.3</td>\n",
       "      <td>3.0</td>\n",
       "      <td>1.1</td>\n",
       "      <td>0.1</td>\n",
       "      <td>Iris-setosa</td>\n",
       "      <td>2.125</td>\n",
       "      <td>3.65</td>\n",
       "      <td>0.60</td>\n",
       "    </tr>\n",
       "    <tr>\n",
       "      <th>8</th>\n",
       "      <td>4.4</td>\n",
       "      <td>2.9</td>\n",
       "      <td>1.4</td>\n",
       "      <td>0.2</td>\n",
       "      <td>Iris-setosa</td>\n",
       "      <td>2.225</td>\n",
       "      <td>3.65</td>\n",
       "      <td>0.80</td>\n",
       "    </tr>\n",
       "    <tr>\n",
       "      <th>38</th>\n",
       "      <td>4.4</td>\n",
       "      <td>3.0</td>\n",
       "      <td>1.3</td>\n",
       "      <td>0.2</td>\n",
       "      <td>Iris-setosa</td>\n",
       "      <td>2.225</td>\n",
       "      <td>3.70</td>\n",
       "      <td>0.75</td>\n",
       "    </tr>\n",
       "    <tr>\n",
       "      <th>42</th>\n",
       "      <td>4.4</td>\n",
       "      <td>3.2</td>\n",
       "      <td>1.3</td>\n",
       "      <td>0.2</td>\n",
       "      <td>Iris-setosa</td>\n",
       "      <td>2.275</td>\n",
       "      <td>3.80</td>\n",
       "      <td>0.75</td>\n",
       "    </tr>\n",
       "  </tbody>\n",
       "</table>\n",
       "</div>"
      ],
      "text/plain": [
       "    SepalLengthCm  SepalWidthCm  PetalLengthCm  PetalWidthCm      Species  \\\n",
       "41            4.5           2.3            1.3           0.3  Iris-setosa   \n",
       "13            4.3           3.0            1.1           0.1  Iris-setosa   \n",
       "8             4.4           2.9            1.4           0.2  Iris-setosa   \n",
       "38            4.4           3.0            1.3           0.2  Iris-setosa   \n",
       "42            4.4           3.2            1.3           0.2  Iris-setosa   \n",
       "\n",
       "     mean  sepal_mean  petal_mean  \n",
       "41  2.100        3.40        0.80  \n",
       "13  2.125        3.65        0.60  \n",
       "8   2.225        3.65        0.80  \n",
       "38  2.225        3.70        0.75  \n",
       "42  2.275        3.80        0.75  "
      ]
     },
     "execution_count": 377,
     "metadata": {},
     "output_type": "execute_result"
    }
   ],
   "source": [
    "train_set[train_set['Species'] == 'Iris-setosa'].sort_values(by = ['sepal_mean','petal_mean']).head()"
   ]
  },
  {
   "cell_type": "code",
   "execution_count": 378,
   "id": "6df72dcf",
   "metadata": {},
   "outputs": [
    {
     "data": {
      "text/html": [
       "<div>\n",
       "<style scoped>\n",
       "    .dataframe tbody tr th:only-of-type {\n",
       "        vertical-align: middle;\n",
       "    }\n",
       "\n",
       "    .dataframe tbody tr th {\n",
       "        vertical-align: top;\n",
       "    }\n",
       "\n",
       "    .dataframe thead th {\n",
       "        text-align: right;\n",
       "    }\n",
       "</style>\n",
       "<table border=\"1\" class=\"dataframe\">\n",
       "  <thead>\n",
       "    <tr style=\"text-align: right;\">\n",
       "      <th></th>\n",
       "      <th>SepalLengthCm</th>\n",
       "      <th>SepalWidthCm</th>\n",
       "      <th>PetalLengthCm</th>\n",
       "      <th>PetalWidthCm</th>\n",
       "      <th>Species</th>\n",
       "      <th>mean</th>\n",
       "      <th>sepal_mean</th>\n",
       "      <th>petal_mean</th>\n",
       "    </tr>\n",
       "  </thead>\n",
       "  <tbody>\n",
       "    <tr>\n",
       "      <th>60</th>\n",
       "      <td>5.0</td>\n",
       "      <td>2.0</td>\n",
       "      <td>3.5</td>\n",
       "      <td>1.0</td>\n",
       "      <td>Iris-versicolor</td>\n",
       "      <td>2.875</td>\n",
       "      <td>3.50</td>\n",
       "      <td>2.25</td>\n",
       "    </tr>\n",
       "    <tr>\n",
       "      <th>93</th>\n",
       "      <td>5.0</td>\n",
       "      <td>2.3</td>\n",
       "      <td>3.3</td>\n",
       "      <td>1.0</td>\n",
       "      <td>Iris-versicolor</td>\n",
       "      <td>2.900</td>\n",
       "      <td>3.65</td>\n",
       "      <td>2.15</td>\n",
       "    </tr>\n",
       "    <tr>\n",
       "      <th>57</th>\n",
       "      <td>4.9</td>\n",
       "      <td>2.4</td>\n",
       "      <td>3.3</td>\n",
       "      <td>1.0</td>\n",
       "      <td>Iris-versicolor</td>\n",
       "      <td>2.900</td>\n",
       "      <td>3.65</td>\n",
       "      <td>2.15</td>\n",
       "    </tr>\n",
       "    <tr>\n",
       "      <th>53</th>\n",
       "      <td>5.5</td>\n",
       "      <td>2.3</td>\n",
       "      <td>4.0</td>\n",
       "      <td>1.3</td>\n",
       "      <td>Iris-versicolor</td>\n",
       "      <td>3.275</td>\n",
       "      <td>3.90</td>\n",
       "      <td>2.65</td>\n",
       "    </tr>\n",
       "    <tr>\n",
       "      <th>81</th>\n",
       "      <td>5.5</td>\n",
       "      <td>2.4</td>\n",
       "      <td>3.7</td>\n",
       "      <td>1.0</td>\n",
       "      <td>Iris-versicolor</td>\n",
       "      <td>3.150</td>\n",
       "      <td>3.95</td>\n",
       "      <td>2.35</td>\n",
       "    </tr>\n",
       "  </tbody>\n",
       "</table>\n",
       "</div>"
      ],
      "text/plain": [
       "    SepalLengthCm  SepalWidthCm  PetalLengthCm  PetalWidthCm          Species  \\\n",
       "60            5.0           2.0            3.5           1.0  Iris-versicolor   \n",
       "93            5.0           2.3            3.3           1.0  Iris-versicolor   \n",
       "57            4.9           2.4            3.3           1.0  Iris-versicolor   \n",
       "53            5.5           2.3            4.0           1.3  Iris-versicolor   \n",
       "81            5.5           2.4            3.7           1.0  Iris-versicolor   \n",
       "\n",
       "     mean  sepal_mean  petal_mean  \n",
       "60  2.875        3.50        2.25  \n",
       "93  2.900        3.65        2.15  \n",
       "57  2.900        3.65        2.15  \n",
       "53  3.275        3.90        2.65  \n",
       "81  3.150        3.95        2.35  "
      ]
     },
     "execution_count": 378,
     "metadata": {},
     "output_type": "execute_result"
    }
   ],
   "source": [
    "train_set[train_set['Species'] == 'Iris-versicolor'].sort_values(by = ['sepal_mean','petal_mean']).head()"
   ]
  },
  {
   "cell_type": "code",
   "execution_count": 379,
   "id": "af25ec11",
   "metadata": {},
   "outputs": [
    {
     "data": {
      "text/html": [
       "<div>\n",
       "<style scoped>\n",
       "    .dataframe tbody tr th:only-of-type {\n",
       "        vertical-align: middle;\n",
       "    }\n",
       "\n",
       "    .dataframe tbody tr th {\n",
       "        vertical-align: top;\n",
       "    }\n",
       "\n",
       "    .dataframe thead th {\n",
       "        text-align: right;\n",
       "    }\n",
       "</style>\n",
       "<table border=\"1\" class=\"dataframe\">\n",
       "  <thead>\n",
       "    <tr style=\"text-align: right;\">\n",
       "      <th></th>\n",
       "      <th>SepalLengthCm</th>\n",
       "      <th>SepalWidthCm</th>\n",
       "      <th>PetalLengthCm</th>\n",
       "      <th>PetalWidthCm</th>\n",
       "      <th>Species</th>\n",
       "      <th>mean</th>\n",
       "      <th>sepal_mean</th>\n",
       "      <th>petal_mean</th>\n",
       "    </tr>\n",
       "  </thead>\n",
       "  <tbody>\n",
       "    <tr>\n",
       "      <th>106</th>\n",
       "      <td>4.9</td>\n",
       "      <td>2.5</td>\n",
       "      <td>4.5</td>\n",
       "      <td>1.7</td>\n",
       "      <td>Iris-virginica</td>\n",
       "      <td>3.400</td>\n",
       "      <td>3.70</td>\n",
       "      <td>3.10</td>\n",
       "    </tr>\n",
       "    <tr>\n",
       "      <th>119</th>\n",
       "      <td>6.0</td>\n",
       "      <td>2.2</td>\n",
       "      <td>5.0</td>\n",
       "      <td>1.5</td>\n",
       "      <td>Iris-virginica</td>\n",
       "      <td>3.675</td>\n",
       "      <td>4.10</td>\n",
       "      <td>3.25</td>\n",
       "    </tr>\n",
       "    <tr>\n",
       "      <th>113</th>\n",
       "      <td>5.7</td>\n",
       "      <td>2.5</td>\n",
       "      <td>5.0</td>\n",
       "      <td>2.0</td>\n",
       "      <td>Iris-virginica</td>\n",
       "      <td>3.800</td>\n",
       "      <td>4.10</td>\n",
       "      <td>3.50</td>\n",
       "    </tr>\n",
       "    <tr>\n",
       "      <th>142</th>\n",
       "      <td>5.8</td>\n",
       "      <td>2.7</td>\n",
       "      <td>5.1</td>\n",
       "      <td>1.9</td>\n",
       "      <td>Iris-virginica</td>\n",
       "      <td>3.875</td>\n",
       "      <td>4.25</td>\n",
       "      <td>3.50</td>\n",
       "    </tr>\n",
       "    <tr>\n",
       "      <th>101</th>\n",
       "      <td>5.8</td>\n",
       "      <td>2.7</td>\n",
       "      <td>5.1</td>\n",
       "      <td>1.9</td>\n",
       "      <td>Iris-virginica</td>\n",
       "      <td>3.875</td>\n",
       "      <td>4.25</td>\n",
       "      <td>3.50</td>\n",
       "    </tr>\n",
       "  </tbody>\n",
       "</table>\n",
       "</div>"
      ],
      "text/plain": [
       "     SepalLengthCm  SepalWidthCm  PetalLengthCm  PetalWidthCm         Species  \\\n",
       "106            4.9           2.5            4.5           1.7  Iris-virginica   \n",
       "119            6.0           2.2            5.0           1.5  Iris-virginica   \n",
       "113            5.7           2.5            5.0           2.0  Iris-virginica   \n",
       "142            5.8           2.7            5.1           1.9  Iris-virginica   \n",
       "101            5.8           2.7            5.1           1.9  Iris-virginica   \n",
       "\n",
       "      mean  sepal_mean  petal_mean  \n",
       "106  3.400        3.70        3.10  \n",
       "119  3.675        4.10        3.25  \n",
       "113  3.800        4.10        3.50  \n",
       "142  3.875        4.25        3.50  \n",
       "101  3.875        4.25        3.50  "
      ]
     },
     "execution_count": 379,
     "metadata": {},
     "output_type": "execute_result"
    }
   ],
   "source": [
    "train_set[train_set['Species'] == 'Iris-virginica'].sort_values(by = ['sepal_mean','petal_mean']).head()"
   ]
  },
  {
   "cell_type": "markdown",
   "id": "a140d2d5",
   "metadata": {},
   "source": [
    "### Above we can see that there is a pattern and it's the petal mean. Let's use this information to do our algorithm!"
   ]
  },
  {
   "cell_type": "code",
   "execution_count": 380,
   "id": "e1d74652",
   "metadata": {},
   "outputs": [
    {
     "name": "stdout",
     "output_type": "stream",
     "text": [
      "The setosa shape is (40, 8)\n"
     ]
    }
   ],
   "source": [
    "setosa = train_set[train_set['Species'] == 'Iris-setosa'].sort_values(by = ['petal_mean'])\n",
    "print('The setosa shape is {}'.format(train_set[train_set['Species'] == 'Iris-setosa'].sort_values(by = ['petal_mean']).shape))"
   ]
  },
  {
   "cell_type": "code",
   "execution_count": 381,
   "id": "a034e7f5",
   "metadata": {},
   "outputs": [
    {
     "name": "stdout",
     "output_type": "stream",
     "text": [
      "The versicolor shape is (40, 8)\n"
     ]
    }
   ],
   "source": [
    "versicolor = train_set[train_set['Species'] == 'Iris-versicolor'].sort_values(by = ['petal_mean'])\n",
    "print('The versicolor shape is {}'.format(train_set[train_set['Species'] == 'Iris-versicolor'].sort_values(by = ['petal_mean']).shape))"
   ]
  },
  {
   "cell_type": "code",
   "execution_count": 382,
   "id": "6a73eaae",
   "metadata": {},
   "outputs": [
    {
     "name": "stdout",
     "output_type": "stream",
     "text": [
      "The virginica shape is (40, 8)\n"
     ]
    }
   ],
   "source": [
    "virginica = train_set[train_set['Species'] == 'Iris-virginica'].sort_values(by = ['petal_mean'])\n",
    "print('The virginica shape is {}'.format(train_set[train_set['Species'] == 'Iris-virginica'].sort_values(by = ['petal_mean']).shape))"
   ]
  },
  {
   "cell_type": "markdown",
   "id": "99f6464f",
   "metadata": {},
   "source": [
    "#### Creating new id columns to help the plot."
   ]
  },
  {
   "cell_type": "code",
   "execution_count": 383,
   "id": "9ad344f8",
   "metadata": {},
   "outputs": [
    {
     "name": "stdout",
     "output_type": "stream",
     "text": [
      "The min of setosa is:  0.6\n",
      "The max of setosa is:  1.1\n"
     ]
    },
    {
     "data": {
      "image/png": "[encoded data removed]",
      "text/plain": [
       "<Figure size 432x288 with 1 Axes>"
      ]
     },
     "metadata": {
      "needs_background": "light"
     },
     "output_type": "display_data"
    }
   ],
   "source": [
    "setosa['id'] = np.arange(0,40)\n",
    "setosa.iloc[:,7:]\n",
    "\n",
    "print('The min of setosa is: ',setosa['petal_mean'].min())\n",
    "print('The max of setosa is: ',setosa['petal_mean'].max())\n",
    "plt.plot(setosa['id'], setosa['petal_mean']);"
   ]
  },
  {
   "cell_type": "code",
   "execution_count": 384,
   "id": "64d2339f",
   "metadata": {},
   "outputs": [
    {
     "name": "stdout",
     "output_type": "stream",
     "text": [
      "The min of versicolor is:  2.15\n",
      "The max of versicolor is:  3.35\n"
     ]
    },
    {
     "data": {
      "image/png": "[encoded data removed]",
      "text/plain": [
       "<Figure size 432x288 with 1 Axes>"
      ]
     },
     "metadata": {
      "needs_background": "light"
     },
     "output_type": "display_data"
    }
   ],
   "source": [
    "versicolor['id'] = np.arange(0,40)\n",
    "versicolor.iloc[:,7:]\n",
    "\n",
    "print('The min of versicolor is: ',versicolor['petal_mean'].min())\n",
    "print('The max of versicolor is: ',versicolor['petal_mean'].max())\n",
    "plt.plot(versicolor['id'], versicolor['petal_mean']);"
   ]
  },
  {
   "cell_type": "code",
   "execution_count": 385,
   "id": "1050858e",
   "metadata": {},
   "outputs": [
    {
     "name": "stdout",
     "output_type": "stream",
     "text": [
      "The min of virginica is:  3.1\n",
      "The max of virginica is:  4.6\n"
     ]
    },
    {
     "data": {
      "image/png": "[encoded data removed]",
      "text/plain": [
       "<Figure size 432x288 with 1 Axes>"
      ]
     },
     "metadata": {
      "needs_background": "light"
     },
     "output_type": "display_data"
    }
   ],
   "source": [
    "virginica['id'] = np.arange(0,40)\n",
    "virginica.iloc[:,7:]\n",
    "\n",
    "print('The min of virginica is: ',virginica['petal_mean'].min())\n",
    "print('The max of virginica is: ',virginica['petal_mean'].max())\n",
    "plt.plot(virginica['id'], virginica['petal_mean']);"
   ]
  },
  {
   "cell_type": "code",
   "execution_count": 386,
   "id": "24eff506",
   "metadata": {},
   "outputs": [
    {
     "data": {
      "text/plain": [
       "(0.6, 1.1)"
      ]
     },
     "execution_count": 386,
     "metadata": {},
     "output_type": "execute_result"
    }
   ],
   "source": [
    "setosa['petal_mean'].min(), setosa['petal_mean'].max()"
   ]
  },
  {
   "cell_type": "code",
   "execution_count": 387,
   "id": "cfb97521",
   "metadata": {},
   "outputs": [
    {
     "data": {
      "text/plain": [
       "(2.15, 3.35)"
      ]
     },
     "execution_count": 387,
     "metadata": {},
     "output_type": "execute_result"
    }
   ],
   "source": [
    "versicolor['petal_mean'].min(), versicolor['petal_mean'].max()"
   ]
  },
  {
   "cell_type": "code",
   "execution_count": 388,
   "id": "beff9ad8",
   "metadata": {},
   "outputs": [
    {
     "data": {
      "text/plain": [
       "(3.1, 4.6)"
      ]
     },
     "execution_count": 388,
     "metadata": {},
     "output_type": "execute_result"
    }
   ],
   "source": [
    "virginica['petal_mean'].min(), virginica['petal_mean'].max() "
   ]
  },
  {
   "cell_type": "markdown",
   "id": "f481f66d",
   "metadata": {},
   "source": [
    "### We can understand that there are three intervals and each of one has a min and max specific..."
   ]
  },
  {
   "cell_type": "code",
   "execution_count": 389,
   "id": "796fbeaa",
   "metadata": {},
   "outputs": [
    {
     "name": "stdout",
     "output_type": "stream",
     "text": [
      "If petal_mean is to y then we have an setosa\n"
     ]
    },
    {
     "data": {
      "text/plain": [
       "1.625"
      ]
     },
     "execution_count": 389,
     "metadata": {},
     "output_type": "execute_result"
    }
   ],
   "source": [
    "print('If petal_mean is to y then we have an setosa')\n",
    "setosa['petal_mean'].max() + abs((setosa['petal_mean'].max() - versicolor['petal_mean'].min()) / 2)"
   ]
  },
  {
   "cell_type": "code",
   "execution_count": 390,
   "id": "ac77d69c",
   "metadata": {},
   "outputs": [
    {
     "data": {
      "text/plain": [
       "(1.625, 3.35)"
      ]
     },
     "execution_count": 390,
     "metadata": {},
     "output_type": "execute_result"
    }
   ],
   "source": [
    "setosa['petal_mean'].max() + abs((setosa['petal_mean'].max() - versicolor['petal_mean'].min()) / 2), virginica['petal_mean'].min() + abs(versicolor['petal_mean'].max() -  virginica['petal_mean'].min() )"
   ]
  },
  {
   "cell_type": "code",
   "execution_count": 391,
   "id": "863a4ae2",
   "metadata": {},
   "outputs": [
    {
     "data": {
      "text/plain": [
       "3.35"
      ]
     },
     "execution_count": 391,
     "metadata": {},
     "output_type": "execute_result"
    }
   ],
   "source": [
    "virginica['petal_mean'].min() + abs(versicolor['petal_mean'].max() -  virginica['petal_mean'].min())"
   ]
  },
  {
   "cell_type": "markdown",
   "id": "97ac4017",
   "metadata": {},
   "source": [
    "### Making our algorithm that predicts the specie of iris"
   ]
  },
  {
   "cell_type": "code",
   "execution_count": 395,
   "id": "cc57d647",
   "metadata": {},
   "outputs": [],
   "source": [
    "def petal_mean(dataframe):\n",
    "    my_df = dataframe.copy()\n",
    "    my_df['petal_mean'] = my_df.iloc[:,2:4].mean(axis=1)\n",
    "    my_df['answer'] = pd.Series(dtype=str)\n",
    "    \n",
    "    my_df['answer'].loc[my_df['petal_mean'].between(0., 1.625)] = 'Iris-setosa'\n",
    "    my_df['answer'].loc[my_df['petal_mean'].between(1.625,  3.35)] = 'Iris-versicolor'\n",
    "    my_df['answer'].loc[my_df['petal_mean'].between( 3.35, 5)] = 'Iris-virginica'\n",
    "    \n",
    "    return my_df"
   ]
  },
  {
   "cell_type": "code",
   "execution_count": 396,
   "id": "4b4c7efb",
   "metadata": {},
   "outputs": [
    {
     "data": {
      "text/html": [
       "<div>\n",
       "<style scoped>\n",
       "    .dataframe tbody tr th:only-of-type {\n",
       "        vertical-align: middle;\n",
       "    }\n",
       "\n",
       "    .dataframe tbody tr th {\n",
       "        vertical-align: top;\n",
       "    }\n",
       "\n",
       "    .dataframe thead th {\n",
       "        text-align: right;\n",
       "    }\n",
       "</style>\n",
       "<table border=\"1\" class=\"dataframe\">\n",
       "  <thead>\n",
       "    <tr style=\"text-align: right;\">\n",
       "      <th></th>\n",
       "      <th>SepalLengthCm</th>\n",
       "      <th>SepalWidthCm</th>\n",
       "      <th>PetalLengthCm</th>\n",
       "      <th>PetalWidthCm</th>\n",
       "      <th>Species</th>\n",
       "      <th>petal_mean</th>\n",
       "      <th>answer</th>\n",
       "    </tr>\n",
       "  </thead>\n",
       "  <tbody>\n",
       "    <tr>\n",
       "      <th>18</th>\n",
       "      <td>5.7</td>\n",
       "      <td>3.8</td>\n",
       "      <td>1.7</td>\n",
       "      <td>0.3</td>\n",
       "      <td>Iris-setosa</td>\n",
       "      <td>1.00</td>\n",
       "      <td>Iris-setosa</td>\n",
       "    </tr>\n",
       "    <tr>\n",
       "      <th>82</th>\n",
       "      <td>5.8</td>\n",
       "      <td>2.7</td>\n",
       "      <td>3.9</td>\n",
       "      <td>1.2</td>\n",
       "      <td>Iris-versicolor</td>\n",
       "      <td>2.55</td>\n",
       "      <td>Iris-versicolor</td>\n",
       "    </tr>\n",
       "    <tr>\n",
       "      <th>88</th>\n",
       "      <td>5.6</td>\n",
       "      <td>3.0</td>\n",
       "      <td>4.1</td>\n",
       "      <td>1.3</td>\n",
       "      <td>Iris-versicolor</td>\n",
       "      <td>2.70</td>\n",
       "      <td>Iris-versicolor</td>\n",
       "    </tr>\n",
       "    <tr>\n",
       "      <th>19</th>\n",
       "      <td>5.1</td>\n",
       "      <td>3.8</td>\n",
       "      <td>1.5</td>\n",
       "      <td>0.3</td>\n",
       "      <td>Iris-setosa</td>\n",
       "      <td>0.90</td>\n",
       "      <td>Iris-setosa</td>\n",
       "    </tr>\n",
       "    <tr>\n",
       "      <th>103</th>\n",
       "      <td>6.3</td>\n",
       "      <td>2.9</td>\n",
       "      <td>5.6</td>\n",
       "      <td>1.8</td>\n",
       "      <td>Iris-virginica</td>\n",
       "      <td>3.70</td>\n",
       "      <td>Iris-virginica</td>\n",
       "    </tr>\n",
       "    <tr>\n",
       "      <th>78</th>\n",
       "      <td>6.0</td>\n",
       "      <td>2.9</td>\n",
       "      <td>4.5</td>\n",
       "      <td>1.5</td>\n",
       "      <td>Iris-versicolor</td>\n",
       "      <td>3.00</td>\n",
       "      <td>Iris-versicolor</td>\n",
       "    </tr>\n",
       "    <tr>\n",
       "      <th>74</th>\n",
       "      <td>6.4</td>\n",
       "      <td>2.9</td>\n",
       "      <td>4.3</td>\n",
       "      <td>1.3</td>\n",
       "      <td>Iris-versicolor</td>\n",
       "      <td>2.80</td>\n",
       "      <td>Iris-versicolor</td>\n",
       "    </tr>\n",
       "    <tr>\n",
       "      <th>143</th>\n",
       "      <td>6.8</td>\n",
       "      <td>3.2</td>\n",
       "      <td>5.9</td>\n",
       "      <td>2.3</td>\n",
       "      <td>Iris-virginica</td>\n",
       "      <td>4.10</td>\n",
       "      <td>Iris-virginica</td>\n",
       "    </tr>\n",
       "    <tr>\n",
       "      <th>129</th>\n",
       "      <td>7.2</td>\n",
       "      <td>3.0</td>\n",
       "      <td>5.8</td>\n",
       "      <td>1.6</td>\n",
       "      <td>Iris-virginica</td>\n",
       "      <td>3.70</td>\n",
       "      <td>Iris-virginica</td>\n",
       "    </tr>\n",
       "    <tr>\n",
       "      <th>117</th>\n",
       "      <td>7.7</td>\n",
       "      <td>3.8</td>\n",
       "      <td>6.7</td>\n",
       "      <td>2.2</td>\n",
       "      <td>Iris-virginica</td>\n",
       "      <td>4.45</td>\n",
       "      <td>Iris-virginica</td>\n",
       "    </tr>\n",
       "    <tr>\n",
       "      <th>24</th>\n",
       "      <td>4.8</td>\n",
       "      <td>3.4</td>\n",
       "      <td>1.9</td>\n",
       "      <td>0.2</td>\n",
       "      <td>Iris-setosa</td>\n",
       "      <td>1.05</td>\n",
       "      <td>Iris-setosa</td>\n",
       "    </tr>\n",
       "    <tr>\n",
       "      <th>67</th>\n",
       "      <td>5.8</td>\n",
       "      <td>2.7</td>\n",
       "      <td>4.1</td>\n",
       "      <td>1.0</td>\n",
       "      <td>Iris-versicolor</td>\n",
       "      <td>2.55</td>\n",
       "      <td>Iris-versicolor</td>\n",
       "    </tr>\n",
       "    <tr>\n",
       "      <th>25</th>\n",
       "      <td>5.0</td>\n",
       "      <td>3.0</td>\n",
       "      <td>1.6</td>\n",
       "      <td>0.2</td>\n",
       "      <td>Iris-setosa</td>\n",
       "      <td>0.90</td>\n",
       "      <td>Iris-setosa</td>\n",
       "    </tr>\n",
       "    <tr>\n",
       "      <th>95</th>\n",
       "      <td>5.7</td>\n",
       "      <td>3.0</td>\n",
       "      <td>4.2</td>\n",
       "      <td>1.2</td>\n",
       "      <td>Iris-versicolor</td>\n",
       "      <td>2.70</td>\n",
       "      <td>Iris-versicolor</td>\n",
       "    </tr>\n",
       "    <tr>\n",
       "      <th>21</th>\n",
       "      <td>5.1</td>\n",
       "      <td>3.7</td>\n",
       "      <td>1.5</td>\n",
       "      <td>0.4</td>\n",
       "      <td>Iris-setosa</td>\n",
       "      <td>0.95</td>\n",
       "      <td>Iris-setosa</td>\n",
       "    </tr>\n",
       "    <tr>\n",
       "      <th>30</th>\n",
       "      <td>4.8</td>\n",
       "      <td>3.1</td>\n",
       "      <td>1.6</td>\n",
       "      <td>0.2</td>\n",
       "      <td>Iris-setosa</td>\n",
       "      <td>0.90</td>\n",
       "      <td>Iris-setosa</td>\n",
       "    </tr>\n",
       "    <tr>\n",
       "      <th>121</th>\n",
       "      <td>5.6</td>\n",
       "      <td>2.8</td>\n",
       "      <td>4.9</td>\n",
       "      <td>2.0</td>\n",
       "      <td>Iris-virginica</td>\n",
       "      <td>3.45</td>\n",
       "      <td>Iris-virginica</td>\n",
       "    </tr>\n",
       "    <tr>\n",
       "      <th>83</th>\n",
       "      <td>6.0</td>\n",
       "      <td>2.7</td>\n",
       "      <td>5.1</td>\n",
       "      <td>1.6</td>\n",
       "      <td>Iris-versicolor</td>\n",
       "      <td>3.35</td>\n",
       "      <td>Iris-versicolor</td>\n",
       "    </tr>\n",
       "    <tr>\n",
       "      <th>124</th>\n",
       "      <td>6.7</td>\n",
       "      <td>3.3</td>\n",
       "      <td>5.7</td>\n",
       "      <td>2.1</td>\n",
       "      <td>Iris-virginica</td>\n",
       "      <td>3.90</td>\n",
       "      <td>Iris-virginica</td>\n",
       "    </tr>\n",
       "    <tr>\n",
       "      <th>105</th>\n",
       "      <td>7.6</td>\n",
       "      <td>3.0</td>\n",
       "      <td>6.6</td>\n",
       "      <td>2.1</td>\n",
       "      <td>Iris-virginica</td>\n",
       "      <td>4.35</td>\n",
       "      <td>Iris-virginica</td>\n",
       "    </tr>\n",
       "    <tr>\n",
       "      <th>1</th>\n",
       "      <td>4.9</td>\n",
       "      <td>3.0</td>\n",
       "      <td>1.4</td>\n",
       "      <td>0.2</td>\n",
       "      <td>Iris-setosa</td>\n",
       "      <td>0.80</td>\n",
       "      <td>Iris-setosa</td>\n",
       "    </tr>\n",
       "    <tr>\n",
       "      <th>31</th>\n",
       "      <td>5.4</td>\n",
       "      <td>3.4</td>\n",
       "      <td>1.5</td>\n",
       "      <td>0.4</td>\n",
       "      <td>Iris-setosa</td>\n",
       "      <td>0.95</td>\n",
       "      <td>Iris-setosa</td>\n",
       "    </tr>\n",
       "    <tr>\n",
       "      <th>91</th>\n",
       "      <td>6.1</td>\n",
       "      <td>3.0</td>\n",
       "      <td>4.6</td>\n",
       "      <td>1.4</td>\n",
       "      <td>Iris-versicolor</td>\n",
       "      <td>3.00</td>\n",
       "      <td>Iris-versicolor</td>\n",
       "    </tr>\n",
       "    <tr>\n",
       "      <th>64</th>\n",
       "      <td>5.6</td>\n",
       "      <td>2.9</td>\n",
       "      <td>3.6</td>\n",
       "      <td>1.3</td>\n",
       "      <td>Iris-versicolor</td>\n",
       "      <td>2.45</td>\n",
       "      <td>Iris-versicolor</td>\n",
       "    </tr>\n",
       "    <tr>\n",
       "      <th>134</th>\n",
       "      <td>6.1</td>\n",
       "      <td>2.6</td>\n",
       "      <td>5.6</td>\n",
       "      <td>1.4</td>\n",
       "      <td>Iris-virginica</td>\n",
       "      <td>3.50</td>\n",
       "      <td>Iris-virginica</td>\n",
       "    </tr>\n",
       "    <tr>\n",
       "      <th>37</th>\n",
       "      <td>4.9</td>\n",
       "      <td>3.1</td>\n",
       "      <td>1.5</td>\n",
       "      <td>0.1</td>\n",
       "      <td>Iris-setosa</td>\n",
       "      <td>0.80</td>\n",
       "      <td>Iris-setosa</td>\n",
       "    </tr>\n",
       "    <tr>\n",
       "      <th>137</th>\n",
       "      <td>6.4</td>\n",
       "      <td>3.1</td>\n",
       "      <td>5.5</td>\n",
       "      <td>1.8</td>\n",
       "      <td>Iris-virginica</td>\n",
       "      <td>3.65</td>\n",
       "      <td>Iris-virginica</td>\n",
       "    </tr>\n",
       "    <tr>\n",
       "      <th>44</th>\n",
       "      <td>5.1</td>\n",
       "      <td>3.8</td>\n",
       "      <td>1.9</td>\n",
       "      <td>0.4</td>\n",
       "      <td>Iris-setosa</td>\n",
       "      <td>1.15</td>\n",
       "      <td>Iris-setosa</td>\n",
       "    </tr>\n",
       "    <tr>\n",
       "      <th>98</th>\n",
       "      <td>5.1</td>\n",
       "      <td>2.5</td>\n",
       "      <td>3.0</td>\n",
       "      <td>1.1</td>\n",
       "      <td>Iris-versicolor</td>\n",
       "      <td>2.05</td>\n",
       "      <td>Iris-versicolor</td>\n",
       "    </tr>\n",
       "    <tr>\n",
       "      <th>133</th>\n",
       "      <td>6.3</td>\n",
       "      <td>2.8</td>\n",
       "      <td>5.1</td>\n",
       "      <td>1.5</td>\n",
       "      <td>Iris-virginica</td>\n",
       "      <td>3.30</td>\n",
       "      <td>Iris-versicolor</td>\n",
       "    </tr>\n",
       "  </tbody>\n",
       "</table>\n",
       "</div>"
      ],
      "text/plain": [
       "     SepalLengthCm  SepalWidthCm  PetalLengthCm  PetalWidthCm  \\\n",
       "18             5.7           3.8            1.7           0.3   \n",
       "82             5.8           2.7            3.9           1.2   \n",
       "88             5.6           3.0            4.1           1.3   \n",
       "19             5.1           3.8            1.5           0.3   \n",
       "103            6.3           2.9            5.6           1.8   \n",
       "78             6.0           2.9            4.5           1.5   \n",
       "74             6.4           2.9            4.3           1.3   \n",
       "143            6.8           3.2            5.9           2.3   \n",
       "129            7.2           3.0            5.8           1.6   \n",
       "117            7.7           3.8            6.7           2.2   \n",
       "24             4.8           3.4            1.9           0.2   \n",
       "67             5.8           2.7            4.1           1.0   \n",
       "25             5.0           3.0            1.6           0.2   \n",
       "95             5.7           3.0            4.2           1.2   \n",
       "21             5.1           3.7            1.5           0.4   \n",
       "30             4.8           3.1            1.6           0.2   \n",
       "121            5.6           2.8            4.9           2.0   \n",
       "83             6.0           2.7            5.1           1.6   \n",
       "124            6.7           3.3            5.7           2.1   \n",
       "105            7.6           3.0            6.6           2.1   \n",
       "1              4.9           3.0            1.4           0.2   \n",
       "31             5.4           3.4            1.5           0.4   \n",
       "91             6.1           3.0            4.6           1.4   \n",
       "64             5.6           2.9            3.6           1.3   \n",
       "134            6.1           2.6            5.6           1.4   \n",
       "37             4.9           3.1            1.5           0.1   \n",
       "137            6.4           3.1            5.5           1.8   \n",
       "44             5.1           3.8            1.9           0.4   \n",
       "98             5.1           2.5            3.0           1.1   \n",
       "133            6.3           2.8            5.1           1.5   \n",
       "\n",
       "             Species  petal_mean           answer  \n",
       "18       Iris-setosa        1.00      Iris-setosa  \n",
       "82   Iris-versicolor        2.55  Iris-versicolor  \n",
       "88   Iris-versicolor        2.70  Iris-versicolor  \n",
       "19       Iris-setosa        0.90      Iris-setosa  \n",
       "103   Iris-virginica        3.70   Iris-virginica  \n",
       "78   Iris-versicolor        3.00  Iris-versicolor  \n",
       "74   Iris-versicolor        2.80  Iris-versicolor  \n",
       "143   Iris-virginica        4.10   Iris-virginica  \n",
       "129   Iris-virginica        3.70   Iris-virginica  \n",
       "117   Iris-virginica        4.45   Iris-virginica  \n",
       "24       Iris-setosa        1.05      Iris-setosa  \n",
       "67   Iris-versicolor        2.55  Iris-versicolor  \n",
       "25       Iris-setosa        0.90      Iris-setosa  \n",
       "95   Iris-versicolor        2.70  Iris-versicolor  \n",
       "21       Iris-setosa        0.95      Iris-setosa  \n",
       "30       Iris-setosa        0.90      Iris-setosa  \n",
       "121   Iris-virginica        3.45   Iris-virginica  \n",
       "83   Iris-versicolor        3.35  Iris-versicolor  \n",
       "124   Iris-virginica        3.90   Iris-virginica  \n",
       "105   Iris-virginica        4.35   Iris-virginica  \n",
       "1        Iris-setosa        0.80      Iris-setosa  \n",
       "31       Iris-setosa        0.95      Iris-setosa  \n",
       "91   Iris-versicolor        3.00  Iris-versicolor  \n",
       "64   Iris-versicolor        2.45  Iris-versicolor  \n",
       "134   Iris-virginica        3.50   Iris-virginica  \n",
       "37       Iris-setosa        0.80      Iris-setosa  \n",
       "137   Iris-virginica        3.65   Iris-virginica  \n",
       "44       Iris-setosa        1.15      Iris-setosa  \n",
       "98   Iris-versicolor        2.05  Iris-versicolor  \n",
       "133   Iris-virginica        3.30  Iris-versicolor  "
      ]
     },
     "execution_count": 396,
     "metadata": {},
     "output_type": "execute_result"
    }
   ],
   "source": [
    "answer = petal_mean(test_set)\n",
    "answer"
   ]
  },
  {
   "cell_type": "code",
   "execution_count": 397,
   "id": "43e36736",
   "metadata": {},
   "outputs": [
    {
     "data": {
      "text/plain": [
       "(30, 7)"
      ]
     },
     "execution_count": 397,
     "metadata": {},
     "output_type": "execute_result"
    }
   ],
   "source": [
    "answer.shape"
   ]
  },
  {
   "cell_type": "code",
   "execution_count": 398,
   "id": "46786604",
   "metadata": {},
   "outputs": [
    {
     "data": {
      "text/plain": [
       "0.9666666666666667"
      ]
     },
     "execution_count": 398,
     "metadata": {},
     "output_type": "execute_result"
    }
   ],
   "source": [
    "acurracy = (answer['Species'] == answer['answer']).value_counts().tolist()\n",
    "acurracy = acurracy[0] / (acurracy[0] + acurracy[1])\n",
    "acurracy"
   ]
  },
  {
   "cell_type": "code",
   "execution_count": 405,
   "id": "fcf2e016",
   "metadata": {},
   "outputs": [
    {
     "name": "stdout",
     "output_type": "stream",
     "text": [
      "The acurracy of our model is 96.67%\n"
     ]
    }
   ],
   "source": [
    "print(f'The acurracy of our model is {round(acurracy*100, 2)}%')"
   ]
  }
 ],
 "metadata": {
  "kernelspec": {
   "display_name": "Python 3",
   "language": "python",
   "name": "python3"
  },
  "language_info": {
   "codemirror_mode": {
    "name": "ipython",
    "version": 3
   },
   "file_extension": ".py",
   "mimetype": "text/x-python",
   "name": "python",
   "nbconvert_exporter": "python",
   "pygments_lexer": "ipython3",
   "version": "3.9.4"
  }
 },
 "nbformat": 4,
 "nbformat_minor": 5
}
