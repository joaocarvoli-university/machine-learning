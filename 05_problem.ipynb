{
  "nbformat": 4,
  "nbformat_minor": 0,
  "metadata": {
    "colab": {
      "name": "05.-problem.ipynb",
      "provenance": [],
      "collapsed_sections": [],
      "mount_file_id": "1K3oVmw-1lxda5NIOIUHusy0CbPMtjIzH",
      "authorship_tag": "ABX9TyPq0XAona7NvGpjjJNEVbHL",
      "include_colab_link": true
    },
    "kernelspec": {
      "name": "python3",
      "display_name": "Python 3"
    },
    "language_info": {
      "name": "python"
    }
  },
  "cells": [
    {
      "cell_type": "markdown",
      "metadata": {
        "id": "view-in-github",
        "colab_type": "text"
      },
      "source": [
        "<a href=\"https://colab.research.google.com/github/joaocarvoli/MachineLearning-course/blob/main/05_problem.ipynb\" target=\"_parent\"><img src=\"https://colab.research.google.com/assets/colab-badge.svg\" alt=\"Open In Colab\"/></a>"
      ]
    },
    {
      "cell_type": "markdown",
      "metadata": {
        "id": "TDot1I8n-cqN"
      },
      "source": [
        "# Problem 05:\n",
        "## _In this exercise, the 05, We'll build the functions about classification and regression metrics. Building each one and  just using a piece of scikit learn._"
      ]
    },
    {
      "cell_type": "code",
      "metadata": {
        "id": "JVUz1NgGH51A"
      },
      "source": [
        "import numpy\n",
        "import pandas\n",
        "from sklearn import metrics\n",
        "from sklearn.neighbors import KNeighborsClassifier, KNeighborsRegressor\n",
        "from sklearn.model_selection import train_test_split\n",
        "import warnings\n",
        "warnings.filterwarnings('ignore')"
      ],
      "execution_count": 2,
      "outputs": []
    },
    {
      "cell_type": "markdown",
      "metadata": {
        "id": "IluKfOHwgIKa"
      },
      "source": [
        "## 0. Imports to test:"
      ]
    },
    {
      "cell_type": "markdown",
      "metadata": {
        "id": "4DZDx0rsDuqo"
      },
      "source": [
        "### To classification:"
      ]
    },
    {
      "cell_type": "code",
      "metadata": {
        "colab": {
          "base_uri": "https://localhost:8080/"
        },
        "id": "rw6_E0dLgG44",
        "outputId": "cb11e691-d618-49b4-e154-7c08e3bbd70e"
      },
      "source": [
        "# I'M IMPORTING THIS DATASET JUST TO TEST AND COMPARE THE REGRESSION METRICS AND TO TEST CLASSIFICATION METRICS\n",
        "white_wine = pandas.read_csv('/content/drive/MyDrive/data-sets/winequality/winequality-white.csv', nrows = 50, delimiter=';')\n",
        "X = white_wine.iloc[:,:11]\n",
        "y = white_wine.iloc[:,11:]\n",
        "X_train, X_test, y_train, y_test = train_test_split(X, y, test_size = 0.3, random_state = 42)\n",
        "\n",
        "# Just training the K-neighbors-nearest and K-neighbors-regressor without parameters adjust, just to test:\n",
        "\n",
        "# KNN - Classification\n",
        "\n",
        "model_class = KNeighborsClassifier(n_neighbors = 5, weights = 'distance')\n",
        "model_class.fit(X_train, y_train.values.ravel())\n",
        "\n",
        "y_pred_classification = model_class.predict(X_test)\n",
        "y_test = numpy.array(y_test['quality'].values)\n",
        "print(y_pred_classification, type(y_pred_classification))\n",
        "print(y_test, type(y_test))"
      ],
      "execution_count": 3,
      "outputs": [
        {
          "output_type": "stream",
          "text": [
            "[6 5 6 6 8 6 6 5 6 6 5 6 6 6 6] <class 'numpy.ndarray'>\n",
            "[7 5 6 7 8 6 6 6 6 5 5 6 6 6 6] <class 'numpy.ndarray'>\n"
          ],
          "name": "stdout"
        }
      ]
    },
    {
      "cell_type": "markdown",
      "metadata": {
        "id": "7wKaQQVXDyRW"
      },
      "source": [
        "### To regression"
      ]
    },
    {
      "cell_type": "code",
      "metadata": {
        "colab": {
          "base_uri": "https://localhost:8080/"
        },
        "id": "snZdG0t1D1Ux",
        "outputId": "0e049906-b02c-4278-a2d2-03351deea076"
      },
      "source": [
        "model_regressor = KNeighborsRegressor(n_neighbors = 5, weights = 'distance')\n",
        "model_regressor.fit(X_train, y_train.values.ravel())\n",
        "\n",
        "y_pred_regressor = model_regressor.predict(X_test)\n",
        "print(y_pred_regressor, type(y_pred_regressor), y_pred_regressor.shape)\n",
        "print(y_test, type(y_test), y_test.shape)"
      ],
      "execution_count": 4,
      "outputs": [
        {
          "output_type": "stream",
          "text": [
            "[5.59996293 5.         5.77120026 5.61408753 8.         6.\n",
            " 5.60946758 4.86727729 6.17614042 6.14931754 6.42046739 5.26298858\n",
            " 5.82553765 6.         5.26298858] <class 'numpy.ndarray'> (15,)\n",
            "[7 5 6 7 8 6 6 6 6 5 5 6 6 6 6] <class 'numpy.ndarray'> (15,)\n"
          ],
          "name": "stdout"
        }
      ]
    },
    {
      "cell_type": "markdown",
      "metadata": {
        "id": "f1WKJyFVIHy4"
      },
      "source": [
        "## 1. Classification:"
      ]
    },
    {
      "cell_type": "code",
      "metadata": {
        "id": "oswnQR4jIE5c"
      },
      "source": [
        "y_true = numpy.array(['dog', 'dog', 'dog', 'dog', 'dog', 'dog',\n",
        "    'cat', 'cat', 'cat', 'cat', 'cat', 'cat', 'cat', 'cat',      \n",
        "     'rabbit', 'rabbit', 'rabbit', 'rabbit', 'rabbit', 'rabbit', 'rabbit', 'rabbit',\n",
        "     'rabbit', 'rabbit', 'rabbit', 'rabbit', 'rabbit'])\n",
        "\n",
        "y_pred = numpy.array(['dog', 'dog', 'dog', 'rabbit', 'cat', 'cat',\n",
        "     'cat', 'cat', 'cat', 'cat', 'cat', 'dog', 'dog', 'dog', \n",
        "     'dog', 'dog', 'rabbit', 'rabbit', 'rabbit', 'rabbit', 'rabbit', 'rabbit',\n",
        "     'rabbit', 'rabbit', 'rabbit', 'rabbit', 'rabbit'])"
      ],
      "execution_count": 7,
      "outputs": []
    },
    {
      "cell_type": "markdown",
      "metadata": {
        "id": "Ds4s9ophLsGZ"
      },
      "source": [
        "### Accuracy:"
      ]
    },
    {
      "cell_type": "code",
      "metadata": {
        "id": "SzyaNc7gINmh"
      },
      "source": [
        "def accuracy(y_true:numpy.array, y_pred:numpy.array): \n",
        "    equals = numpy.count_nonzero(y_true == y_pred, axis = 0)\n",
        "    accuracy = equals / numpy.count_nonzero(y_pred, axis = 0)\n",
        "    return accuracy"
      ],
      "execution_count": null,
      "outputs": []
    },
    {
      "cell_type": "code",
      "metadata": {
        "colab": {
          "base_uri": "https://localhost:8080/"
        },
        "id": "wVI3Ds7GK2MM",
        "outputId": "cf79af12-9aef-428a-962a-4e4c84fd0aac"
      },
      "source": [
        "accuracy(y_true, y_pred)"
      ],
      "execution_count": null,
      "outputs": [
        {
          "output_type": "execute_result",
          "data": {
            "text/plain": [
              "0.7037037037037037"
            ]
          },
          "metadata": {
            "tags": []
          },
          "execution_count": 19
        }
      ]
    },
    {
      "cell_type": "markdown",
      "metadata": {
        "id": "ADpGBdoNbNfL"
      },
      "source": [
        "### _Accuracy: Using Sckit Learn_\n"
      ]
    },
    {
      "cell_type": "code",
      "metadata": {
        "colab": {
          "base_uri": "https://localhost:8080/"
        },
        "id": "mmU7PXjzbguy",
        "outputId": "82855c46-5fe6-44fc-b110-24fde99d8302"
      },
      "source": [
        "metrics.accuracy_score(y_true, y_pred)"
      ],
      "execution_count": null,
      "outputs": [
        {
          "output_type": "execute_result",
          "data": {
            "text/plain": [
              "0.7037037037037037"
            ]
          },
          "metadata": {
            "tags": []
          },
          "execution_count": 20
        }
      ]
    },
    {
      "cell_type": "markdown",
      "metadata": {
        "id": "L0493L8WYBo_"
      },
      "source": [
        "### Precision:"
      ]
    },
    {
      "cell_type": "code",
      "metadata": {
        "id": "lOXXwN1rMDB8"
      },
      "source": [
        "def precision(y_true: numpy.array, y_pred:numpy.array):\n",
        "    classes_precision = []\n",
        "    matrix = metrics.confusion_matrix(y_true, y_pred)\n",
        "    classes = matrix.shape[1]\n",
        "\n",
        "    for i in range(1, classes + 1):\n",
        "        true_positive = matrix[i-1:i,i-1:i]\n",
        "        false_positive = numpy.sum(matrix[:,i-1:i])  - matrix[i-1:i,i-1:i]\n",
        "\n",
        "        precision = numpy.array(true_positive / (true_positive + false_positive))\n",
        "        # If a NaN exists...\n",
        "        precision = numpy.nan_to_num(precision)\n",
        "\n",
        "        classes_precision.append(precision)\n",
        "\n",
        "    # Calculating Precision Weighted of each class and doing the mean\n",
        "    unique, weights = numpy.unique(y_true, return_counts=True)\n",
        "    del unique\n",
        "    weights = numpy.array(weights)   \n",
        "    weighted_mean = numpy.repeat(classes_precision, weights).mean()\n",
        "    weighted_mean = float(weighted_mean)\n",
        "    # Return the weighted mean of precisions\n",
        "    return weighted_mean"
      ],
      "execution_count": null,
      "outputs": []
    },
    {
      "cell_type": "code",
      "metadata": {
        "colab": {
          "base_uri": "https://localhost:8080/"
        },
        "id": "MSmT84L7mrGp",
        "outputId": "503cf947-a813-4c91-923f-1656a7ff5762"
      },
      "source": [
        "precision(y_true, y_pred)"
      ],
      "execution_count": null,
      "outputs": [
        {
          "output_type": "execute_result",
          "data": {
            "text/plain": [
              "0.7363315696649031"
            ]
          },
          "metadata": {
            "tags": []
          },
          "execution_count": 22
        }
      ]
    },
    {
      "cell_type": "markdown",
      "metadata": {
        "id": "H32R7H2LbELV"
      },
      "source": [
        "### _Precision: Using Sckit Learn_"
      ]
    },
    {
      "cell_type": "code",
      "metadata": {
        "colab": {
          "base_uri": "https://localhost:8080/"
        },
        "id": "hCo3zDGyYL7I",
        "outputId": "a313fb8f-b053-4e37-995c-ec49aa942c69"
      },
      "source": [
        "metrics.precision_score(y_true, y_pred, average= 'weighted')"
      ],
      "execution_count": null,
      "outputs": [
        {
          "output_type": "execute_result",
          "data": {
            "text/plain": [
              "0.736331569664903"
            ]
          },
          "metadata": {
            "tags": []
          },
          "execution_count": 23
        }
      ]
    },
    {
      "cell_type": "markdown",
      "metadata": {
        "id": "_d8NyRhJcOfM"
      },
      "source": [
        "### Recall:"
      ]
    },
    {
      "cell_type": "code",
      "metadata": {
        "id": "UVyPkmT8fyo3"
      },
      "source": [
        "def recall(y_true: numpy.array, y_pred:numpy.array):\n",
        "    classes_recall = []\n",
        "    matrix = metrics.confusion_matrix(y_true, y_pred)\n",
        "    classes = matrix.shape[1]\n",
        "\n",
        "    for i in range(1, classes + 1):\n",
        "        true_positive = matrix[i-1:i,i-1:i]\n",
        "        false_positive = numpy.sum(matrix[i-1:i,:])  - matrix[i-1:i,i-1:i]\n",
        "\n",
        "        recall = numpy.array(true_positive / (true_positive + false_positive))\n",
        "        # If a NaN exists...\n",
        "        recall = numpy.nan_to_num(recall)\n",
        "\n",
        "        classes_recall.append(recall)\n",
        "\n",
        "    # Calculating Precision Weighted of each class and doing the mean\n",
        "    unique, weights = numpy.unique(y_true, return_counts=True)\n",
        "    del unique\n",
        "    weights = numpy.array(weights)   \n",
        "    recall_mean = numpy.repeat(classes_recall, weights).mean()\n",
        "    recall_mean = float(recall_mean)\n",
        "    # Return the weighted mean of precisions\n",
        "    return recall_mean"
      ],
      "execution_count": 13,
      "outputs": []
    },
    {
      "cell_type": "code",
      "metadata": {
        "colab": {
          "base_uri": "https://localhost:8080/"
        },
        "id": "BkHuwIacgVh6",
        "outputId": "0e9857f0-7faa-45c5-e4eb-c3ebd33f26e0"
      },
      "source": [
        "recall(y_true, y_pred)"
      ],
      "execution_count": 14,
      "outputs": [
        {
          "output_type": "execute_result",
          "data": {
            "text/plain": [
              "0.7037037037037037"
            ]
          },
          "metadata": {
            "tags": []
          },
          "execution_count": 14
        }
      ]
    },
    {
      "cell_type": "markdown",
      "metadata": {
        "id": "uZ434uo6g6uE"
      },
      "source": [
        "### _Recall: Using Sckit Learn_"
      ]
    },
    {
      "cell_type": "code",
      "metadata": {
        "colab": {
          "base_uri": "https://localhost:8080/"
        },
        "id": "jngo9o81g184",
        "outputId": "d7469401-abb4-406d-91c2-29788940ff45"
      },
      "source": [
        "metrics.recall_score(y_true, y_pred, average= 'weighted')"
      ],
      "execution_count": null,
      "outputs": [
        {
          "output_type": "execute_result",
          "data": {
            "text/plain": [
              "0.7037037037037037"
            ]
          },
          "metadata": {
            "tags": []
          },
          "execution_count": 26
        }
      ]
    },
    {
      "cell_type": "markdown",
      "metadata": {
        "id": "13jdHA9yhqXV"
      },
      "source": [
        "### $F1$ - Measure:"
      ]
    },
    {
      "cell_type": "code",
      "metadata": {
        "id": "fOp5JKuZhptK"
      },
      "source": [
        "def f1_score(y_true: numpy.array, y_pred:numpy.array, recall, precision):\n",
        "    f1 = (2*precision_res*recall_res) / (precision_res + recall_res)\n",
        "    return f1"
      ],
      "execution_count": null,
      "outputs": []
    },
    {
      "cell_type": "code",
      "metadata": {
        "colab": {
          "base_uri": "https://localhost:8080/"
        },
        "id": "n4d_WGxdiT9q",
        "outputId": "db102d0a-e968-4b30-8a65-7ea609d59bed"
      },
      "source": [
        "recall_res = recall(y_true, y_pred)\n",
        "precision_res = precision(y_true, y_pred)\n",
        "\n",
        "f1_score(y_true, y_pred, recall = recall_res, precision = precision_res)"
      ],
      "execution_count": null,
      "outputs": [
        {
          "output_type": "execute_result",
          "data": {
            "text/plain": [
              "0.7196480007257717"
            ]
          },
          "metadata": {
            "tags": []
          },
          "execution_count": 28
        }
      ]
    },
    {
      "cell_type": "markdown",
      "metadata": {
        "id": "GorXre29jTZa"
      },
      "source": [
        "### _$F1 - Score$: Using Sckit Learn_"
      ]
    },
    {
      "cell_type": "code",
      "metadata": {
        "colab": {
          "base_uri": "https://localhost:8080/"
        },
        "id": "bxqNKyEyjTsu",
        "outputId": "8d883151-61b4-43f4-dc94-946f55636445"
      },
      "source": [
        "metrics.f1_score(y_true, y_pred, average  = 'weighted')"
      ],
      "execution_count": null,
      "outputs": [
        {
          "output_type": "execute_result",
          "data": {
            "text/plain": [
              "0.7164726631393298"
            ]
          },
          "metadata": {
            "tags": []
          },
          "execution_count": 29
        }
      ]
    },
    {
      "cell_type": "markdown",
      "metadata": {
        "id": "IEFnsxStn24I"
      },
      "source": [
        "#### _The above results are slightly different due to rounding_"
      ]
    },
    {
      "cell_type": "markdown",
      "metadata": {
        "id": "0IO_jftZFTFX"
      },
      "source": [
        "\n",
        "\n",
        "------\n",
        "\n"
      ]
    },
    {
      "cell_type": "markdown",
      "metadata": {
        "id": "IRfhrQomoJjQ"
      },
      "source": [
        "## Testing in a bigger problem:"
      ]
    },
    {
      "cell_type": "markdown",
      "metadata": {
        "id": "FqUnQVQJtqDq"
      },
      "source": [
        "### 1.1 Accuracy:"
      ]
    },
    {
      "cell_type": "code",
      "metadata": {
        "colab": {
          "base_uri": "https://localhost:8080/"
        },
        "id": "wW6VA_dUs4AM",
        "outputId": "eb92cce2-e9d6-4606-a804-3c58fe483e53"
      },
      "source": [
        "accuracy(y_true=y_test, y_pred=y_pred_classification)"
      ],
      "execution_count": null,
      "outputs": [
        {
          "output_type": "execute_result",
          "data": {
            "text/plain": [
              "0.7333333333333333"
            ]
          },
          "metadata": {
            "tags": []
          },
          "execution_count": 30
        }
      ]
    },
    {
      "cell_type": "code",
      "metadata": {
        "colab": {
          "base_uri": "https://localhost:8080/"
        },
        "id": "l0lFrvmxqKDe",
        "outputId": "01cac3e7-4f67-4455-e314-359a651b4f04"
      },
      "source": [
        "metrics.accuracy_score(y_true=y_test, y_pred=y_pred_classification)"
      ],
      "execution_count": null,
      "outputs": [
        {
          "output_type": "execute_result",
          "data": {
            "text/plain": [
              "0.7333333333333333"
            ]
          },
          "metadata": {
            "tags": []
          },
          "execution_count": 31
        }
      ]
    },
    {
      "cell_type": "markdown",
      "metadata": {
        "id": "9Gt-bAyztyjN"
      },
      "source": [
        "### 1.2 Recall:"
      ]
    },
    {
      "cell_type": "code",
      "metadata": {
        "colab": {
          "base_uri": "https://localhost:8080/"
        },
        "id": "JqGUGJf_t3zs",
        "outputId": "4058788a-e825-47a1-8e21-c9ab47489d01"
      },
      "source": [
        "recall(y_true=y_test, y_pred=y_pred_classification)"
      ],
      "execution_count": null,
      "outputs": [
        {
          "output_type": "execute_result",
          "data": {
            "text/plain": [
              "0.7333333333333333"
            ]
          },
          "metadata": {
            "tags": []
          },
          "execution_count": 32
        }
      ]
    },
    {
      "cell_type": "code",
      "metadata": {
        "colab": {
          "base_uri": "https://localhost:8080/"
        },
        "id": "DNqaUSGDt9q-",
        "outputId": "761bf9fb-a4f0-4264-c360-9309057f3086"
      },
      "source": [
        "metrics.recall_score(y_true=y_test, y_pred=y_pred_classification, average= 'weighted')"
      ],
      "execution_count": null,
      "outputs": [
        {
          "output_type": "execute_result",
          "data": {
            "text/plain": [
              "0.7333333333333333"
            ]
          },
          "metadata": {
            "tags": []
          },
          "execution_count": 33
        }
      ]
    },
    {
      "cell_type": "markdown",
      "metadata": {
        "id": "iZCHf6GAuLzx"
      },
      "source": [
        "### 1.3 Precision:\n"
      ]
    },
    {
      "cell_type": "code",
      "metadata": {
        "colab": {
          "base_uri": "https://localhost:8080/"
        },
        "id": "umEcDMToCkCZ",
        "outputId": "a1659d45-1e96-4f14-f5ac-fe03fabbac4e"
      },
      "source": [
        "precision(y_true=y_test, y_pred=y_pred_classification)"
      ],
      "execution_count": null,
      "outputs": [
        {
          "output_type": "execute_result",
          "data": {
            "text/plain": [
              "0.6363636363636365"
            ]
          },
          "metadata": {
            "tags": []
          },
          "execution_count": 34
        }
      ]
    },
    {
      "cell_type": "code",
      "metadata": {
        "colab": {
          "base_uri": "https://localhost:8080/"
        },
        "id": "PHaUfxgEuS9g",
        "outputId": "4aba1b35-ac78-43f5-cf97-5f068b6b3c77"
      },
      "source": [
        "metrics.precision_score(y_true=y_test, y_pred=y_pred_classification, average= 'weighted')"
      ],
      "execution_count": null,
      "outputs": [
        {
          "output_type": "execute_result",
          "data": {
            "text/plain": [
              "0.6363636363636365"
            ]
          },
          "metadata": {
            "tags": []
          },
          "execution_count": 35
        }
      ]
    },
    {
      "cell_type": "markdown",
      "metadata": {
        "id": "3VZ1aCl2C3_p"
      },
      "source": [
        "### 1.4 $F1 - Score:$"
      ]
    },
    {
      "cell_type": "code",
      "metadata": {
        "colab": {
          "base_uri": "https://localhost:8080/"
        },
        "id": "MxizsH7qC-I1",
        "outputId": "7a25eafe-46ca-4b4a-db5b-11dbb5903316"
      },
      "source": [
        "recall_res = recall(y_test, y_pred_classification)\n",
        "precision_res = precision(y_test, y_pred_classification)\n",
        "\n",
        "f1_score(y_true, y_pred, recall = recall_res, precision = precision_res)"
      ],
      "execution_count": null,
      "outputs": [
        {
          "output_type": "execute_result",
          "data": {
            "text/plain": [
              "0.68141592920354"
            ]
          },
          "metadata": {
            "tags": []
          },
          "execution_count": 36
        }
      ]
    },
    {
      "cell_type": "code",
      "metadata": {
        "colab": {
          "base_uri": "https://localhost:8080/"
        },
        "id": "cV67s4FKDc_d",
        "outputId": "22e0fcd1-f49f-41ad-a350-7cfd79e6e7a9"
      },
      "source": [
        "metrics.f1_score(y_true=y_test, y_pred=y_pred_classification, average= 'weighted')"
      ],
      "execution_count": null,
      "outputs": [
        {
          "output_type": "execute_result",
          "data": {
            "text/plain": [
              "0.6799999999999999"
            ]
          },
          "metadata": {
            "tags": []
          },
          "execution_count": 37
        }
      ]
    },
    {
      "cell_type": "markdown",
      "metadata": {
        "id": "pYNIX3GTDjEu"
      },
      "source": [
        "#### _The above results are slightly different due to rounding_"
      ]
    },
    {
      "cell_type": "markdown",
      "metadata": {
        "id": "baCzVNLjFchh"
      },
      "source": [
        "\n",
        "\n",
        "------\n",
        "\n"
      ]
    },
    {
      "cell_type": "markdown",
      "metadata": {
        "id": "qlZk3UfOoJ5o"
      },
      "source": [
        "## 2. Regression: "
      ]
    },
    {
      "cell_type": "markdown",
      "metadata": {
        "id": "QmdhOAL5d4M5"
      },
      "source": [
        "#### MEA: "
      ]
    },
    {
      "cell_type": "code",
      "metadata": {
        "id": "aL9r0GE8GQ-d"
      },
      "source": [
        "def mea(y_true: numpy.array, y_pred:numpy.array):\n",
        "    mea = (1/y_pred.shape[0])*(numpy.sum(abs(y_pred - y_true)))\n",
        "    return mea"
      ],
      "execution_count": null,
      "outputs": []
    },
    {
      "cell_type": "code",
      "metadata": {
        "colab": {
          "base_uri": "https://localhost:8080/"
        },
        "id": "UfSIFibiHo68",
        "outputId": "abbbad9f-4cab-411b-9c08-64b08bdc64ff"
      },
      "source": [
        "mea(y_true=y_test, y_pred=y_pred_classification)"
      ],
      "execution_count": null,
      "outputs": [
        {
          "output_type": "execute_result",
          "data": {
            "text/plain": [
              "0.26666666666666666"
            ]
          },
          "metadata": {
            "tags": []
          },
          "execution_count": 39
        }
      ]
    },
    {
      "cell_type": "markdown",
      "metadata": {
        "id": "76q3CDesH4SM"
      },
      "source": [
        "### _MEA: Using Sckit Learn_"
      ]
    },
    {
      "cell_type": "code",
      "metadata": {
        "colab": {
          "base_uri": "https://localhost:8080/"
        },
        "id": "J_NFkfwAGgc3",
        "outputId": "290d98b3-892e-4c9b-8e61-6f224f1e05b8"
      },
      "source": [
        "metrics.mean_absolute_error(y_true=y_test, y_pred=y_pred_classification)"
      ],
      "execution_count": null,
      "outputs": [
        {
          "output_type": "execute_result",
          "data": {
            "text/plain": [
              "0.26666666666666666"
            ]
          },
          "metadata": {
            "tags": []
          },
          "execution_count": 40
        }
      ]
    },
    {
      "cell_type": "markdown",
      "metadata": {
        "id": "C4y6vI9FH_fe"
      },
      "source": [
        "### RMSE & MSE"
      ]
    },
    {
      "cell_type": "code",
      "metadata": {
        "id": "rejDKnyzIaB_"
      },
      "source": [
        "def mse(y_true: numpy.array, y_pred:numpy.array):\n",
        "    mse = (1/y_pred.shape[0])*(numpy.sum((y_pred - y_true)**2))\n",
        "    return mse"
      ],
      "execution_count": null,
      "outputs": []
    },
    {
      "cell_type": "code",
      "metadata": {
        "colab": {
          "base_uri": "https://localhost:8080/"
        },
        "id": "ovFyo7gfIit4",
        "outputId": "971f2355-29ab-4bc4-8785-d288544f3083"
      },
      "source": [
        "print('MSE: ', mse(y_true=y_test, y_pred=y_pred_classification))\n",
        "print('RMSE:', mse(y_true=y_test, y_pred=y_pred_classification)*0.5)"
      ],
      "execution_count": null,
      "outputs": [
        {
          "output_type": "stream",
          "text": [
            "MSE:  0.26666666666666666\n",
            "RMSE: 0.13333333333333333\n"
          ],
          "name": "stdout"
        }
      ]
    },
    {
      "cell_type": "markdown",
      "metadata": {
        "id": "tDRJXzvSIpsm"
      },
      "source": [
        "### _RMSE & MSE: Using Sckit Learn_"
      ]
    },
    {
      "cell_type": "code",
      "metadata": {
        "colab": {
          "base_uri": "https://localhost:8080/"
        },
        "id": "F2IsdkYkIthK",
        "outputId": "aff06e7a-85d3-4a22-cc72-ac5dbaac7e67"
      },
      "source": [
        "print(metrics.mean_squared_error(y_true=y_test, y_pred=y_pred_classification))\n",
        "print(metrics.mean_squared_error(y_true=y_test, y_pred=y_pred_classification)*0.5)"
      ],
      "execution_count": null,
      "outputs": [
        {
          "output_type": "stream",
          "text": [
            "0.26666666666666666\n",
            "0.13333333333333333\n"
          ],
          "name": "stdout"
        }
      ]
    },
    {
      "cell_type": "markdown",
      "metadata": {
        "id": "XwpqKCobJG4g"
      },
      "source": [
        "### _The application of these functions has already done in_ [`4.2 Exercise`](https://nbviewer.jupyter.org/github/joaocarvoli/MachineLearning-course/blob/main/Exercises/04.2-problem.ipynb), _see there!_"
      ]
    }
  ]
}